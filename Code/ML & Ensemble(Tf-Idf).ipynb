{
  "cells": [
    {
      "cell_type": "code",
      "execution_count": null,
      "metadata": {
        "colab": {
          "base_uri": "https://localhost:8080/"
        },
        "id": "LwIo4_r9tLcE",
        "outputId": "a0d15020-91b2-43e9-ce5d-f1e454526169"
      },
      "outputs": [
        {
          "output_type": "stream",
          "name": "stdout",
          "text": [
            "Drive already mounted at /content/drive; to attempt to forcibly remount, call drive.mount(\"/content/drive\", force_remount=True).\n"
          ]
        }
      ],
      "source": [
        "from google.colab import drive\n",
        "drive.mount('/content/drive')"
      ]
    },
    {
      "cell_type": "code",
      "execution_count": null,
      "metadata": {
        "id": "wPiEPEl2pg7i"
      },
      "outputs": [],
      "source": [
        "from sklearn.ensemble import BaggingClassifier\n",
        "from sklearn.tree import DecisionTreeClassifier\n",
        "from sklearn.datasets import make_classification\n",
        "from sklearn.model_selection import train_test_split\n",
        "from sklearn.datasets import load_breast_cancer\n",
        "from sklearn.ensemble import RandomForestClassifier, GradientBoostingClassifier\n",
        "from sklearn.linear_model import LogisticRegression\n",
        "from sklearn.metrics import accuracy_score\n",
        "from sklearn.model_selection import train_test_split, KFold\n",
        "from sklearn.pipeline import make_pipeline\n",
        "from sklearn.preprocessing import StandardScaler\n",
        "from sklearn.ensemble import StackingClassifier\n",
        "from sklearn.datasets import load_iris\n",
        "from sklearn.ensemble import VotingClassifier\n",
        "from sklearn.linear_model import LogisticRegression\n",
        "from sklearn.naive_bayes import GaussianNB\n",
        "from sklearn.neighbors import KNeighborsClassifier\n",
        "from sklearn.model_selection import train_test_split\n",
        "from sklearn.metrics import accuracy_score\n",
        "import numpy as np\n",
        "import pandas as pd\n",
        "import matplotlib.pyplot as plt\n",
        "%matplotlib inline\n",
        "import seaborn as sns\n",
        "import re,json,nltk\n",
        "from sklearn.preprocessing import LabelEncoder\n",
        "from sklearn.feature_extraction.text import TfidfVectorizer\n",
        "from sklearn.model_selection import train_test_split\n",
        "from sklearn.metrics import classification_report,accuracy_score,precision_score,recall_score,f1_score\n",
        "from tensorflow.keras.preprocessing.text import Tokenizer\n",
        "from sklearn.linear_model import LogisticRegression\n",
        "from sklearn.tree import DecisionTreeClassifier\n",
        "from sklearn.ensemble import RandomForestClassifier\n",
        "from sklearn.naive_bayes import MultinomialNB\n",
        "from sklearn.neighbors import KNeighborsClassifier\n",
        "from sklearn.svm import SVC\n",
        "from sklearn.linear_model import SGDClassifier\n",
        "from sklearn.metrics import classification_report,accuracy_score,precision_score,recall_score,f1_score\n",
        "from sklearn.metrics import roc_curve, roc_auc_score\n",
        "from sklearn.metrics import average_precision_score,roc_auc_score, roc_curve, precision_recall_curve\n",
        "\n",
        "import numpy as np\n",
        "import pandas as pd\n",
        "import matplotlib.pyplot as plt\n",
        "%matplotlib inline\n",
        "import seaborn as sns\n",
        "import re,json,nltk\n",
        "from sklearn.preprocessing import LabelEncoder\n",
        "from sklearn.feature_extraction.text import TfidfVectorizer\n",
        "from sklearn.model_selection import train_test_split\n",
        "from sklearn.metrics import classification_report,accuracy_score,precision_score,recall_score,f1_score\n",
        "from tensorflow.keras.preprocessing.text import Tokenizer\n",
        "from sklearn.linear_model import LogisticRegression\n",
        "from sklearn.tree import DecisionTreeClassifier\n",
        "from sklearn.ensemble import RandomForestClassifier\n",
        "from sklearn.naive_bayes import MultinomialNB\n",
        "from sklearn.neighbors import KNeighborsClassifier\n",
        "from sklearn.naive_bayes import GaussianNB\n",
        "from sklearn.svm import SVC\n",
        "from sklearn.linear_model import SGDClassifier\n",
        "from sklearn.metrics import classification_report,accuracy_score,precision_score,recall_score,f1_score\n",
        "from sklearn.metrics import roc_curve, roc_auc_score\n",
        "from sklearn.metrics import average_precision_score,roc_auc_score, roc_curve, precision_recall_curve\n",
        "from sklearn.metrics import f1_score\n",
        "from sklearn.metrics import recall_score\n",
        "from sklearn.metrics import recall_score\n",
        "from sklearn.metrics import confusion_matrix\n",
        "from sklearn.metrics import accuracy_score, f1_score, precision_score, recall_score\n",
        "from sklearn.metrics import ConfusionMatrixDisplay,confusion_matrix,roc_auc_score,roc_curve,auc\n",
        "import string\n",
        "path ='/content/drive/MyDrive/text_classification/' "
      ]
    },
    {
      "cell_type": "code",
      "execution_count": null,
      "metadata": {
        "colab": {
          "base_uri": "https://localhost:8080/"
        },
        "id": "UNOOmjpTuB78",
        "outputId": "6273dcbb-6d1d-4060-a129-a92db57d2852"
      },
      "outputs": [
        {
          "output_type": "stream",
          "name": "stdout",
          "text": [
            "Total Reviews: 4404 \n",
            "Total Correct Sentences: 2156 \n",
            "Total Inorrect Sentences: 2248\n"
          ]
        }
      ],
      "source": [
        "# Read the data and take only 1000 Reviews\n",
        "data = pd.read_excel(path+'123.xlsx')\n",
        "print(\"Total Reviews:\",len(data),\n",
        "      \"\\nTotal Correct Sentences:\",len(data[data.category=='correct']),\n",
        "      \"\\nTotal Inorrect Sentences:\",len(data[data.category=='incorrect']))"
      ]
    },
    {
      "cell_type": "code",
      "execution_count": null,
      "metadata": {
        "colab": {
          "base_uri": "https://localhost:8080/",
          "height": 424
        },
        "id": "M9ZCWchMuYp9",
        "outputId": "3741daa6-ef22-484c-af05-27f41e08c78e"
      },
      "outputs": [
        {
          "output_type": "execute_result",
          "data": {
            "text/plain": [
              "                                              content   category\n",
              "0             আপনার সাথে আমার একটি গোপন পরার্মশ আছে ।  incorrect\n",
              "1          আপনার সঙ্গে আমার একটি গোপনীয় পরার্মশ আছে ।    correct\n",
              "2             তোমার সাথে আমার একটি গোপন পরার্মশ আছে ।  incorrect\n",
              "3          তোমার সঙ্গে আমার একটি গোপনীয় পরামর্শ আছে ।    correct\n",
              "4        মনে রাখবে আবশ্যকীয় ব্যয়ে কার্পণ্যতা অনুচিৎ ।  incorrect\n",
              "...                                               ...        ...\n",
              "4399       মূমুর্ষু অবস্থায় স্যার হাসপাতালে রয়েছেন  ।  incorrect\n",
              "4400  মূমুর্ষু অবস্থায় রহিম সাহেব হাসপাতালে রয়েছেন  ।  incorrect\n",
              "4401    তার দুর্নীবার ইচ্ছা শক্তি বাধা অতিক্রম করবে ।  incorrect\n",
              "4402                           ব্যাকরন বইটি নিয়ে আসো।  incorrect\n",
              "4403                            আমার ব্যাকরন বই নেয় ।  incorrect\n",
              "\n",
              "[4404 rows x 2 columns]"
            ],
            "text/html": [
              "\n",
              "  <div id=\"df-fd5cdcbb-7058-47fe-8978-87eea0710d1c\">\n",
              "    <div class=\"colab-df-container\">\n",
              "      <div>\n",
              "<style scoped>\n",
              "    .dataframe tbody tr th:only-of-type {\n",
              "        vertical-align: middle;\n",
              "    }\n",
              "\n",
              "    .dataframe tbody tr th {\n",
              "        vertical-align: top;\n",
              "    }\n",
              "\n",
              "    .dataframe thead th {\n",
              "        text-align: right;\n",
              "    }\n",
              "</style>\n",
              "<table border=\"1\" class=\"dataframe\">\n",
              "  <thead>\n",
              "    <tr style=\"text-align: right;\">\n",
              "      <th></th>\n",
              "      <th>content</th>\n",
              "      <th>category</th>\n",
              "    </tr>\n",
              "  </thead>\n",
              "  <tbody>\n",
              "    <tr>\n",
              "      <th>0</th>\n",
              "      <td>আপনার সাথে আমার একটি গোপন পরার্মশ আছে ।</td>\n",
              "      <td>incorrect</td>\n",
              "    </tr>\n",
              "    <tr>\n",
              "      <th>1</th>\n",
              "      <td>আপনার সঙ্গে আমার একটি গোপনীয় পরার্মশ আছে ।</td>\n",
              "      <td>correct</td>\n",
              "    </tr>\n",
              "    <tr>\n",
              "      <th>2</th>\n",
              "      <td>তোমার সাথে আমার একটি গোপন পরার্মশ আছে ।</td>\n",
              "      <td>incorrect</td>\n",
              "    </tr>\n",
              "    <tr>\n",
              "      <th>3</th>\n",
              "      <td>তোমার সঙ্গে আমার একটি গোপনীয় পরামর্শ আছে ।</td>\n",
              "      <td>correct</td>\n",
              "    </tr>\n",
              "    <tr>\n",
              "      <th>4</th>\n",
              "      <td>মনে রাখবে আবশ্যকীয় ব্যয়ে কার্পণ্যতা অনুচিৎ ।</td>\n",
              "      <td>incorrect</td>\n",
              "    </tr>\n",
              "    <tr>\n",
              "      <th>...</th>\n",
              "      <td>...</td>\n",
              "      <td>...</td>\n",
              "    </tr>\n",
              "    <tr>\n",
              "      <th>4399</th>\n",
              "      <td>মূমুর্ষু অবস্থায় স্যার হাসপাতালে রয়েছেন  ।</td>\n",
              "      <td>incorrect</td>\n",
              "    </tr>\n",
              "    <tr>\n",
              "      <th>4400</th>\n",
              "      <td>মূমুর্ষু অবস্থায় রহিম সাহেব হাসপাতালে রয়েছেন  ।</td>\n",
              "      <td>incorrect</td>\n",
              "    </tr>\n",
              "    <tr>\n",
              "      <th>4401</th>\n",
              "      <td>তার দুর্নীবার ইচ্ছা শক্তি বাধা অতিক্রম করবে ।</td>\n",
              "      <td>incorrect</td>\n",
              "    </tr>\n",
              "    <tr>\n",
              "      <th>4402</th>\n",
              "      <td>ব্যাকরন বইটি নিয়ে আসো।</td>\n",
              "      <td>incorrect</td>\n",
              "    </tr>\n",
              "    <tr>\n",
              "      <th>4403</th>\n",
              "      <td>আমার ব্যাকরন বই নেয় ।</td>\n",
              "      <td>incorrect</td>\n",
              "    </tr>\n",
              "  </tbody>\n",
              "</table>\n",
              "<p>4404 rows × 2 columns</p>\n",
              "</div>\n",
              "      <button class=\"colab-df-convert\" onclick=\"convertToInteractive('df-fd5cdcbb-7058-47fe-8978-87eea0710d1c')\"\n",
              "              title=\"Convert this dataframe to an interactive table.\"\n",
              "              style=\"display:none;\">\n",
              "        \n",
              "  <svg xmlns=\"http://www.w3.org/2000/svg\" height=\"24px\"viewBox=\"0 0 24 24\"\n",
              "       width=\"24px\">\n",
              "    <path d=\"M0 0h24v24H0V0z\" fill=\"none\"/>\n",
              "    <path d=\"M18.56 5.44l.94 2.06.94-2.06 2.06-.94-2.06-.94-.94-2.06-.94 2.06-2.06.94zm-11 1L8.5 8.5l.94-2.06 2.06-.94-2.06-.94L8.5 2.5l-.94 2.06-2.06.94zm10 10l.94 2.06.94-2.06 2.06-.94-2.06-.94-.94-2.06-.94 2.06-2.06.94z\"/><path d=\"M17.41 7.96l-1.37-1.37c-.4-.4-.92-.59-1.43-.59-.52 0-1.04.2-1.43.59L10.3 9.45l-7.72 7.72c-.78.78-.78 2.05 0 2.83L4 21.41c.39.39.9.59 1.41.59.51 0 1.02-.2 1.41-.59l7.78-7.78 2.81-2.81c.8-.78.8-2.07 0-2.86zM5.41 20L4 18.59l7.72-7.72 1.47 1.35L5.41 20z\"/>\n",
              "  </svg>\n",
              "      </button>\n",
              "      \n",
              "  <style>\n",
              "    .colab-df-container {\n",
              "      display:flex;\n",
              "      flex-wrap:wrap;\n",
              "      gap: 12px;\n",
              "    }\n",
              "\n",
              "    .colab-df-convert {\n",
              "      background-color: #E8F0FE;\n",
              "      border: none;\n",
              "      border-radius: 50%;\n",
              "      cursor: pointer;\n",
              "      display: none;\n",
              "      fill: #1967D2;\n",
              "      height: 32px;\n",
              "      padding: 0 0 0 0;\n",
              "      width: 32px;\n",
              "    }\n",
              "\n",
              "    .colab-df-convert:hover {\n",
              "      background-color: #E2EBFA;\n",
              "      box-shadow: 0px 1px 2px rgba(60, 64, 67, 0.3), 0px 1px 3px 1px rgba(60, 64, 67, 0.15);\n",
              "      fill: #174EA6;\n",
              "    }\n",
              "\n",
              "    [theme=dark] .colab-df-convert {\n",
              "      background-color: #3B4455;\n",
              "      fill: #D2E3FC;\n",
              "    }\n",
              "\n",
              "    [theme=dark] .colab-df-convert:hover {\n",
              "      background-color: #434B5C;\n",
              "      box-shadow: 0px 1px 3px 1px rgba(0, 0, 0, 0.15);\n",
              "      filter: drop-shadow(0px 1px 2px rgba(0, 0, 0, 0.3));\n",
              "      fill: #FFFFFF;\n",
              "    }\n",
              "  </style>\n",
              "\n",
              "      <script>\n",
              "        const buttonEl =\n",
              "          document.querySelector('#df-fd5cdcbb-7058-47fe-8978-87eea0710d1c button.colab-df-convert');\n",
              "        buttonEl.style.display =\n",
              "          google.colab.kernel.accessAllowed ? 'block' : 'none';\n",
              "\n",
              "        async function convertToInteractive(key) {\n",
              "          const element = document.querySelector('#df-fd5cdcbb-7058-47fe-8978-87eea0710d1c');\n",
              "          const dataTable =\n",
              "            await google.colab.kernel.invokeFunction('convertToInteractive',\n",
              "                                                     [key], {});\n",
              "          if (!dataTable) return;\n",
              "\n",
              "          const docLinkHtml = 'Like what you see? Visit the ' +\n",
              "            '<a target=\"_blank\" href=https://colab.research.google.com/notebooks/data_table.ipynb>data table notebook</a>'\n",
              "            + ' to learn more about interactive tables.';\n",
              "          element.innerHTML = '';\n",
              "          dataTable['output_type'] = 'display_data';\n",
              "          await google.colab.output.renderOutput(dataTable, element);\n",
              "          const docLink = document.createElement('div');\n",
              "          docLink.innerHTML = docLinkHtml;\n",
              "          element.appendChild(docLink);\n",
              "        }\n",
              "      </script>\n",
              "    </div>\n",
              "  </div>\n",
              "  "
            ]
          },
          "metadata": {},
          "execution_count": 36
        }
      ],
      "source": [
        "data"
      ]
    },
    {
      "cell_type": "code",
      "execution_count": null,
      "metadata": {
        "colab": {
          "base_uri": "https://localhost:8080/"
        },
        "id": "cQtbQdQLube0",
        "outputId": "84213eb8-c5cf-4cdf-b586-bd99be74a74c"
      },
      "outputs": [
        {
          "output_type": "stream",
          "name": "stdout",
          "text": [
            "এ বিষয়ে আপনারা সচেষ্ঠিত নহে । \n",
            " Language:--  incorrect \n",
            "\n",
            "খাই আমি ভাত । \n",
            " Language:--  incorrect \n",
            "\n",
            "আমি উহার উদ্ধতপূর্ণ আচারণে ব্যাথিত । \n",
            " Language:--  incorrect \n",
            "\n"
          ]
        }
      ],
      "source": [
        "# print some sentences\n",
        "sample_data = [10,100,150]\n",
        "for i in sample_data:\n",
        "      print(data.content[i],'\\n','Language:-- ',data.category[i],'\\n') "
      ]
    },
    {
      "cell_type": "code",
      "execution_count": null,
      "metadata": {
        "colab": {
          "base_uri": "https://localhost:8080/"
        },
        "id": "MmOu7yV1zrM4",
        "outputId": "94c16a76-0510-4ded-d476-fb2b3d5a4ff7"
      },
      "outputs": [
        {
          "output_type": "execute_result",
          "data": {
            "text/plain": [
              "0       1\n",
              "1       0\n",
              "2       1\n",
              "3       0\n",
              "4       1\n",
              "       ..\n",
              "4399    1\n",
              "4400    1\n",
              "4401    1\n",
              "4402    1\n",
              "4403    1\n",
              "Name: category, Length: 4404, dtype: int64"
            ]
          },
          "metadata": {},
          "execution_count": 38
        }
      ],
      "source": [
        "data['category'] = data.category.map({'correct':0,'incorrect':1})\n",
        "label= data.category\n",
        "label"
      ]
    },
    {
      "cell_type": "code",
      "execution_count": null,
      "metadata": {
        "id": "ud-GiC5busuL"
      },
      "outputs": [],
      "source": [
        "data['cleaned'] = data['content']"
      ]
    },
    {
      "cell_type": "code",
      "execution_count": null,
      "metadata": {
        "colab": {
          "base_uri": "https://localhost:8080/"
        },
        "id": "uM50lN5ku1QX",
        "outputId": "7ba8fc69-c107-4b57-c15d-6314e18c7000"
      },
      "outputs": [
        {
          "output_type": "stream",
          "name": "stdout",
          "text": [
            "After Cleaning: \n",
            "Removed 0 Small Reviews \n",
            "Total Reviews: 4404\n"
          ]
        }
      ],
      "source": [
        "# Length of each sentences\n",
        "data['length'] = data['cleaned'].apply(lambda x:len(x.split()))\n",
        "# Remove the sentences with least words\n",
        "dataset = data.loc[data.length>2]\n",
        "dataset = dataset.reset_index(drop = True)\n",
        "print(\"After Cleaning:\",\"\\nRemoved {} Small Reviews\".format(len(data)-len(dataset)),\n",
        "      \"\\nTotal Reviews:\",len(dataset))"
      ]
    },
    {
      "cell_type": "code",
      "execution_count": null,
      "metadata": {
        "colab": {
          "base_uri": "https://localhost:8080/"
        },
        "id": "gjFWigxpvFIA",
        "outputId": "1aa08fc0-d2ca-4615-c2f0-2da10c0a8b10"
      },
      "outputs": [
        {
          "output_type": "stream",
          "name": "stdout",
          "text": [
            "\n",
            "Class Name :  1\n",
            "Number of Documents:2248\n",
            "Number of Words:14808\n",
            "Number of Unique Words:1724\n",
            "Most Frequent Words:\n",
            "\n",
            "।\t2128\n",
            ",\t230\n",
            "না\t196\n",
            "বললেন\t142\n",
            "আমার\t128\n",
            "বলল\t104\n",
            "এ\t100\n",
            "তিনি\t100\n",
            "স্যার\t98\n",
            "আমি\t94\n",
            "\n",
            "Class Name :  0\n",
            "Number of Documents:2156\n",
            "Number of Words:13986\n",
            "Number of Unique Words:1650\n",
            "Most Frequent Words:\n",
            "\n",
            "।\t1996\n",
            ",\t224\n",
            "না\t172\n",
            "?\t138\n",
            "আমার\t128\n",
            "বললেন\t126\n",
            "এ\t100\n",
            "তিনি\t100\n",
            "বলল\t94\n",
            "সে\t90\n",
            "Total Number of Unique Words:2155\n"
          ]
        }
      ],
      "source": [
        "def data_summary(dataset):\n",
        "    \n",
        "    \"\"\"\n",
        "    This function will print the summary of the reviews and words distribution in the dataset. \n",
        "    \n",
        "    Args:\n",
        "        dataset: list of cleaned sentences   \n",
        "        \n",
        "    Returns:\n",
        "        Number of documnets per class: int \n",
        "        Number of words per class: int\n",
        "        Number of unique words per class: int\n",
        "    \"\"\"\n",
        "    documents = []\n",
        "    words = []\n",
        "    u_words = []\n",
        "    total_u_words = [word.strip().lower() for t in list(dataset.cleaned) for word in t.strip().split()]\n",
        "    class_label= [k for k,v in dataset.category.value_counts().to_dict().items()]\n",
        "  # find word list\n",
        "    for label in class_label: \n",
        "        word_list = [word.strip().lower() for t in list(dataset[dataset.category==label].cleaned) for word in t.strip().split()]\n",
        "        counts = dict()\n",
        "        for word in word_list:\n",
        "                counts[word] = counts.get(word, 0)+1\n",
        "        # sort the dictionary of word list  \n",
        "        ordered = sorted(counts.items(), key= lambda item: item[1],reverse = True)\n",
        "        # Documents per class\n",
        "        documents.append(len(list(dataset[dataset.category==label].cleaned)))\n",
        "        # Total Word per class\n",
        "        words.append(len(word_list))\n",
        "        # Unique words per class \n",
        "        u_words.append(len(np.unique(word_list)))\n",
        "       \n",
        "        print(\"\\nClass Name : \",label)\n",
        "        print(\"Number of Documents:{}\".format(len(list(dataset[dataset.category==label].cleaned))))  \n",
        "        print(\"Number of Words:{}\".format(len(word_list))) \n",
        "        print(\"Number of Unique Words:{}\".format(len(np.unique(word_list)))) \n",
        "        print(\"Most Frequent Words:\\n\")\n",
        "        for k,v in ordered[:10]:\n",
        "              print(\"{}\\t{}\".format(k,v))\n",
        "    print(\"Total Number of Unique Words:{}\".format(len(np.unique(total_u_words))))           \n",
        "   \n",
        "    return documents,words,u_words,class_label\n",
        "\n",
        "#call the fucntion\n",
        "documents,words,u_words,class_names = data_summary(dataset)    \n"
      ]
    },
    {
      "cell_type": "code",
      "execution_count": null,
      "metadata": {
        "colab": {
          "base_uri": "https://localhost:8080/",
          "height": 350
        },
        "id": "9-BNnViSvKTw",
        "outputId": "29dbfd23-ebd2-4fe9-a027-d7f3fb852804"
      },
      "outputs": [
        {
          "output_type": "display_data",
          "data": {
            "text/plain": [
              "<Figure size 864x360 with 1 Axes>"
            ],
            "image/png": "[encoded data removed]"
          },
          "metadata": {
            "needs_background": "light"
          }
        }
      ],
      "source": [
        "data_matrix = pd.DataFrame({'Total Documents':documents,\n",
        "                            'Total Words':words,\n",
        "                            'Unique Words':u_words,\n",
        "                            'Class Names':class_names})\n",
        "df = pd.melt(data_matrix, id_vars=\"Class Names\", var_name=\"Category\", value_name=\"Values\")\n",
        "plt.figure(figsize=(12, 5))\n",
        "ax = plt.subplot()\n",
        "\n",
        "sns.barplot(data=df,x='Class Names', y='Values' ,hue='Category')\n",
        "ax.set_xlabel('Class Names') \n",
        "ax.set_title('Data Statistics')\n",
        "\n",
        "ax.xaxis.set_ticklabels(class_names, rotation=0);"
      ]
    },
    {
      "cell_type": "code",
      "execution_count": null,
      "metadata": {
        "colab": {
          "base_uri": "https://localhost:8080/",
          "height": 347
        },
        "id": "mNqLQCh9vQWz",
        "outputId": "3474ff69-078c-4712-ef4c-c9edbd23e823"
      },
      "outputs": [
        {
          "output_type": "display_data",
          "data": {
            "text/plain": [
              "<Figure size 432x288 with 1 Axes>"
            ],
            "image/png": "[encoded data removed]"
          },
          "metadata": {
            "needs_background": "light"
          }
        },
        {
          "output_type": "stream",
          "name": "stdout",
          "text": [
            "Maximum Length of a review: 13\n",
            "Minimum Length of a review: 3\n",
            "Average Length of a reviews: 7.0\n"
          ]
        }
      ],
      "source": [
        "# Calculate the Review of each of the Review\n",
        "dataset['ReviewLength'] = dataset.cleaned.apply(lambda x:len(x.split()))\n",
        "frequency = dict()\n",
        "for i in dataset.ReviewLength:\n",
        "    frequency[i] = frequency.get(i, 0)+1\n",
        "\n",
        "plt.bar(frequency.keys(), frequency.values(), color =\"b\")\n",
        "plt.xlim(1, 135)\n",
        "# in this notbook color is not working but it should work.\n",
        "plt.xlabel('Lenght of the Texts')\n",
        "plt.ylabel('Frequency')\n",
        "plt.title('Length-Frequency Distribution')\n",
        "plt.show()  \n",
        "print(f\"Maximum Length of a review: {max(dataset.ReviewLength)}\")\n",
        "print(f\"Minimum Length of a review: {min(dataset.ReviewLength)}\")\n",
        "print(f\"Average Length of a reviews: {round(np.mean(dataset.ReviewLength),0)}\")"
      ]
    },
    {
      "cell_type": "code",
      "execution_count": null,
      "metadata": {
        "colab": {
          "base_uri": "https://localhost:8080/"
        },
        "id": "xXvgnrGovTkj",
        "outputId": "594258f5-d5d7-45c7-d662-95f10f843f3a"
      },
      "outputs": [
        {
          "output_type": "execute_result",
          "data": {
            "text/plain": [
              "1    2248\n",
              "0    2156\n",
              "Name: category, dtype: int64"
            ]
          },
          "metadata": {},
          "execution_count": 44
        }
      ],
      "source": [
        "# dataset.Tag = dataset.Tag.replace({'Very Positive':'Positive','Very Negative':'Negative'})\n",
        "Correct = dataset[dataset.category == 'correct']\n",
        "Incorrect = dataset[dataset.category == 'Incorrect']\n",
        "# dataset = positive.append(negative,ignore_index=True)\n",
        "dataset.category.value_counts()"
      ]
    },
    {
      "cell_type": "code",
      "execution_count": null,
      "metadata": {
        "colab": {
          "base_uri": "https://localhost:8080/"
        },
        "id": "hkqjJKhv8vjH",
        "outputId": "f89704db-e61b-4b92-fffd-069f8e12eb66"
      },
      "outputs": [
        {
          "output_type": "stream",
          "name": "stdout",
          "text": [
            "Looking in indexes: https://pypi.org/simple, https://us-python.pkg.dev/colab-wheels/public/simple/\n",
            "Requirement already satisfied: bnlp-toolkit in /usr/local/lib/python3.9/dist-packages (3.3.0)\n",
            "Requirement already satisfied: sentencepiece in /usr/local/lib/python3.9/dist-packages (from bnlp-toolkit) (0.1.97)\n",
            "Requirement already satisfied: tqdm in /usr/local/lib/python3.9/dist-packages (from bnlp-toolkit) (4.65.0)\n",
            "Requirement already satisfied: numpy in /usr/local/lib/python3.9/dist-packages (from bnlp-toolkit) (1.22.4)\n",
            "Requirement already satisfied: gensim==4.0.1 in /usr/local/lib/python3.9/dist-packages (from bnlp-toolkit) (4.0.1)\n",
            "Requirement already satisfied: emoji==1.7.0 in /usr/local/lib/python3.9/dist-packages (from bnlp-toolkit) (1.7.0)\n",
            "Requirement already satisfied: ftfy in /usr/local/lib/python3.9/dist-packages (from bnlp-toolkit) (6.1.1)\n",
            "Requirement already satisfied: nltk in /usr/local/lib/python3.9/dist-packages (from bnlp-toolkit) (3.7)\n",
            "Requirement already satisfied: scipy in /usr/local/lib/python3.9/dist-packages (from bnlp-toolkit) (1.10.1)\n",
            "Requirement already satisfied: sklearn-crfsuite in /usr/local/lib/python3.9/dist-packages (from bnlp-toolkit) (0.3.6)\n",
            "Requirement already satisfied: smart-open>=1.8.1 in /usr/local/lib/python3.9/dist-packages (from gensim==4.0.1->bnlp-toolkit) (6.3.0)\n",
            "Requirement already satisfied: wcwidth>=0.2.5 in /usr/local/lib/python3.9/dist-packages (from ftfy->bnlp-toolkit) (0.2.6)\n",
            "Requirement already satisfied: click in /usr/local/lib/python3.9/dist-packages (from nltk->bnlp-toolkit) (8.1.3)\n",
            "Requirement already satisfied: joblib in /usr/local/lib/python3.9/dist-packages (from nltk->bnlp-toolkit) (1.2.0)\n",
            "Requirement already satisfied: regex>=2021.8.3 in /usr/local/lib/python3.9/dist-packages (from nltk->bnlp-toolkit) (2022.6.2)\n",
            "Requirement already satisfied: tabulate in /usr/local/lib/python3.9/dist-packages (from sklearn-crfsuite->bnlp-toolkit) (0.8.10)\n",
            "Requirement already satisfied: python-crfsuite>=0.8.3 in /usr/local/lib/python3.9/dist-packages (from sklearn-crfsuite->bnlp-toolkit) (0.9.9)\n",
            "Requirement already satisfied: six in /usr/local/lib/python3.9/dist-packages (from sklearn-crfsuite->bnlp-toolkit) (1.15.0)\n"
          ]
        }
      ],
      "source": [
        "pip install bnlp-toolkit"
      ]
    },
    {
      "cell_type": "code",
      "execution_count": null,
      "metadata": {
        "colab": {
          "base_uri": "https://localhost:8080/"
        },
        "id": "hTqaydzF9jec",
        "outputId": "740bdb39-fdb7-42b0-f7c3-fc9fbe01ebe1"
      },
      "outputs": [
        {
          "output_type": "execute_result",
          "data": {
            "text/plain": [
              "0               আপনার সাথে আমার একটি গোপন পরার্মশ আছে ।\n",
              "1            আপনার সঙ্গে আমার একটি গোপনীয় পরার্মশ আছে ।\n",
              "2               তোমার সাথে আমার একটি গোপন পরার্মশ আছে ।\n",
              "3            তোমার সঙ্গে আমার একটি গোপনীয় পরামর্শ আছে ।\n",
              "4          মনে রাখবে আবশ্যকীয় ব্যয়ে কার্পণ্যতা অনুচিৎ ।\n",
              "                             ...                       \n",
              "4399         মূমুর্ষু অবস্থায় স্যার হাসপাতালে রয়েছেন  ।\n",
              "4400    মূমুর্ষু অবস্থায় রহিম সাহেব হাসপাতালে রয়েছেন  ।\n",
              "4401      তার দুর্নীবার ইচ্ছা শক্তি বাধা অতিক্রম করবে ।\n",
              "4402                             ব্যাকরন বইটি নিয়ে আসো।\n",
              "4403                              আমার ব্যাকরন বই নেয় ।\n",
              "Name: content, Length: 4404, dtype: object"
            ]
          },
          "metadata": {},
          "execution_count": 46
        }
      ],
      "source": [
        "data['content']"
      ]
    },
    {
      "cell_type": "code",
      "execution_count": null,
      "metadata": {
        "colab": {
          "base_uri": "https://localhost:8080/"
        },
        "id": "d3MDlUZ79rAg",
        "outputId": "51cd42ec-b975-4e16-837b-083b4cff6688"
      },
      "outputs": [
        {
          "output_type": "stream",
          "name": "stdout",
          "text": [
            "[('আজকে', 'ALC'), ('ছাত্ররা', 'NC'), ('উপস্থিত', 'JJ'), ('ছিল', 'VM'), ('।', 'PU')]\n"
          ]
        }
      ],
      "source": [
        "from bnlp import POS\n",
        "bn_pos = POS()\n",
        "text ='আজকে ছাত্ররা উপস্থিত ছিল।'\n",
        "model_path = \"/content/drive/MyDrive/text_classification/bn_pos.pkl\"\n",
        "rt= bn_pos.tag(model_path,text)\n",
        "print(rt)\n",
        "      "
      ]
    },
    {
      "cell_type": "code",
      "execution_count": null,
      "metadata": {
        "id": "NcVFVGCX9vJ7"
      },
      "outputs": [],
      "source": [
        "from bnlp import POS\n",
        "bn_pos = POS()\n",
        "model_path = \"/content/drive/MyDrive/text_classification/bn_pos.pkl\"\n",
        "pos_data = []\n",
        "for i in data['content']:\n",
        "      r= bn_pos.tag(model_path,i)\n",
        "      pos_data.append(r)"
      ]
    },
    {
      "cell_type": "code",
      "execution_count": null,
      "metadata": {
        "colab": {
          "base_uri": "https://localhost:8080/",
          "height": 424
        },
        "id": "oBGM7BPcKfrp",
        "outputId": "de279db0-7630-4004-ef56-46fdd885b368"
      },
      "outputs": [
        {
          "output_type": "execute_result",
          "data": {
            "text/plain": [
              "                                                content\n",
              "0     আপনার PPR সাথে PP আমার PPR একটি JQ গোপন NC পরা...\n",
              "1     আপনার PPR সঙ্গে PP আমার PPR একটি JQ গোপনীয় JJ ...\n",
              "2     তোমার PPR সাথে PP আমার PPR একটি JQ গোপন NC পরা...\n",
              "3     তোমার PPR সঙ্গে PP আমার PPR একটি JQ গোপনীয় JJ ...\n",
              "4     মনে NC রাখবে VM আবশ্যকীয় JJ ব্যয়ে NC কার্পণ্যত...\n",
              "...                                                 ...\n",
              "4399  মূমুর্ষু NC অবস্থায় NC স্যার NC হাসপাতালে NC র...\n",
              "4400  মূমুর্ষু NC অবস্থায় NC রহিম NP সাহেব NP হাসপাত...\n",
              "4401  তার PPR দুর্নীবার JQ ইচ্ছা NC শক্তি NC বাধা NC...\n",
              "4402           ব্যাকরন NC বইটি NC নিয়ে VM আসো VAUX । PU\n",
              "4403              আমার PPR ব্যাকরন NC বই NC নেয় VM । PU\n",
              "\n",
              "[4404 rows x 1 columns]"
            ],
            "text/html": [
              "\n",
              "  <div id=\"df-cd94c0f7-24e9-48f5-8d9a-90a5232bf129\">\n",
              "    <div class=\"colab-df-container\">\n",
              "      <div>\n",
              "<style scoped>\n",
              "    .dataframe tbody tr th:only-of-type {\n",
              "        vertical-align: middle;\n",
              "    }\n",
              "\n",
              "    .dataframe tbody tr th {\n",
              "        vertical-align: top;\n",
              "    }\n",
              "\n",
              "    .dataframe thead th {\n",
              "        text-align: right;\n",
              "    }\n",
              "</style>\n",
              "<table border=\"1\" class=\"dataframe\">\n",
              "  <thead>\n",
              "    <tr style=\"text-align: right;\">\n",
              "      <th></th>\n",
              "      <th>content</th>\n",
              "    </tr>\n",
              "  </thead>\n",
              "  <tbody>\n",
              "    <tr>\n",
              "      <th>0</th>\n",
              "      <td>আপনার PPR সাথে PP আমার PPR একটি JQ গোপন NC পরা...</td>\n",
              "    </tr>\n",
              "    <tr>\n",
              "      <th>1</th>\n",
              "      <td>আপনার PPR সঙ্গে PP আমার PPR একটি JQ গোপনীয় JJ ...</td>\n",
              "    </tr>\n",
              "    <tr>\n",
              "      <th>2</th>\n",
              "      <td>তোমার PPR সাথে PP আমার PPR একটি JQ গোপন NC পরা...</td>\n",
              "    </tr>\n",
              "    <tr>\n",
              "      <th>3</th>\n",
              "      <td>তোমার PPR সঙ্গে PP আমার PPR একটি JQ গোপনীয় JJ ...</td>\n",
              "    </tr>\n",
              "    <tr>\n",
              "      <th>4</th>\n",
              "      <td>মনে NC রাখবে VM আবশ্যকীয় JJ ব্যয়ে NC কার্পণ্যত...</td>\n",
              "    </tr>\n",
              "    <tr>\n",
              "      <th>...</th>\n",
              "      <td>...</td>\n",
              "    </tr>\n",
              "    <tr>\n",
              "      <th>4399</th>\n",
              "      <td>মূমুর্ষু NC অবস্থায় NC স্যার NC হাসপাতালে NC র...</td>\n",
              "    </tr>\n",
              "    <tr>\n",
              "      <th>4400</th>\n",
              "      <td>মূমুর্ষু NC অবস্থায় NC রহিম NP সাহেব NP হাসপাত...</td>\n",
              "    </tr>\n",
              "    <tr>\n",
              "      <th>4401</th>\n",
              "      <td>তার PPR দুর্নীবার JQ ইচ্ছা NC শক্তি NC বাধা NC...</td>\n",
              "    </tr>\n",
              "    <tr>\n",
              "      <th>4402</th>\n",
              "      <td>ব্যাকরন NC বইটি NC নিয়ে VM আসো VAUX । PU</td>\n",
              "    </tr>\n",
              "    <tr>\n",
              "      <th>4403</th>\n",
              "      <td>আমার PPR ব্যাকরন NC বই NC নেয় VM । PU</td>\n",
              "    </tr>\n",
              "  </tbody>\n",
              "</table>\n",
              "<p>4404 rows × 1 columns</p>\n",
              "</div>\n",
              "      <button class=\"colab-df-convert\" onclick=\"convertToInteractive('df-cd94c0f7-24e9-48f5-8d9a-90a5232bf129')\"\n",
              "              title=\"Convert this dataframe to an interactive table.\"\n",
              "              style=\"display:none;\">\n",
              "        \n",
              "  <svg xmlns=\"http://www.w3.org/2000/svg\" height=\"24px\"viewBox=\"0 0 24 24\"\n",
              "       width=\"24px\">\n",
              "    <path d=\"M0 0h24v24H0V0z\" fill=\"none\"/>\n",
              "    <path d=\"M18.56 5.44l.94 2.06.94-2.06 2.06-.94-2.06-.94-.94-2.06-.94 2.06-2.06.94zm-11 1L8.5 8.5l.94-2.06 2.06-.94-2.06-.94L8.5 2.5l-.94 2.06-2.06.94zm10 10l.94 2.06.94-2.06 2.06-.94-2.06-.94-.94-2.06-.94 2.06-2.06.94z\"/><path d=\"M17.41 7.96l-1.37-1.37c-.4-.4-.92-.59-1.43-.59-.52 0-1.04.2-1.43.59L10.3 9.45l-7.72 7.72c-.78.78-.78 2.05 0 2.83L4 21.41c.39.39.9.59 1.41.59.51 0 1.02-.2 1.41-.59l7.78-7.78 2.81-2.81c.8-.78.8-2.07 0-2.86zM5.41 20L4 18.59l7.72-7.72 1.47 1.35L5.41 20z\"/>\n",
              "  </svg>\n",
              "      </button>\n",
              "      \n",
              "  <style>\n",
              "    .colab-df-container {\n",
              "      display:flex;\n",
              "      flex-wrap:wrap;\n",
              "      gap: 12px;\n",
              "    }\n",
              "\n",
              "    .colab-df-convert {\n",
              "      background-color: #E8F0FE;\n",
              "      border: none;\n",
              "      border-radius: 50%;\n",
              "      cursor: pointer;\n",
              "      display: none;\n",
              "      fill: #1967D2;\n",
              "      height: 32px;\n",
              "      padding: 0 0 0 0;\n",
              "      width: 32px;\n",
              "    }\n",
              "\n",
              "    .colab-df-convert:hover {\n",
              "      background-color: #E2EBFA;\n",
              "      box-shadow: 0px 1px 2px rgba(60, 64, 67, 0.3), 0px 1px 3px 1px rgba(60, 64, 67, 0.15);\n",
              "      fill: #174EA6;\n",
              "    }\n",
              "\n",
              "    [theme=dark] .colab-df-convert {\n",
              "      background-color: #3B4455;\n",
              "      fill: #D2E3FC;\n",
              "    }\n",
              "\n",
              "    [theme=dark] .colab-df-convert:hover {\n",
              "      background-color: #434B5C;\n",
              "      box-shadow: 0px 1px 3px 1px rgba(0, 0, 0, 0.15);\n",
              "      filter: drop-shadow(0px 1px 2px rgba(0, 0, 0, 0.3));\n",
              "      fill: #FFFFFF;\n",
              "    }\n",
              "  </style>\n",
              "\n",
              "      <script>\n",
              "        const buttonEl =\n",
              "          document.querySelector('#df-cd94c0f7-24e9-48f5-8d9a-90a5232bf129 button.colab-df-convert');\n",
              "        buttonEl.style.display =\n",
              "          google.colab.kernel.accessAllowed ? 'block' : 'none';\n",
              "\n",
              "        async function convertToInteractive(key) {\n",
              "          const element = document.querySelector('#df-cd94c0f7-24e9-48f5-8d9a-90a5232bf129');\n",
              "          const dataTable =\n",
              "            await google.colab.kernel.invokeFunction('convertToInteractive',\n",
              "                                                     [key], {});\n",
              "          if (!dataTable) return;\n",
              "\n",
              "          const docLinkHtml = 'Like what you see? Visit the ' +\n",
              "            '<a target=\"_blank\" href=https://colab.research.google.com/notebooks/data_table.ipynb>data table notebook</a>'\n",
              "            + ' to learn more about interactive tables.';\n",
              "          element.innerHTML = '';\n",
              "          dataTable['output_type'] = 'display_data';\n",
              "          await google.colab.output.renderOutput(dataTable, element);\n",
              "          const docLink = document.createElement('div');\n",
              "          docLink.innerHTML = docLinkHtml;\n",
              "          element.appendChild(docLink);\n",
              "        }\n",
              "      </script>\n",
              "    </div>\n",
              "  </div>\n",
              "  "
            ]
          },
          "metadata": {},
          "execution_count": 49
        }
      ],
      "source": [
        "mod_data = []\n",
        "for i in range(len(pos_data)):\n",
        "  data = ' '\n",
        "  for j in range(len(pos_data[i])):\n",
        "    for text in pos_data[i][j]:\n",
        "      data = data + text + \" \"\n",
        "  mod_data.append({\n",
        "      'content': data.strip()\n",
        "  })\n",
        "mod_data = pd.DataFrame(mod_data)\n",
        "mod_data"
      ]
    },
    {
      "cell_type": "code",
      "execution_count": null,
      "metadata": {
        "id": "adYJL8ff-KWM"
      },
      "outputs": [],
      "source": [
        "# mod_data = []\n",
        "# for i in range(len(pos_data)):\n",
        "#   mod_data.append({\n",
        "#       'content':pos_data[i]\n",
        "#   })\n",
        "# mod_data = pd.DataFrame(mod_data)\n",
        "# print(mod_data.content[0])"
      ]
    },
    {
      "cell_type": "markdown",
      "metadata": {
        "id": "H5SjeRjI64tW"
      },
      "source": [
        "# **For Unigram**"
      ]
    },
    {
      "cell_type": "code",
      "execution_count": null,
      "metadata": {
        "id": "liwaH58Avb1K"
      },
      "outputs": [],
      "source": [
        "from sklearn.feature_extraction.text import TfidfVectorizer\n",
        "vectorizer = TfidfVectorizer(ngram_range=(1,1),use_idf=True,tokenizer=lambda x: x.split())"
      ]
    },
    {
      "cell_type": "code",
      "execution_count": null,
      "metadata": {
        "colab": {
          "base_uri": "https://localhost:8080/"
        },
        "id": "9xzBJUKEyZxa",
        "outputId": "2de82b64-e344-4f20-9485-049a45dd445f"
      },
      "outputs": [
        {
          "output_type": "stream",
          "name": "stderr",
          "text": [
            "/usr/local/lib/python3.9/dist-packages/sklearn/feature_extraction/text.py:528: UserWarning: The parameter 'token_pattern' will not be used since 'tokenizer' is not None'\n",
            "  warnings.warn(\n"
          ]
        }
      ],
      "source": [
        "x=  vectorizer.fit_transform(mod_data['content']).toarray()\n",
        "y=dataset.iloc[:,1].values"
      ]
    },
    {
      "cell_type": "code",
      "execution_count": null,
      "metadata": {
        "colab": {
          "base_uri": "https://localhost:8080/"
        },
        "id": "etsc41b0Gjd9",
        "outputId": "6140ef01-6520-43f6-df46-4c50bc962985"
      },
      "outputs": [
        {
          "output_type": "execute_result",
          "data": {
            "text/plain": [
              "array([[0., 0., 0., ..., 0., 0., 0.],\n",
              "       [0., 0., 0., ..., 0., 0., 0.],\n",
              "       [0., 0., 0., ..., 0., 0., 0.],\n",
              "       ...,\n",
              "       [0., 0., 0., ..., 0., 0., 0.],\n",
              "       [0., 0., 0., ..., 0., 0., 0.],\n",
              "       [0., 0., 0., ..., 0., 0., 0.]])"
            ]
          },
          "metadata": {},
          "execution_count": 53
        }
      ],
      "source": [
        "x"
      ]
    },
    {
      "cell_type": "code",
      "execution_count": null,
      "metadata": {
        "id": "Re5mYh9ezTW9"
      },
      "outputs": [],
      "source": [
        "from sklearn.model_selection import train_test_split\n",
        "X_train,X_test,y_train,y_test=train_test_split(x , y, test_size=0.2, random_state=0)"
      ]
    },
    {
      "cell_type": "markdown",
      "metadata": {
        "id": "REiBfWsdz3UA"
      },
      "source": [
        "# **K-Nearest Neighbor(KNN)**"
      ]
    },
    {
      "cell_type": "code",
      "execution_count": null,
      "metadata": {
        "colab": {
          "base_uri": "https://localhost:8080/"
        },
        "id": "E9OUuyuPFI0Y",
        "outputId": "fd89e7a6-0f66-4f73-fe47-7536bedfa8e2"
      },
      "outputs": [
        {
          "output_type": "stream",
          "name": "stdout",
          "text": [
            "Training Accuracy:\n",
            "0.9781436275901221\n"
          ]
        }
      ],
      "source": [
        "knn_model = KNeighborsClassifier(n_neighbors=3, metric = 'minkowski')\n",
        "knn_model.fit(X_train,y_train)\n",
        "knn_train = knn_model.score(X_train,y_train)\n",
        "print('Training Accuracy:')\n",
        "print(knn_train)"
      ]
    },
    {
      "cell_type": "code",
      "execution_count": null,
      "metadata": {
        "colab": {
          "base_uri": "https://localhost:8080/"
        },
        "id": "cjlp42WDLd3q",
        "outputId": "0bd98417-ccd6-4b80-8cc3-989b44669789"
      },
      "outputs": [
        {
          "output_type": "stream",
          "name": "stdout",
          "text": [
            "Testing Accuracy:\n",
            "0.8626560726447219\n"
          ]
        }
      ],
      "source": [
        "knn_test = knn_model.score(X_test,y_test)\n",
        "print('Testing Accuracy:')\n",
        "print(knn_test)"
      ]
    },
    {
      "cell_type": "code",
      "execution_count": null,
      "metadata": {
        "id": "mw_DDi_XH-Eq"
      },
      "outputs": [],
      "source": [
        "k_pred= knn_model.predict(X_test)"
      ]
    },
    {
      "cell_type": "code",
      "execution_count": null,
      "metadata": {
        "colab": {
          "base_uri": "https://localhost:8080/",
          "height": 551
        },
        "id": "4wOm5YGXIVkX",
        "outputId": "2a251569-d68f-4069-aa98-026c9feb6edb"
      },
      "outputs": [
        {
          "output_type": "display_data",
          "data": {
            "text/plain": [
              "<Figure size 720x576 with 2 Axes>"
            ],
            "image/png": "[encoded data removed]"
          },
          "metadata": {
            "needs_background": "light"
          }
        }
      ],
      "source": [
        "plt.figure(figsize=(10,8))\n",
        "fx=sns.heatmap(confusion_matrix(y_test,k_pred), annot=True, fmt=\".2f\",cmap=\"GnBu\")\n",
        "fx.set_title('Confusion Matrix \\n');\n",
        "fx.set_xlabel('\\n Predicted Correctness\\n')\n",
        "fx.set_ylabel('Actual Correctness\\n');\n",
        "fx.xaxis.set_ticklabels(['Correct','Incorrect'])\n",
        "fx.yaxis.set_ticklabels(['Correct','Incorrect'])\n",
        "plt.show()"
      ]
    },
    {
      "cell_type": "code",
      "execution_count": null,
      "metadata": {
        "colab": {
          "base_uri": "https://localhost:8080/"
        },
        "id": "48PPNWw7PA9h",
        "outputId": "6bdaf781-1075-4ec7-96e5-4fe759b77b34"
      },
      "outputs": [
        {
          "output_type": "stream",
          "name": "stdout",
          "text": [
            "recall: 0.8663594470046083\n",
            "Precision: 0.856492027334852\n",
            "F1 score: 0.861397479954181\n",
            "Accuracy: 0.8626560726447219\n"
          ]
        }
      ],
      "source": [
        "print('recall:',recall_score(y_test, k_pred))\n",
        "print('Precision:',precision_score(y_test, k_pred))\n",
        "print('F1 score:', f1_score(y_test, k_pred))\n",
        "print('Accuracy:',accuracy_score(y_test, k_pred))"
      ]
    },
    {
      "cell_type": "markdown",
      "metadata": {
        "id": "ULr5AlY70pEy"
      },
      "source": [
        "## **Logistic Regression**"
      ]
    },
    {
      "cell_type": "code",
      "execution_count": null,
      "metadata": {
        "colab": {
          "base_uri": "https://localhost:8080/"
        },
        "id": "Zo2fYdpfY6zW",
        "outputId": "bb52c390-6918-4b46-b0a9-a8242c5e6f05"
      },
      "outputs": [
        {
          "output_type": "stream",
          "name": "stdout",
          "text": [
            "Training Accuracy: 0.9156968492761851\n"
          ]
        }
      ],
      "source": [
        "lr_model= LogisticRegression(random_state=0)  \n",
        "lr_model.fit(X_train, y_train)  \n",
        "lr_train = lr_model.score(X_train,y_train)\n",
        "print('Training Accuracy:',lr_train)"
      ]
    },
    {
      "cell_type": "code",
      "execution_count": null,
      "metadata": {
        "colab": {
          "base_uri": "https://localhost:8080/"
        },
        "id": "CNIx-o-CosY6",
        "outputId": "dd6a7598-279a-48b7-c3b9-49b1a6026e48"
      },
      "outputs": [
        {
          "output_type": "stream",
          "name": "stdout",
          "text": [
            "Testing Accuracy: 0.7854710556186152\n"
          ]
        }
      ],
      "source": [
        "lr_test = lr_model.score(X_test,y_test)\n",
        "print('Testing Accuracy:', lr_test)"
      ]
    },
    {
      "cell_type": "code",
      "execution_count": null,
      "metadata": {
        "id": "sLnnVGF_osY7"
      },
      "outputs": [],
      "source": [
        "lr_pred= lr_model.predict(X_test)"
      ]
    },
    {
      "cell_type": "code",
      "execution_count": null,
      "metadata": {
        "colab": {
          "base_uri": "https://localhost:8080/",
          "height": 551
        },
        "id": "65DzT4E4osY7",
        "outputId": "f3831ed3-fafa-4202-caa4-305d7feac99a"
      },
      "outputs": [
        {
          "output_type": "display_data",
          "data": {
            "text/plain": [
              "<Figure size 720x576 with 2 Axes>"
            ],
            "image/png": "[encoded data removed]"
          },
          "metadata": {
            "needs_background": "light"
          }
        }
      ],
      "source": [
        "plt.figure(figsize=(10,8))\n",
        "fx=sns.heatmap(confusion_matrix(y_test,lr_pred), annot=True, fmt=\".2f\",cmap=\"GnBu\")\n",
        "fx.set_title('Confusion Matrix \\n');\n",
        "fx.set_xlabel('\\n Predicted Correctness\\n')\n",
        "fx.set_ylabel('Actual Correctness\\n');\n",
        "fx.xaxis.set_ticklabels(['Correct','Incorrect'])\n",
        "fx.yaxis.set_ticklabels(['Correct','Incorrect'])\n",
        "plt.show()"
      ]
    },
    {
      "cell_type": "code",
      "execution_count": null,
      "metadata": {
        "colab": {
          "base_uri": "https://localhost:8080/"
        },
        "id": "hRh26TIyosY7",
        "outputId": "5d85349c-162d-4eb4-f9e3-3954544e9242"
      },
      "outputs": [
        {
          "output_type": "stream",
          "name": "stdout",
          "text": [
            "recall: 0.8110599078341014\n",
            "Precision: 0.7668845315904139\n",
            "F1 score: 0.7883538633818589\n",
            "Accuracy: 0.7854710556186152\n"
          ]
        }
      ],
      "source": [
        "print('recall:',recall_score(y_test, lr_pred))\n",
        "print('Precision:',precision_score(y_test, lr_pred))\n",
        "print('F1 score:', f1_score(y_test, lr_pred))\n",
        "print('Accuracy:',accuracy_score(y_test, lr_pred))"
      ]
    },
    {
      "cell_type": "markdown",
      "metadata": {
        "id": "X6x2MSMs09_r"
      },
      "source": [
        "### Random Forest"
      ]
    },
    {
      "cell_type": "code",
      "execution_count": null,
      "metadata": {
        "colab": {
          "base_uri": "https://localhost:8080/"
        },
        "id": "x9BVORSETXZz",
        "outputId": "3e4ec084-7cd3-4a35-9ad6-6fdf8a29cbe4"
      },
      "outputs": [
        {
          "output_type": "stream",
          "name": "stdout",
          "text": [
            "Training Accuracy: 0.9980130570536475\n"
          ]
        }
      ],
      "source": [
        "rf_model= RandomForestClassifier(n_estimators = 100)  \n",
        "rf_model.fit(X_train, y_train)  \n",
        "rf_train = rf_model.score(X_train,y_train)\n",
        "print('Training Accuracy:',rf_train)"
      ]
    },
    {
      "cell_type": "code",
      "execution_count": null,
      "metadata": {
        "colab": {
          "base_uri": "https://localhost:8080/"
        },
        "id": "2Ysxr6XJrR5Z",
        "outputId": "60b90719-093c-4fbc-eb22-4d43f80b225b"
      },
      "outputs": [
        {
          "output_type": "stream",
          "name": "stdout",
          "text": [
            "Testing Accuracy: 0.9080590238365494\n"
          ]
        }
      ],
      "source": [
        "rf_test = rf_model.score(X_test,y_test)\n",
        "print('Testing Accuracy:', rf_test)"
      ]
    },
    {
      "cell_type": "code",
      "execution_count": null,
      "metadata": {
        "id": "drBeUCi-rYZ0"
      },
      "outputs": [],
      "source": [
        "rf_pred= rf_model.predict(X_test)"
      ]
    },
    {
      "cell_type": "code",
      "execution_count": null,
      "metadata": {
        "colab": {
          "base_uri": "https://localhost:8080/",
          "height": 551
        },
        "id": "lmOyZ2kTrYdz",
        "outputId": "67ec1e45-604b-41e7-a255-329fadb6b56d"
      },
      "outputs": [
        {
          "output_type": "display_data",
          "data": {
            "text/plain": [
              "<Figure size 720x576 with 2 Axes>"
            ],
            "image/png": "[encoded data removed]"
          },
          "metadata": {
            "needs_background": "light"
          }
        }
      ],
      "source": [
        "plt.figure(figsize=(10,8))\n",
        "fx=sns.heatmap(confusion_matrix(y_test,rf_pred), annot=True, fmt=\".2f\",cmap=\"GnBu\")\n",
        "fx.set_title('Confusion Matrix \\n');\n",
        "fx.set_xlabel('\\n Predicted Correctness\\n')\n",
        "fx.set_ylabel('Actual Correctness\\n');\n",
        "fx.xaxis.set_ticklabels(['Correct','Incorrect'])\n",
        "fx.yaxis.set_ticklabels(['Correct','Incorrect'])\n",
        "plt.show()"
      ]
    },
    {
      "cell_type": "code",
      "execution_count": null,
      "metadata": {
        "colab": {
          "base_uri": "https://localhost:8080/"
        },
        "id": "SvHyDnTxrzzY",
        "outputId": "7c45c0f1-ac77-4688-e3f4-08def71dc2f1"
      },
      "outputs": [
        {
          "output_type": "stream",
          "name": "stdout",
          "text": [
            "recall: 0.9078341013824884\n",
            "Precision: 0.9057471264367816\n",
            "F1 score: 0.906789413118527\n",
            "Accuracy: 0.9080590238365494\n"
          ]
        }
      ],
      "source": [
        "print('recall:',recall_score(y_test, rf_pred))\n",
        "print('Precision:',precision_score(y_test, rf_pred))\n",
        "print('F1 score:', f1_score(y_test, rf_pred))\n",
        "print('Accuracy:',accuracy_score(y_test, rf_pred))"
      ]
    },
    {
      "cell_type": "markdown",
      "metadata": {
        "id": "4uNPbuTc1EjD"
      },
      "source": [
        "### Decision Tree"
      ]
    },
    {
      "cell_type": "code",
      "execution_count": null,
      "metadata": {
        "colab": {
          "base_uri": "https://localhost:8080/"
        },
        "id": "zGXGko8LsCyh",
        "outputId": "f3d854f4-e74d-4bbc-9c54-f00dc595ef73"
      },
      "outputs": [
        {
          "output_type": "stream",
          "name": "stdout",
          "text": [
            "Training Accuracy: 0.9980130570536475\n"
          ]
        }
      ],
      "source": [
        "dt_model = DecisionTreeClassifier()\n",
        "dt_model.fit(X_train, y_train)  \n",
        "dt_train = dt_model.score(X_train,y_train)\n",
        "print('Training Accuracy:',dt_train)"
      ]
    },
    {
      "cell_type": "code",
      "execution_count": null,
      "metadata": {
        "colab": {
          "base_uri": "https://localhost:8080/"
        },
        "id": "IcRWrQOQs9JO",
        "outputId": "0527efa7-efca-4b6c-cd3d-eb948a1be5b1"
      },
      "outputs": [
        {
          "output_type": "stream",
          "name": "stdout",
          "text": [
            "Testing Accuracy: 0.9375709421112373\n"
          ]
        }
      ],
      "source": [
        "dt_test = dt_model.score(X_test,y_test)\n",
        "print('Testing Accuracy:', dt_test)"
      ]
    },
    {
      "cell_type": "code",
      "execution_count": null,
      "metadata": {
        "id": "ONdfq92otMpk"
      },
      "outputs": [],
      "source": [
        "dt_pred= dt_model.predict(X_test)"
      ]
    },
    {
      "cell_type": "code",
      "execution_count": null,
      "metadata": {
        "colab": {
          "base_uri": "https://localhost:8080/",
          "height": 551
        },
        "id": "CGb1zuf8tTLN",
        "outputId": "bb2fae34-9b37-4375-b200-c944aaa1ca79"
      },
      "outputs": [
        {
          "output_type": "display_data",
          "data": {
            "text/plain": [
              "<Figure size 720x576 with 2 Axes>"
            ],
            "image/png": "[encoded data removed]"
          },
          "metadata": {
            "needs_background": "light"
          }
        }
      ],
      "source": [
        "plt.figure(figsize=(10,8))\n",
        "fx=sns.heatmap(confusion_matrix(y_test,dt_pred), annot=True, fmt=\".2f\",cmap=\"GnBu\")\n",
        "fx.set_title('Confusion Matrix \\n');\n",
        "fx.set_xlabel('\\n Predicted Correctness\\n')\n",
        "fx.set_ylabel('Actual Correctness\\n');\n",
        "fx.xaxis.set_ticklabels(['Correct','Incorrect'])\n",
        "fx.yaxis.set_ticklabels(['Correct','Incorrect'])\n",
        "plt.show()"
      ]
    },
    {
      "cell_type": "code",
      "execution_count": null,
      "metadata": {
        "colab": {
          "base_uri": "https://localhost:8080/"
        },
        "id": "NKGSXb9YtZtp",
        "outputId": "d6cc0e11-ce27-4068-8bd8-d5e9c414f927"
      },
      "outputs": [
        {
          "output_type": "stream",
          "name": "stdout",
          "text": [
            "recall: 0.9400921658986175\n",
            "Precision: 0.9336384439359268\n",
            "F1 score: 0.9368541905855339\n",
            "Accuracy: 0.9375709421112373\n"
          ]
        }
      ],
      "source": [
        "print('recall:',recall_score(y_test, dt_pred))\n",
        "print('Precision:',precision_score(y_test, dt_pred))\n",
        "print('F1 score:', f1_score(y_test, dt_pred))\n",
        "print('Accuracy:',accuracy_score(y_test, dt_pred))"
      ]
    },
    {
      "cell_type": "markdown",
      "metadata": {
        "id": "Ym_yk9Tt1Mzo"
      },
      "source": [
        "### Multinomial Naive Bayes"
      ]
    },
    {
      "cell_type": "code",
      "execution_count": null,
      "metadata": {
        "colab": {
          "base_uri": "https://localhost:8080/"
        },
        "id": "ks_VKIHrvx7_",
        "outputId": "d80b09b3-a8bb-486c-c891-49a4994d6d06"
      },
      "outputs": [
        {
          "output_type": "stream",
          "name": "stdout",
          "text": [
            "Training Accuracy: 0.9239284700539313\n"
          ]
        }
      ],
      "source": [
        "mnb_model = MultinomialNB(alpha=0.15)\n",
        "mnb_model.fit(X_train, y_train)  \n",
        "mnb_train = mnb_model.score(X_train,y_train)\n",
        "print('Training Accuracy:',mnb_train)"
      ]
    },
    {
      "cell_type": "code",
      "execution_count": null,
      "metadata": {
        "colab": {
          "base_uri": "https://localhost:8080/"
        },
        "id": "D0ZCKuOfwcMF",
        "outputId": "31dff389-571c-4ea9-dfff-b3d30874705b"
      },
      "outputs": [
        {
          "output_type": "stream",
          "name": "stdout",
          "text": [
            "Testing Accuracy: 0.8456299659477866\n"
          ]
        }
      ],
      "source": [
        "mnb_test = mnb_model.score(X_test,y_test)\n",
        "print('Testing Accuracy:', mnb_test)"
      ]
    },
    {
      "cell_type": "code",
      "execution_count": null,
      "metadata": {
        "id": "6Be7TEoewgKI"
      },
      "outputs": [],
      "source": [
        "mnb_pred= mnb_model.predict(X_test)"
      ]
    },
    {
      "cell_type": "code",
      "execution_count": null,
      "metadata": {
        "colab": {
          "base_uri": "https://localhost:8080/",
          "height": 551
        },
        "id": "1hPKJz6Gwjhi",
        "outputId": "24d615ef-b019-4190-fd52-0b74115ad490"
      },
      "outputs": [
        {
          "output_type": "display_data",
          "data": {
            "text/plain": [
              "<Figure size 720x576 with 2 Axes>"
            ],
            "image/png": "[encoded data removed]"
          },
          "metadata": {
            "needs_background": "light"
          }
        }
      ],
      "source": [
        "plt.figure(figsize=(10,8))\n",
        "fx=sns.heatmap(confusion_matrix(y_test,mnb_pred), annot=True, fmt=\".2f\",cmap=\"GnBu\")\n",
        "fx.set_title('Confusion Matrix \\n');\n",
        "fx.set_xlabel('\\n Predicted Correctness\\n')\n",
        "fx.set_ylabel('Actual Correctness\\n');\n",
        "fx.xaxis.set_ticklabels(['Correct','Incorrect'])\n",
        "fx.yaxis.set_ticklabels(['Correct','Incorrect'])\n",
        "plt.show()\n"
      ]
    },
    {
      "cell_type": "code",
      "execution_count": null,
      "metadata": {
        "colab": {
          "base_uri": "https://localhost:8080/"
        },
        "id": "fDDA-qREwl9v",
        "outputId": "18ecbd39-003d-425d-fbf5-db869edbaf2b"
      },
      "outputs": [
        {
          "output_type": "stream",
          "name": "stdout",
          "text": [
            "recall: 0.8548387096774194\n",
            "Precision: 0.8355855855855856\n",
            "F1 score: 0.8451025056947609\n",
            "Accuracy: 0.8456299659477866\n"
          ]
        }
      ],
      "source": [
        "print('recall:',recall_score(y_test, mnb_pred))\n",
        "print('Precision:',precision_score(y_test, mnb_pred))\n",
        "print('F1 score:', f1_score(y_test, mnb_pred))\n",
        "print('Accuracy:',accuracy_score(y_test, mnb_pred))"
      ]
    },
    {
      "cell_type": "markdown",
      "metadata": {
        "id": "f3TJ-FiCxRuz"
      },
      "source": [
        "# **BAGGING CLASSFIER**"
      ]
    },
    {
      "cell_type": "code",
      "execution_count": null,
      "metadata": {
        "colab": {
          "base_uri": "https://localhost:8080/"
        },
        "id": "utqGgYCjxRuz",
        "outputId": "8f508196-0188-4b57-b8e2-d25464f43366"
      },
      "outputs": [
        {
          "output_type": "stream",
          "name": "stderr",
          "text": [
            "/usr/local/lib/python3.9/dist-packages/sklearn/ensemble/_base.py:166: FutureWarning: `base_estimator` was renamed to `estimator` in version 1.2 and will be removed in 1.4.\n",
            "  warnings.warn(\n"
          ]
        }
      ],
      "source": [
        "# define a decision tree classifier as the base estimator\n",
        "base_estimator = DecisionTreeClassifier()\n",
        "\n",
        "# define the bagging classifier with 100 estimators\n",
        "bagging = BaggingClassifier(base_estimator=base_estimator, n_estimators=100, random_state=42)\n",
        "\n",
        "# train the bagging classifier on the training data\n",
        "b_train = bagging.fit(X_train, y_train)"
      ]
    },
    {
      "cell_type": "code",
      "execution_count": null,
      "metadata": {
        "colab": {
          "base_uri": "https://localhost:8080/"
        },
        "id": "3vYqVJlBxRuz",
        "outputId": "073e9d3d-c34d-4980-9a51-48555b5f3666"
      },
      "outputs": [
        {
          "output_type": "stream",
          "name": "stdout",
          "text": [
            "Testing Accuracy: 0.9080590238365494\n"
          ]
        }
      ],
      "source": [
        "b_test = bagging.score(X_test,y_test)\n",
        "print('Testing Accuracy:', b_test)"
      ]
    },
    {
      "cell_type": "code",
      "execution_count": null,
      "metadata": {
        "id": "pH5f2kd3xRuz"
      },
      "outputs": [],
      "source": [
        "b_pred= bagging.predict(X_test)"
      ]
    },
    {
      "cell_type": "code",
      "execution_count": null,
      "metadata": {
        "colab": {
          "base_uri": "https://localhost:8080/",
          "height": 551
        },
        "id": "_m7pJDHpxRu0",
        "outputId": "cbbcff0f-a384-435a-acfc-271234d1ec0a"
      },
      "outputs": [
        {
          "output_type": "display_data",
          "data": {
            "text/plain": [
              "<Figure size 720x576 with 2 Axes>"
            ],
            "image/png": "[encoded data removed]"
          },
          "metadata": {
            "needs_background": "light"
          }
        }
      ],
      "source": [
        "plt.figure(figsize=(10,8))\n",
        "fx=sns.heatmap(confusion_matrix(y_test,b_pred), annot=True, fmt=\".2f\",cmap=\"GnBu\")\n",
        "fx.set_title('Confusion Matrix \\n');\n",
        "fx.set_xlabel('\\n Predicted Correctness\\n')\n",
        "fx.set_ylabel('Actual Correctness\\n');\n",
        "fx.xaxis.set_ticklabels(['Correct','Incorrect'])\n",
        "fx.yaxis.set_ticklabels(['Correct','Incorrect'])\n",
        "plt.show()"
      ]
    },
    {
      "cell_type": "code",
      "execution_count": null,
      "metadata": {
        "colab": {
          "base_uri": "https://localhost:8080/"
        },
        "id": "kSAN31vPxRu0",
        "outputId": "d2d8da5a-9c84-4489-eb1f-ac29a73286f2"
      },
      "outputs": [
        {
          "output_type": "stream",
          "name": "stdout",
          "text": [
            "recall: 0.9032258064516129\n",
            "Precision: 0.9095127610208816\n",
            "F1 score: 0.9063583815028902\n",
            "Accuracy: 0.9080590238365494\n"
          ]
        }
      ],
      "source": [
        "print('recall:',recall_score(y_test, b_pred))\n",
        "print('Precision:',precision_score(y_test, b_pred))\n",
        "print('F1 score:', f1_score(y_test, b_pred))\n",
        "print('Accuracy:',accuracy_score(y_test, b_pred))"
      ]
    },
    {
      "cell_type": "markdown",
      "metadata": {
        "id": "LHkUpaOFxRu0"
      },
      "source": [
        "# **STACKING CLASSIFIER**"
      ]
    },
    {
      "cell_type": "code",
      "execution_count": null,
      "metadata": {
        "id": "9Vo-8wFCxRu0"
      },
      "outputs": [],
      "source": [
        "# define the base models\n",
        "base_models = [('random_forest', RandomForestClassifier(n_estimators=100, random_state=42)),\n",
        "               ('gradient_boosting', GradientBoostingClassifier(n_estimators=100, random_state=42))]\n",
        "\n",
        "# define the meta model\n",
        "meta_model = LogisticRegression()\n",
        "\n",
        "# define the stacking classifier\n",
        "stacking = StackingClassifier(estimators=base_models, final_estimator=meta_model, cv=KFold(n_splits=5))\n",
        "\n",
        "# fit the stacking classifier on the training data\n",
        "s_train=stacking.fit(X_train, y_train)"
      ]
    },
    {
      "cell_type": "code",
      "execution_count": null,
      "metadata": {
        "colab": {
          "base_uri": "https://localhost:8080/"
        },
        "id": "4N36RTk-xRu0",
        "outputId": "d07d94e0-4571-4b61-fbf9-97d0283f619b"
      },
      "outputs": [
        {
          "output_type": "stream",
          "name": "stdout",
          "text": [
            "Testing Accuracy: 0.9171396140749148\n"
          ]
        }
      ],
      "source": [
        "s_test = stacking.score(X_test,y_test)\n",
        "print('Testing Accuracy:', s_test)"
      ]
    },
    {
      "cell_type": "code",
      "execution_count": null,
      "metadata": {
        "id": "mDvw9rcJxRu0"
      },
      "outputs": [],
      "source": [
        "s_pred= stacking.predict(X_test)"
      ]
    },
    {
      "cell_type": "code",
      "execution_count": null,
      "metadata": {
        "colab": {
          "base_uri": "https://localhost:8080/",
          "height": 551
        },
        "id": "MVHCLVi3xRu1",
        "outputId": "b2797f58-ad75-4408-dd8b-f21f04e904ec"
      },
      "outputs": [
        {
          "output_type": "display_data",
          "data": {
            "text/plain": [
              "<Figure size 720x576 with 2 Axes>"
            ],
            "image/png": "[encoded data removed]"
          },
          "metadata": {
            "needs_background": "light"
          }
        }
      ],
      "source": [
        "plt.figure(figsize=(10,8))\n",
        "fx=sns.heatmap(confusion_matrix(y_test,s_pred), annot=True, fmt=\".2f\",cmap=\"GnBu\")\n",
        "fx.set_title('Confusion Matrix \\n');\n",
        "fx.set_xlabel('\\n Predicted Correctness\\n')\n",
        "fx.set_ylabel('Actual Correctness\\n');\n",
        "fx.xaxis.set_ticklabels(['Correct','Incorrect'])\n",
        "fx.yaxis.set_ticklabels(['Correct','Incorrect'])\n",
        "plt.show()"
      ]
    },
    {
      "cell_type": "code",
      "execution_count": null,
      "metadata": {
        "colab": {
          "base_uri": "https://localhost:8080/"
        },
        "id": "uMhr9ozQxRu1",
        "outputId": "05790c2a-4ef2-4f1c-b861-a595ad67e464"
      },
      "outputs": [
        {
          "output_type": "stream",
          "name": "stdout",
          "text": [
            "recall: 0.9124423963133641\n",
            "Precision: 0.9187935034802784\n",
            "F1 score: 0.915606936416185\n",
            "Accuracy: 0.9171396140749148\n"
          ]
        }
      ],
      "source": [
        "print('recall:',recall_score(y_test, s_pred))\n",
        "print('Precision:',precision_score(y_test, s_pred))\n",
        "print('F1 score:', f1_score(y_test, s_pred))\n",
        "print('Accuracy:',accuracy_score(y_test, s_pred))"
      ]
    },
    {
      "cell_type": "markdown",
      "metadata": {
        "id": "2X-q8YxLxRu1"
      },
      "source": [
        "# **VOTING CLASSIFIER**"
      ]
    },
    {
      "cell_type": "code",
      "execution_count": null,
      "metadata": {
        "colab": {
          "base_uri": "https://localhost:8080/",
          "height": 112
        },
        "id": "CUyrxusyxRu1",
        "outputId": "21bef2a8-f346-46c7-d79a-2281ae066e57"
      },
      "outputs": [
        {
          "output_type": "execute_result",
          "data": {
            "text/plain": [
              "VotingClassifier(estimators=[('lr', LogisticRegression(random_state=1)),\n",
              "                             ('nb', GaussianNB()),\n",
              "                             ('knn', KNeighborsClassifier(n_neighbors=3))])"
            ],
            "text/html": [
              "<style>#sk-container-id-1 {color: black;background-color: white;}#sk-container-id-1 pre{padding: 0;}#sk-container-id-1 div.sk-toggleable {background-color: white;}#sk-container-id-1 label.sk-toggleable__label {cursor: pointer;display: block;width: 100%;margin-bottom: 0;padding: 0.3em;box-sizing: border-box;text-align: center;}#sk-container-id-1 label.sk-toggleable__label-arrow:before {content: \"▸\";float: left;margin-right: 0.25em;color: #696969;}#sk-container-id-1 label.sk-toggleable__label-arrow:hover:before {color: black;}#sk-container-id-1 div.sk-estimator:hover label.sk-toggleable__label-arrow:before {color: black;}#sk-container-id-1 div.sk-toggleable__content {max-height: 0;max-width: 0;overflow: hidden;text-align: left;background-color: #f0f8ff;}#sk-container-id-1 div.sk-toggleable__content pre {margin: 0.2em;color: black;border-radius: 0.25em;background-color: #f0f8ff;}#sk-container-id-1 input.sk-toggleable__control:checked~div.sk-toggleable__content {max-height: 200px;max-width: 100%;overflow: auto;}#sk-container-id-1 input.sk-toggleable__control:checked~label.sk-toggleable__label-arrow:before {content: \"▾\";}#sk-container-id-1 div.sk-estimator input.sk-toggleable__control:checked~label.sk-toggleable__label {background-color: #d4ebff;}#sk-container-id-1 div.sk-label input.sk-toggleable__control:checked~label.sk-toggleable__label {background-color: #d4ebff;}#sk-container-id-1 input.sk-hidden--visually {border: 0;clip: rect(1px 1px 1px 1px);clip: rect(1px, 1px, 1px, 1px);height: 1px;margin: -1px;overflow: hidden;padding: 0;position: absolute;width: 1px;}#sk-container-id-1 div.sk-estimator {font-family: monospace;background-color: #f0f8ff;border: 1px dotted black;border-radius: 0.25em;box-sizing: border-box;margin-bottom: 0.5em;}#sk-container-id-1 div.sk-estimator:hover {background-color: #d4ebff;}#sk-container-id-1 div.sk-parallel-item::after {content: \"\";width: 100%;border-bottom: 1px solid gray;flex-grow: 1;}#sk-container-id-1 div.sk-label:hover label.sk-toggleable__label {background-color: #d4ebff;}#sk-container-id-1 div.sk-serial::before {content: \"\";position: absolute;border-left: 1px solid gray;box-sizing: border-box;top: 0;bottom: 0;left: 50%;z-index: 0;}#sk-container-id-1 div.sk-serial {display: flex;flex-direction: column;align-items: center;background-color: white;padding-right: 0.2em;padding-left: 0.2em;position: relative;}#sk-container-id-1 div.sk-item {position: relative;z-index: 1;}#sk-container-id-1 div.sk-parallel {display: flex;align-items: stretch;justify-content: center;background-color: white;position: relative;}#sk-container-id-1 div.sk-item::before, #sk-container-id-1 div.sk-parallel-item::before {content: \"\";position: absolute;border-left: 1px solid gray;box-sizing: border-box;top: 0;bottom: 0;left: 50%;z-index: -1;}#sk-container-id-1 div.sk-parallel-item {display: flex;flex-direction: column;z-index: 1;position: relative;background-color: white;}#sk-container-id-1 div.sk-parallel-item:first-child::after {align-self: flex-end;width: 50%;}#sk-container-id-1 div.sk-parallel-item:last-child::after {align-self: flex-start;width: 50%;}#sk-container-id-1 div.sk-parallel-item:only-child::after {width: 0;}#sk-container-id-1 div.sk-dashed-wrapped {border: 1px dashed gray;margin: 0 0.4em 0.5em 0.4em;box-sizing: border-box;padding-bottom: 0.4em;background-color: white;}#sk-container-id-1 div.sk-label label {font-family: monospace;font-weight: bold;display: inline-block;line-height: 1.2em;}#sk-container-id-1 div.sk-label-container {text-align: center;}#sk-container-id-1 div.sk-container {/* jupyter's `normalize.less` sets `[hidden] { display: none; }` but bootstrap.min.css set `[hidden] { display: none !important; }` so we also need the `!important` here to be able to override the default hidden behavior on the sphinx rendered scikit-learn.org. See: https://github.com/scikit-learn/scikit-learn/issues/21755 */display: inline-block !important;position: relative;}#sk-container-id-1 div.sk-text-repr-fallback {display: none;}</style><div id=\"sk-container-id-1\" class=\"sk-top-container\"><div class=\"sk-text-repr-fallback\"><pre>VotingClassifier(estimators=[(&#x27;lr&#x27;, LogisticRegression(random_state=1)),\n",
              "                             (&#x27;nb&#x27;, GaussianNB()),\n",
              "                             (&#x27;knn&#x27;, KNeighborsClassifier(n_neighbors=3))])</pre><b>In a Jupyter environment, please rerun this cell to show the HTML representation or trust the notebook. <br />On GitHub, the HTML representation is unable to render, please try loading this page with nbviewer.org.</b></div><div class=\"sk-container\" hidden><div class=\"sk-item sk-dashed-wrapped\"><div class=\"sk-label-container\"><div class=\"sk-label sk-toggleable\"><input class=\"sk-toggleable__control sk-hidden--visually\" id=\"sk-estimator-id-1\" type=\"checkbox\" ><label for=\"sk-estimator-id-1\" class=\"sk-toggleable__label sk-toggleable__label-arrow\">VotingClassifier</label><div class=\"sk-toggleable__content\"><pre>VotingClassifier(estimators=[(&#x27;lr&#x27;, LogisticRegression(random_state=1)),\n",
              "                             (&#x27;nb&#x27;, GaussianNB()),\n",
              "                             (&#x27;knn&#x27;, KNeighborsClassifier(n_neighbors=3))])</pre></div></div></div><div class=\"sk-parallel\"><div class=\"sk-parallel-item\"><div class=\"sk-item\"><div class=\"sk-label-container\"><div class=\"sk-label sk-toggleable\"><label>lr</label></div></div><div class=\"sk-serial\"><div class=\"sk-item\"><div class=\"sk-estimator sk-toggleable\"><input class=\"sk-toggleable__control sk-hidden--visually\" id=\"sk-estimator-id-2\" type=\"checkbox\" ><label for=\"sk-estimator-id-2\" class=\"sk-toggleable__label sk-toggleable__label-arrow\">LogisticRegression</label><div class=\"sk-toggleable__content\"><pre>LogisticRegression(random_state=1)</pre></div></div></div></div></div></div><div class=\"sk-parallel-item\"><div class=\"sk-item\"><div class=\"sk-label-container\"><div class=\"sk-label sk-toggleable\"><label>nb</label></div></div><div class=\"sk-serial\"><div class=\"sk-item\"><div class=\"sk-estimator sk-toggleable\"><input class=\"sk-toggleable__control sk-hidden--visually\" id=\"sk-estimator-id-3\" type=\"checkbox\" ><label for=\"sk-estimator-id-3\" class=\"sk-toggleable__label sk-toggleable__label-arrow\">GaussianNB</label><div class=\"sk-toggleable__content\"><pre>GaussianNB()</pre></div></div></div></div></div></div><div class=\"sk-parallel-item\"><div class=\"sk-item\"><div class=\"sk-label-container\"><div class=\"sk-label sk-toggleable\"><label>knn</label></div></div><div class=\"sk-serial\"><div class=\"sk-item\"><div class=\"sk-estimator sk-toggleable\"><input class=\"sk-toggleable__control sk-hidden--visually\" id=\"sk-estimator-id-4\" type=\"checkbox\" ><label for=\"sk-estimator-id-4\" class=\"sk-toggleable__label sk-toggleable__label-arrow\">KNeighborsClassifier</label><div class=\"sk-toggleable__content\"><pre>KNeighborsClassifier(n_neighbors=3)</pre></div></div></div></div></div></div></div></div></div></div>"
            ]
          },
          "metadata": {},
          "execution_count": 90
        }
      ],
      "source": [
        "# Define the individual classifiers\n",
        "clf1 = LogisticRegression(random_state=1)\n",
        "clf2 = GaussianNB()\n",
        "clf3 = KNeighborsClassifier(n_neighbors=3)\n",
        "\n",
        "# Define the voting classifier\n",
        "voting_clf = VotingClassifier(estimators=[('lr', clf1), ('nb', clf2), ('knn', clf3)], voting='hard')\n",
        "\n",
        "# Train the voting classifier on the training data\n",
        "voting_clf.fit(X_train, y_train)\n"
      ]
    },
    {
      "cell_type": "code",
      "execution_count": null,
      "metadata": {
        "colab": {
          "base_uri": "https://localhost:8080/"
        },
        "id": "2e6MCATFxRu1",
        "outputId": "2273a392-06ca-45bb-ec67-7a0dc1d87692"
      },
      "outputs": [
        {
          "output_type": "stream",
          "name": "stdout",
          "text": [
            "Testing Accuracy: 0.8887627695800226\n"
          ]
        }
      ],
      "source": [
        "v_test = voting_clf.score(X_test,y_test)\n",
        "print('Testing Accuracy:', v_test)"
      ]
    },
    {
      "cell_type": "code",
      "execution_count": null,
      "metadata": {
        "id": "BwXWJRGixRu1"
      },
      "outputs": [],
      "source": [
        "v_pred= voting_clf.predict(X_test)"
      ]
    },
    {
      "cell_type": "code",
      "execution_count": null,
      "metadata": {
        "colab": {
          "base_uri": "https://localhost:8080/",
          "height": 551
        },
        "id": "0t-B8XVxxRu2",
        "outputId": "5c754072-c07c-47ea-9372-7f3f28902842"
      },
      "outputs": [
        {
          "output_type": "display_data",
          "data": {
            "text/plain": [
              "<Figure size 720x576 with 2 Axes>"
            ],
            "image/png": "[encoded data removed]"
          },
          "metadata": {
            "needs_background": "light"
          }
        }
      ],
      "source": [
        "plt.figure(figsize=(10,8))\n",
        "fx=sns.heatmap(confusion_matrix(y_test,v_pred), annot=True, fmt=\".2f\",cmap=\"GnBu\")\n",
        "fx.set_title('Confusion Matrix \\n');\n",
        "fx.set_xlabel('\\n Predicted Correctness\\n')\n",
        "fx.set_ylabel('Actual Correctness\\n');\n",
        "fx.xaxis.set_ticklabels(['Correct','Incorrect'])\n",
        "fx.yaxis.set_ticklabels(['Correct','Incorrect'])\n",
        "plt.show()"
      ]
    },
    {
      "cell_type": "code",
      "execution_count": null,
      "metadata": {
        "colab": {
          "base_uri": "https://localhost:8080/"
        },
        "id": "TfSAr9nexRu2",
        "outputId": "ef95ee0c-4005-46dd-df3e-f31fe44e980b"
      },
      "outputs": [
        {
          "output_type": "stream",
          "name": "stdout",
          "text": [
            "recall: 0.868663594470046\n",
            "Precision: 0.9019138755980861\n",
            "F1 score: 0.8849765258215961\n",
            "Accuracy: 0.8887627695800226\n"
          ]
        }
      ],
      "source": [
        "print('recall:',recall_score(y_test, v_pred))\n",
        "print('Precision:',precision_score(y_test, v_pred))\n",
        "print('F1 score:', f1_score(y_test, v_pred))\n",
        "print('Accuracy:',accuracy_score(y_test, v_pred))"
      ]
    },
    {
      "cell_type": "markdown",
      "metadata": {
        "id": "DawNF11PUURD"
      },
      "source": [
        "# **For Bigram**"
      ]
    },
    {
      "cell_type": "code",
      "execution_count": null,
      "metadata": {
        "id": "Lt5zcOH4T7I8"
      },
      "outputs": [],
      "source": [
        "from sklearn.feature_extraction.text import TfidfVectorizer\n",
        "vectorizer1 = TfidfVectorizer(ngram_range=(1,2),use_idf=True,tokenizer=lambda x: x.split())"
      ]
    },
    {
      "cell_type": "code",
      "execution_count": null,
      "metadata": {
        "colab": {
          "base_uri": "https://localhost:8080/"
        },
        "id": "ZEI18UrfT7I8",
        "outputId": "38c6f001-5bcf-4ea0-d39c-370b30a20131"
      },
      "outputs": [
        {
          "output_type": "stream",
          "name": "stderr",
          "text": [
            "/usr/local/lib/python3.9/dist-packages/sklearn/feature_extraction/text.py:528: UserWarning: The parameter 'token_pattern' will not be used since 'tokenizer' is not None'\n",
            "  warnings.warn(\n"
          ]
        }
      ],
      "source": [
        "x1=  vectorizer1.fit_transform(mod_data['content']).toarray()\n",
        "y1=dataset.iloc[:,1].values"
      ]
    },
    {
      "cell_type": "code",
      "execution_count": null,
      "metadata": {
        "colab": {
          "base_uri": "https://localhost:8080/"
        },
        "id": "9Jt7UHtdT7I9",
        "outputId": "e657ab4f-14d9-4f1f-f6c9-ef41aec29b93"
      },
      "outputs": [
        {
          "output_type": "execute_result",
          "data": {
            "text/plain": [
              "array([[0., 0., 0., ..., 0., 0., 0.],\n",
              "       [0., 0., 0., ..., 0., 0., 0.],\n",
              "       [0., 0., 0., ..., 0., 0., 0.],\n",
              "       ...,\n",
              "       [0., 0., 0., ..., 0., 0., 0.],\n",
              "       [0., 0., 0., ..., 0., 0., 0.],\n",
              "       [0., 0., 0., ..., 0., 0., 0.]])"
            ]
          },
          "metadata": {},
          "execution_count": 97
        }
      ],
      "source": [
        "x1"
      ]
    },
    {
      "cell_type": "code",
      "execution_count": null,
      "metadata": {
        "id": "PRXOFh8hT7I9"
      },
      "outputs": [],
      "source": [
        "from sklearn.model_selection import train_test_split\n",
        "X_train1,X_test1,y_train1,y_test1=train_test_split(x1 , y1, test_size=0.2, random_state=0)"
      ]
    },
    {
      "cell_type": "markdown",
      "metadata": {
        "id": "naGgOlfuT7I9"
      },
      "source": [
        "# **K-Nearest Neighbor(KNN)**"
      ]
    },
    {
      "cell_type": "code",
      "execution_count": null,
      "metadata": {
        "colab": {
          "base_uri": "https://localhost:8080/"
        },
        "id": "pUPbkNgWT7I9",
        "outputId": "be1bcfd5-58ac-457a-dc41-48ae5a71b120"
      },
      "outputs": [
        {
          "output_type": "stream",
          "name": "stdout",
          "text": [
            "Training Accuracy:\n",
            "0.9753051376667613\n"
          ]
        }
      ],
      "source": [
        "knn_model1 = KNeighborsClassifier(n_neighbors=3, metric = 'minkowski')\n",
        "knn_model1.fit(X_train1,y_train1)\n",
        "knn_train1 = knn_model1.score(X_train1,y_train1)\n",
        "print('Training Accuracy:')\n",
        "print(knn_train1)"
      ]
    },
    {
      "cell_type": "code",
      "execution_count": null,
      "metadata": {
        "colab": {
          "base_uri": "https://localhost:8080/"
        },
        "id": "p4-ZlObGT7I9",
        "outputId": "eca0ed00-2df7-4837-ebfb-840c5ef19e93"
      },
      "outputs": [
        {
          "output_type": "stream",
          "name": "stdout",
          "text": [
            "Testing Accuracy:\n",
            "0.8444948921679909\n"
          ]
        }
      ],
      "source": [
        "knn_test1 = knn_model1.score(X_test1,y_test1)\n",
        "print('Testing Accuracy:')\n",
        "print(knn_test1)"
      ]
    },
    {
      "cell_type": "code",
      "execution_count": null,
      "metadata": {
        "id": "WqRgVglpT7I-"
      },
      "outputs": [],
      "source": [
        "k_pred1= knn_model1.predict(X_test1)"
      ]
    },
    {
      "cell_type": "code",
      "execution_count": null,
      "metadata": {
        "colab": {
          "base_uri": "https://localhost:8080/",
          "height": 551
        },
        "id": "hlcp9h9OT7I-",
        "outputId": "36288563-63eb-4a27-e69d-3d78114e517a"
      },
      "outputs": [
        {
          "output_type": "display_data",
          "data": {
            "text/plain": [
              "<Figure size 720x576 with 2 Axes>"
            ],
            "image/png": "[encoded data removed]"
          },
          "metadata": {
            "needs_background": "light"
          }
        }
      ],
      "source": [
        "plt.figure(figsize=(10,8))\n",
        "fx=sns.heatmap(confusion_matrix(y_test1,k_pred1), annot=True, fmt=\".2f\",cmap=\"GnBu\")\n",
        "fx.set_title('Confusion Matrix \\n');\n",
        "fx.set_xlabel('\\n Predicted Correctness\\n')\n",
        "fx.set_ylabel('Actual Correctness\\n');\n",
        "fx.xaxis.set_ticklabels(['Correct','Incorrect'])\n",
        "fx.yaxis.set_ticklabels(['Correct','Incorrect'])\n",
        "plt.show()"
      ]
    },
    {
      "cell_type": "code",
      "execution_count": null,
      "metadata": {
        "colab": {
          "base_uri": "https://localhost:8080/"
        },
        "id": "t0P9jOwXk-X_",
        "outputId": "f0713585-ae8c-49ab-c5a7-333e5ba8af8c"
      },
      "outputs": [
        {
          "output_type": "stream",
          "name": "stdout",
          "text": [
            "recall: 0.847926267281106\n",
            "Precision: 0.8382687927107062\n",
            "F1 score: 0.8430698739977092\n",
            "Accuracy: 0.8444948921679909\n"
          ]
        }
      ],
      "source": [
        "print('recall:',recall_score(y_test1, k_pred1))\n",
        "print('Precision:',precision_score(y_test1, k_pred1))\n",
        "print('F1 score:', f1_score(y_test1, k_pred1))\n",
        "print('Accuracy:',accuracy_score(y_test1, k_pred1))"
      ]
    },
    {
      "cell_type": "markdown",
      "metadata": {
        "id": "sD20WK0KT7I-"
      },
      "source": [
        "## **Logistic Regression**"
      ]
    },
    {
      "cell_type": "code",
      "execution_count": null,
      "metadata": {
        "colab": {
          "base_uri": "https://localhost:8080/"
        },
        "id": "YLxoZDaeT7I-",
        "outputId": "9314c76a-e418-4275-84cf-ee43e0762ece"
      },
      "outputs": [
        {
          "output_type": "stream",
          "name": "stdout",
          "text": [
            "Training Accuracy: 0.9443655975021289\n"
          ]
        }
      ],
      "source": [
        "lr_model1= LogisticRegression(random_state=0)  \n",
        "lr_model1.fit(X_train1, y_train1)  \n",
        "lr_train1 = lr_model1.score(X_train1,y_train1)\n",
        "print('Training Accuracy:',lr_train1)"
      ]
    },
    {
      "cell_type": "code",
      "execution_count": null,
      "metadata": {
        "colab": {
          "base_uri": "https://localhost:8080/"
        },
        "id": "-mHMa6LAT7I-",
        "outputId": "9775a722-d74e-452c-a740-ddca2a537195"
      },
      "outputs": [
        {
          "output_type": "stream",
          "name": "stdout",
          "text": [
            "Testing Accuracy: 0.8320090805902384\n"
          ]
        }
      ],
      "source": [
        "lr_test1 = lr_model1.score(X_test1,y_test1)\n",
        "print('Testing Accuracy:', lr_test1)"
      ]
    },
    {
      "cell_type": "code",
      "execution_count": null,
      "metadata": {
        "id": "TWAY09l_T7I_"
      },
      "outputs": [],
      "source": [
        "lr_pred1= lr_model1.predict(X_test1)"
      ]
    },
    {
      "cell_type": "code",
      "execution_count": null,
      "metadata": {
        "colab": {
          "base_uri": "https://localhost:8080/",
          "height": 551
        },
        "id": "9X01gI-eT7I_",
        "outputId": "05595d38-18ec-497f-a531-96d46e4cf22a"
      },
      "outputs": [
        {
          "output_type": "display_data",
          "data": {
            "text/plain": [
              "<Figure size 720x576 with 2 Axes>"
            ],
            "image/png": "[encoded data removed]"
          },
          "metadata": {
            "needs_background": "light"
          }
        }
      ],
      "source": [
        "plt.figure(figsize=(10,8))\n",
        "fx=sns.heatmap(confusion_matrix(y_test1,lr_pred1), annot=True, fmt=\".2f\",cmap=\"GnBu\")\n",
        "fx.set_title('Confusion Matrix \\n');\n",
        "fx.set_xlabel('\\n Predicted Correctness\\n')\n",
        "fx.set_ylabel('Actual Correctness\\n');\n",
        "fx.xaxis.set_ticklabels(['Correct','Incorrect'])\n",
        "fx.yaxis.set_ticklabels(['Correct','Incorrect'])\n",
        "plt.show()"
      ]
    },
    {
      "cell_type": "code",
      "execution_count": null,
      "metadata": {
        "colab": {
          "base_uri": "https://localhost:8080/"
        },
        "id": "GY8GfMbpT7I_",
        "outputId": "62b896bf-9808-45fc-9607-a70911670a84"
      },
      "outputs": [
        {
          "output_type": "stream",
          "name": "stdout",
          "text": [
            "recall: 0.8617511520737328\n",
            "Precision: 0.8095238095238095\n",
            "F1 score: 0.8348214285714286\n",
            "Accuracy: 0.8320090805902384\n"
          ]
        }
      ],
      "source": [
        "print('recall:',recall_score(y_test1, lr_pred1))\n",
        "print('Precision:',precision_score(y_test1, lr_pred1))\n",
        "print('F1 score:', f1_score(y_test1, lr_pred1))\n",
        "print('Accuracy:',accuracy_score(y_test1, lr_pred1))"
      ]
    },
    {
      "cell_type": "markdown",
      "metadata": {
        "id": "yUIjjGlkT7I_"
      },
      "source": [
        "### Random Forest"
      ]
    },
    {
      "cell_type": "code",
      "execution_count": null,
      "metadata": {
        "colab": {
          "base_uri": "https://localhost:8080/"
        },
        "id": "E_1ys5jKT7I_",
        "outputId": "781fb9f9-35f5-4e5f-e8b2-fdfa26dd0e7c"
      },
      "outputs": [
        {
          "output_type": "stream",
          "name": "stdout",
          "text": [
            "Training Accuracy: 1.0\n"
          ]
        }
      ],
      "source": [
        "rf_model1= RandomForestClassifier(n_estimators = 100)  \n",
        "rf_model1.fit(X_train1, y_train1)  \n",
        "rf_train1 = rf_model1.score(X_train1,y_train1)\n",
        "print('Training Accuracy:',rf_train1)"
      ]
    },
    {
      "cell_type": "code",
      "execution_count": null,
      "metadata": {
        "colab": {
          "base_uri": "https://localhost:8080/"
        },
        "id": "b5xB9zVaT7I_",
        "outputId": "b6650890-7e29-4ffa-986f-98f8b50396ca"
      },
      "outputs": [
        {
          "output_type": "stream",
          "name": "stdout",
          "text": [
            "Testing Accuracy: 0.9114642451759364\n"
          ]
        }
      ],
      "source": [
        "rf_test1 = rf_model1.score(X_test1,y_test1)\n",
        "print('Testing Accuracy:', rf_test1)"
      ]
    },
    {
      "cell_type": "code",
      "execution_count": null,
      "metadata": {
        "id": "-VyGWC8qT7JA"
      },
      "outputs": [],
      "source": [
        "rf_pred1= rf_model1.predict(X_test1)"
      ]
    },
    {
      "cell_type": "code",
      "execution_count": null,
      "metadata": {
        "colab": {
          "base_uri": "https://localhost:8080/",
          "height": 551
        },
        "id": "Ynh_EinHT7JA",
        "outputId": "46bbab9b-9cab-4413-bb7e-440eb59ac85d"
      },
      "outputs": [
        {
          "output_type": "display_data",
          "data": {
            "text/plain": [
              "<Figure size 720x576 with 2 Axes>"
            ],
            "image/png": "[encoded data removed]"
          },
          "metadata": {
            "needs_background": "light"
          }
        }
      ],
      "source": [
        "plt.figure(figsize=(10,8))\n",
        "fx=sns.heatmap(confusion_matrix(y_test1,rf_pred1), annot=True, fmt=\".2f\",cmap=\"GnBu\")\n",
        "fx.set_title('Confusion Matrix \\n');\n",
        "fx.set_xlabel('\\n Predicted Correctness\\n')\n",
        "fx.set_ylabel('Actual Correctness\\n');\n",
        "fx.xaxis.set_ticklabels(['Correct','Incorrect'])\n",
        "fx.yaxis.set_ticklabels(['Correct','Incorrect'])\n",
        "plt.show()"
      ]
    },
    {
      "cell_type": "code",
      "execution_count": null,
      "metadata": {
        "colab": {
          "base_uri": "https://localhost:8080/"
        },
        "id": "g-At7ZCLT7JA",
        "outputId": "4bcf7b9b-f5af-439e-b3d0-08fa105ecdab"
      },
      "outputs": [
        {
          "output_type": "stream",
          "name": "stdout",
          "text": [
            "recall: 0.9032258064516129\n",
            "Precision: 0.9158878504672897\n",
            "F1 score: 0.9095127610208816\n",
            "Accuracy: 0.9114642451759364\n"
          ]
        }
      ],
      "source": [
        "print('recall:',recall_score(y_test1, rf_pred1))\n",
        "print('Precision:',precision_score(y_test1, rf_pred1))\n",
        "print('F1 score:', f1_score(y_test1, rf_pred1))\n",
        "print('Accuracy:',accuracy_score(y_test1, rf_pred1))"
      ]
    },
    {
      "cell_type": "markdown",
      "metadata": {
        "id": "avhBwXqtT7JA"
      },
      "source": [
        "### Decision Tree"
      ]
    },
    {
      "cell_type": "code",
      "execution_count": null,
      "metadata": {
        "colab": {
          "base_uri": "https://localhost:8080/"
        },
        "id": "X_sxEG8jT7JA",
        "outputId": "955420fa-cb2e-48b6-fc50-f990d10b672c"
      },
      "outputs": [
        {
          "output_type": "stream",
          "name": "stdout",
          "text": [
            "Training Accuracy: 1.0\n"
          ]
        }
      ],
      "source": [
        "dt_model1 = DecisionTreeClassifier()\n",
        "dt_model1.fit(X_train1, y_train1)  \n",
        "dt_train1 = dt_model1.score(X_train1,y_train1)\n",
        "print('Training Accuracy:',dt_train1)"
      ]
    },
    {
      "cell_type": "code",
      "execution_count": null,
      "metadata": {
        "colab": {
          "base_uri": "https://localhost:8080/"
        },
        "id": "xnDAB00XT7JB",
        "outputId": "eba8e0b4-b20f-44d3-d50f-d115b59f69d7"
      },
      "outputs": [
        {
          "output_type": "stream",
          "name": "stdout",
          "text": [
            "Testing Accuracy: 0.9387060158910329\n"
          ]
        }
      ],
      "source": [
        "dt_test1 = dt_model1.score(X_test1,y_test1)\n",
        "print('Testing Accuracy:', dt_test1)"
      ]
    },
    {
      "cell_type": "code",
      "execution_count": null,
      "metadata": {
        "id": "8V84VdduT7JB"
      },
      "outputs": [],
      "source": [
        "dt_pred1= dt_model1.predict(X_test1)"
      ]
    },
    {
      "cell_type": "code",
      "execution_count": null,
      "metadata": {
        "colab": {
          "base_uri": "https://localhost:8080/",
          "height": 551
        },
        "id": "d6ew_Wz_T7JB",
        "outputId": "88d42888-bc2d-497e-fe1c-75e71cf3a3a1"
      },
      "outputs": [
        {
          "output_type": "display_data",
          "data": {
            "text/plain": [
              "<Figure size 720x576 with 2 Axes>"
            ],
            "image/png": "[encoded data removed]"
          },
          "metadata": {
            "needs_background": "light"
          }
        }
      ],
      "source": [
        "plt.figure(figsize=(10,8))\n",
        "fx=sns.heatmap(confusion_matrix(y_test1,dt_pred1), annot=True, fmt=\".2f\",cmap=\"GnBu\")\n",
        "fx.set_title('Confusion Matrix \\n');\n",
        "fx.set_xlabel('\\n Predicted Correctness\\n')\n",
        "fx.set_ylabel('Actual Correctness\\n');\n",
        "fx.xaxis.set_ticklabels(['Correct','Incorrect'])\n",
        "fx.yaxis.set_ticklabels(['Correct','Incorrect'])\n",
        "plt.show()"
      ]
    },
    {
      "cell_type": "code",
      "execution_count": null,
      "metadata": {
        "colab": {
          "base_uri": "https://localhost:8080/"
        },
        "id": "5OzrKQTaT7JB",
        "outputId": "8ad21180-6622-4922-f06d-baa3eb1dde4a"
      },
      "outputs": [
        {
          "output_type": "stream",
          "name": "stdout",
          "text": [
            "recall: 0.9354838709677419\n",
            "Precision: 0.9398148148148148\n",
            "F1 score: 0.9376443418013857\n",
            "Accuracy: 0.9387060158910329\n"
          ]
        }
      ],
      "source": [
        "print('recall:',recall_score(y_test1, dt_pred1))\n",
        "print('Precision:',precision_score(y_test1, dt_pred1))\n",
        "print('F1 score:', f1_score(y_test1, dt_pred1))\n",
        "print('Accuracy:',accuracy_score(y_test1, dt_pred1))"
      ]
    },
    {
      "cell_type": "markdown",
      "metadata": {
        "id": "57yY1ncJT7JC"
      },
      "source": [
        "# **Multinomial Naive Bayes**"
      ]
    },
    {
      "cell_type": "code",
      "execution_count": null,
      "metadata": {
        "colab": {
          "base_uri": "https://localhost:8080/"
        },
        "id": "hbq0dzjXT7JC",
        "outputId": "5f3b1fc6-1a3a-4660-d216-aaa2b575bb08"
      },
      "outputs": [
        {
          "output_type": "stream",
          "name": "stdout",
          "text": [
            "Training Accuracy: 0.9426625035481124\n"
          ]
        }
      ],
      "source": [
        "mnb_model1 = MultinomialNB(alpha=0.15)\n",
        "mnb_model1.fit(X_train1, y_train1)  \n",
        "mnb_train1 = mnb_model1.score(X_train1,y_train1)\n",
        "print('Training Accuracy:',mnb_train1)"
      ]
    },
    {
      "cell_type": "code",
      "execution_count": null,
      "metadata": {
        "colab": {
          "base_uri": "https://localhost:8080/"
        },
        "id": "c7S6J1y0T7JC",
        "outputId": "287612b4-23a6-4778-f139-0e0a3395cd42"
      },
      "outputs": [
        {
          "output_type": "stream",
          "name": "stdout",
          "text": [
            "Testing Accuracy: 0.8433598183881952\n"
          ]
        }
      ],
      "source": [
        "mnb_test1 = mnb_model1.score(X_test1,y_test1)\n",
        "print('Testing Accuracy:', mnb_test1)"
      ]
    },
    {
      "cell_type": "code",
      "execution_count": null,
      "metadata": {
        "id": "tM-DTlffT7JC"
      },
      "outputs": [],
      "source": [
        "mnb_pred1= mnb_model1.predict(X_test1)"
      ]
    },
    {
      "cell_type": "code",
      "execution_count": null,
      "metadata": {
        "colab": {
          "base_uri": "https://localhost:8080/",
          "height": 551
        },
        "id": "kTUEaoC8T7JC",
        "outputId": "c24a3749-4c99-43cd-8dab-597c3620ccc9"
      },
      "outputs": [
        {
          "output_type": "display_data",
          "data": {
            "text/plain": [
              "<Figure size 720x576 with 2 Axes>"
            ],
            "image/png": "[encoded data removed]"
          },
          "metadata": {
            "needs_background": "light"
          }
        }
      ],
      "source": [
        "plt.figure(figsize=(10,8))\n",
        "fx=sns.heatmap(confusion_matrix(y_test1,mnb_pred1), annot=True, fmt=\".2f\",cmap=\"GnBu\")\n",
        "fx.set_title('Confusion Matrix \\n');\n",
        "fx.set_xlabel('\\n Predicted Correctness\\n')\n",
        "fx.set_ylabel('Actual Correctness\\n');\n",
        "fx.xaxis.set_ticklabels(['Correct','Incorrect'])\n",
        "fx.yaxis.set_ticklabels(['Correct','Incorrect'])\n",
        "plt.show()\n"
      ]
    },
    {
      "cell_type": "code",
      "execution_count": null,
      "metadata": {
        "colab": {
          "base_uri": "https://localhost:8080/"
        },
        "id": "Uq5rbaaDT7JC",
        "outputId": "000178b2-ed76-4b08-f164-3c3a1a33fcdb"
      },
      "outputs": [
        {
          "output_type": "stream",
          "name": "stdout",
          "text": [
            "recall: 0.8387096774193549\n",
            "Precision: 0.8425925925925926\n",
            "F1 score: 0.8406466512702079\n",
            "Accuracy: 0.8433598183881952\n"
          ]
        }
      ],
      "source": [
        "print('recall:',recall_score(y_test1, mnb_pred1))\n",
        "print('Precision:',precision_score(y_test1, mnb_pred1))\n",
        "print('F1 score:', f1_score(y_test1, mnb_pred1))\n",
        "print('Accuracy:',accuracy_score(y_test1, mnb_pred1))"
      ]
    },
    {
      "cell_type": "code",
      "execution_count": null,
      "metadata": {
        "id": "FwrwvXiUxNPo"
      },
      "outputs": [],
      "source": []
    },
    {
      "cell_type": "markdown",
      "metadata": {
        "id": "GIjXfQR6xNrT"
      },
      "source": [
        "# **BAGGING CLASSFIER**"
      ]
    },
    {
      "cell_type": "code",
      "execution_count": null,
      "metadata": {
        "colab": {
          "base_uri": "https://localhost:8080/"
        },
        "id": "gmJpp3KIxNrT",
        "outputId": "76d283ea-9e17-412f-d513-8e19f31ae178"
      },
      "outputs": [
        {
          "output_type": "stream",
          "name": "stderr",
          "text": [
            "/usr/local/lib/python3.9/dist-packages/sklearn/ensemble/_base.py:166: FutureWarning: `base_estimator` was renamed to `estimator` in version 1.2 and will be removed in 1.4.\n",
            "  warnings.warn(\n"
          ]
        }
      ],
      "source": [
        "# define a decision tree classifier as the base estimator\n",
        "base_estimator1 = DecisionTreeClassifier()\n",
        "\n",
        "# define the bagging classifier with 100 estimators\n",
        "bagging1 = BaggingClassifier(base_estimator=base_estimator1, n_estimators=100, random_state=42)\n",
        "\n",
        "# train the bagging classifier on the training data\n",
        "b_train1 = bagging1.fit(X_train1, y_train1)"
      ]
    },
    {
      "cell_type": "code",
      "execution_count": null,
      "metadata": {
        "colab": {
          "base_uri": "https://localhost:8080/"
        },
        "id": "pv24VunexNrT",
        "outputId": "284ba778-ddc2-4f95-e363-86898094d2f8"
      },
      "outputs": [
        {
          "output_type": "stream",
          "name": "stdout",
          "text": [
            "Testing Accuracy: 0.9205448354143019\n"
          ]
        }
      ],
      "source": [
        "b_test1 = bagging1.score(X_test1,y_test1)\n",
        "print('Testing Accuracy:', b_test1)"
      ]
    },
    {
      "cell_type": "code",
      "execution_count": null,
      "metadata": {
        "id": "TThTxaauxNrU"
      },
      "outputs": [],
      "source": [
        "b_pred1= bagging1.predict(X_test1)"
      ]
    },
    {
      "cell_type": "code",
      "execution_count": null,
      "metadata": {
        "colab": {
          "base_uri": "https://localhost:8080/",
          "height": 551
        },
        "id": "bj3r7Li_xNrU",
        "outputId": "b354fbdc-7b69-452b-88d9-fb821f838cf2"
      },
      "outputs": [
        {
          "output_type": "display_data",
          "data": {
            "text/plain": [
              "<Figure size 720x576 with 2 Axes>"
            ],
            "image/png": "[encoded data removed]"
          },
          "metadata": {
            "needs_background": "light"
          }
        }
      ],
      "source": [
        "plt.figure(figsize=(10,8))\n",
        "fx=sns.heatmap(confusion_matrix(y_test1,b_pred1), annot=True, fmt=\".2f\",cmap=\"GnBu\")\n",
        "fx.set_title('Confusion Matrix \\n');\n",
        "fx.set_xlabel('\\n Predicted Correctness\\n')\n",
        "fx.set_ylabel('Actual Correctness\\n');\n",
        "fx.xaxis.set_ticklabels(['Correct','Incorrect'])\n",
        "fx.yaxis.set_ticklabels(['Correct','Incorrect'])\n",
        "plt.show()"
      ]
    },
    {
      "cell_type": "code",
      "execution_count": null,
      "metadata": {
        "colab": {
          "base_uri": "https://localhost:8080/"
        },
        "id": "-iTclFLCxNrU",
        "outputId": "0e642d5d-0e28-488d-8b22-0f29f9329f49"
      },
      "outputs": [
        {
          "output_type": "stream",
          "name": "stdout",
          "text": [
            "recall: 0.9262672811059908\n",
            "Precision: 0.9136363636363637\n",
            "F1 score: 0.919908466819222\n",
            "Accuracy: 0.9205448354143019\n"
          ]
        }
      ],
      "source": [
        "print('recall:',recall_score(y_test1, b_pred1))\n",
        "print('Precision:',precision_score(y_test1, b_pred1))\n",
        "print('F1 score:', f1_score(y_test1, b_pred1))\n",
        "print('Accuracy:',accuracy_score(y_test1, b_pred1))"
      ]
    },
    {
      "cell_type": "markdown",
      "metadata": {
        "id": "CXqQxXwQxNrU"
      },
      "source": [
        "# **STACKING CLASSIFIER**"
      ]
    },
    {
      "cell_type": "code",
      "execution_count": null,
      "metadata": {
        "id": "Th7xyOZExNrU"
      },
      "outputs": [],
      "source": [
        "# define the base models\n",
        "base_models1 = [('random_forest', RandomForestClassifier(n_estimators=100, random_state=42)),\n",
        "               ('gradient_boosting', GradientBoostingClassifier(n_estimators=100, random_state=42))]\n",
        "\n",
        "# define the meta model\n",
        "meta_model1 = LogisticRegression()\n",
        "\n",
        "# define the stacking classifier\n",
        "stacking1 = StackingClassifier(estimators=base_models1, final_estimator=meta_model1, cv=KFold(n_splits=5))\n",
        "\n",
        "# fit the stacking classifier on the training data\n",
        "s_train1=stacking1.fit(X_train1, y_train1)"
      ]
    },
    {
      "cell_type": "code",
      "execution_count": null,
      "metadata": {
        "colab": {
          "base_uri": "https://localhost:8080/"
        },
        "id": "gEXovFs7xNrU",
        "outputId": "841d8d4a-ab03-4940-861d-80ccf62307a5"
      },
      "outputs": [
        {
          "output_type": "stream",
          "name": "stdout",
          "text": [
            "Testing Accuracy: 0.9114642451759364\n"
          ]
        }
      ],
      "source": [
        "s_test1 = stacking1.score(X_test1,y_test1)\n",
        "print('Testing Accuracy:', s_test1)"
      ]
    },
    {
      "cell_type": "code",
      "execution_count": null,
      "metadata": {
        "id": "3S_b4M89xNrU"
      },
      "outputs": [],
      "source": [
        "s_pred1= stacking1.predict(X_test1)"
      ]
    },
    {
      "cell_type": "code",
      "execution_count": null,
      "metadata": {
        "colab": {
          "base_uri": "https://localhost:8080/",
          "height": 551
        },
        "id": "lmioPxmYxNrV",
        "outputId": "30daf9fc-44e2-4b66-ea35-755d180d6e80"
      },
      "outputs": [
        {
          "output_type": "display_data",
          "data": {
            "text/plain": [
              "<Figure size 720x576 with 2 Axes>"
            ],
            "image/png": "[encoded data removed]"
          },
          "metadata": {
            "needs_background": "light"
          }
        }
      ],
      "source": [
        "plt.figure(figsize=(10,8))\n",
        "fx=sns.heatmap(confusion_matrix(y_test1,s_pred1), annot=True, fmt=\".2f\",cmap=\"GnBu\")\n",
        "fx.set_title('Confusion Matrix \\n');\n",
        "fx.set_xlabel('\\n Predicted Correctness\\n')\n",
        "fx.set_ylabel('Actual Correctness\\n');\n",
        "fx.xaxis.set_ticklabels(['Correct','Incorrect'])\n",
        "fx.yaxis.set_ticklabels(['Correct','Incorrect'])\n",
        "plt.show()"
      ]
    },
    {
      "cell_type": "code",
      "execution_count": null,
      "metadata": {
        "colab": {
          "base_uri": "https://localhost:8080/"
        },
        "id": "Vk3ihA0wxNrV",
        "outputId": "282c2669-efdc-4e10-dae6-4d8ed2b77fe8"
      },
      "outputs": [
        {
          "output_type": "stream",
          "name": "stdout",
          "text": [
            "recall: 0.9032258064516129\n",
            "Precision: 0.9158878504672897\n",
            "F1 score: 0.9095127610208816\n",
            "Accuracy: 0.9114642451759364\n"
          ]
        }
      ],
      "source": [
        "print('recall:',recall_score(y_test1, s_pred1))\n",
        "print('Precision:',precision_score(y_test1, s_pred1))\n",
        "print('F1 score:', f1_score(y_test1, s_pred1))\n",
        "print('Accuracy:',accuracy_score(y_test1, s_pred1))"
      ]
    },
    {
      "cell_type": "markdown",
      "metadata": {
        "id": "Tbgg9DraxNrV"
      },
      "source": [
        "# **VOTING CLASSIFIER**"
      ]
    },
    {
      "cell_type": "code",
      "execution_count": null,
      "metadata": {
        "colab": {
          "base_uri": "https://localhost:8080/",
          "height": 112
        },
        "id": "Dmp0uag0xNrV",
        "outputId": "68881fda-2164-4c7e-f59c-7b5325d75a77"
      },
      "outputs": [
        {
          "output_type": "execute_result",
          "data": {
            "text/plain": [
              "VotingClassifier(estimators=[('lr', LogisticRegression(random_state=1)),\n",
              "                             ('nb', GaussianNB()),\n",
              "                             ('knn', KNeighborsClassifier(n_neighbors=3))])"
            ],
            "text/html": [
              "<style>#sk-container-id-2 {color: black;background-color: white;}#sk-container-id-2 pre{padding: 0;}#sk-container-id-2 div.sk-toggleable {background-color: white;}#sk-container-id-2 label.sk-toggleable__label {cursor: pointer;display: block;width: 100%;margin-bottom: 0;padding: 0.3em;box-sizing: border-box;text-align: center;}#sk-container-id-2 label.sk-toggleable__label-arrow:before {content: \"▸\";float: left;margin-right: 0.25em;color: #696969;}#sk-container-id-2 label.sk-toggleable__label-arrow:hover:before {color: black;}#sk-container-id-2 div.sk-estimator:hover label.sk-toggleable__label-arrow:before {color: black;}#sk-container-id-2 div.sk-toggleable__content {max-height: 0;max-width: 0;overflow: hidden;text-align: left;background-color: #f0f8ff;}#sk-container-id-2 div.sk-toggleable__content pre {margin: 0.2em;color: black;border-radius: 0.25em;background-color: #f0f8ff;}#sk-container-id-2 input.sk-toggleable__control:checked~div.sk-toggleable__content {max-height: 200px;max-width: 100%;overflow: auto;}#sk-container-id-2 input.sk-toggleable__control:checked~label.sk-toggleable__label-arrow:before {content: \"▾\";}#sk-container-id-2 div.sk-estimator input.sk-toggleable__control:checked~label.sk-toggleable__label {background-color: #d4ebff;}#sk-container-id-2 div.sk-label input.sk-toggleable__control:checked~label.sk-toggleable__label {background-color: #d4ebff;}#sk-container-id-2 input.sk-hidden--visually {border: 0;clip: rect(1px 1px 1px 1px);clip: rect(1px, 1px, 1px, 1px);height: 1px;margin: -1px;overflow: hidden;padding: 0;position: absolute;width: 1px;}#sk-container-id-2 div.sk-estimator {font-family: monospace;background-color: #f0f8ff;border: 1px dotted black;border-radius: 0.25em;box-sizing: border-box;margin-bottom: 0.5em;}#sk-container-id-2 div.sk-estimator:hover {background-color: #d4ebff;}#sk-container-id-2 div.sk-parallel-item::after {content: \"\";width: 100%;border-bottom: 1px solid gray;flex-grow: 1;}#sk-container-id-2 div.sk-label:hover label.sk-toggleable__label {background-color: #d4ebff;}#sk-container-id-2 div.sk-serial::before {content: \"\";position: absolute;border-left: 1px solid gray;box-sizing: border-box;top: 0;bottom: 0;left: 50%;z-index: 0;}#sk-container-id-2 div.sk-serial {display: flex;flex-direction: column;align-items: center;background-color: white;padding-right: 0.2em;padding-left: 0.2em;position: relative;}#sk-container-id-2 div.sk-item {position: relative;z-index: 1;}#sk-container-id-2 div.sk-parallel {display: flex;align-items: stretch;justify-content: center;background-color: white;position: relative;}#sk-container-id-2 div.sk-item::before, #sk-container-id-2 div.sk-parallel-item::before {content: \"\";position: absolute;border-left: 1px solid gray;box-sizing: border-box;top: 0;bottom: 0;left: 50%;z-index: -1;}#sk-container-id-2 div.sk-parallel-item {display: flex;flex-direction: column;z-index: 1;position: relative;background-color: white;}#sk-container-id-2 div.sk-parallel-item:first-child::after {align-self: flex-end;width: 50%;}#sk-container-id-2 div.sk-parallel-item:last-child::after {align-self: flex-start;width: 50%;}#sk-container-id-2 div.sk-parallel-item:only-child::after {width: 0;}#sk-container-id-2 div.sk-dashed-wrapped {border: 1px dashed gray;margin: 0 0.4em 0.5em 0.4em;box-sizing: border-box;padding-bottom: 0.4em;background-color: white;}#sk-container-id-2 div.sk-label label {font-family: monospace;font-weight: bold;display: inline-block;line-height: 1.2em;}#sk-container-id-2 div.sk-label-container {text-align: center;}#sk-container-id-2 div.sk-container {/* jupyter's `normalize.less` sets `[hidden] { display: none; }` but bootstrap.min.css set `[hidden] { display: none !important; }` so we also need the `!important` here to be able to override the default hidden behavior on the sphinx rendered scikit-learn.org. See: https://github.com/scikit-learn/scikit-learn/issues/21755 */display: inline-block !important;position: relative;}#sk-container-id-2 div.sk-text-repr-fallback {display: none;}</style><div id=\"sk-container-id-2\" class=\"sk-top-container\"><div class=\"sk-text-repr-fallback\"><pre>VotingClassifier(estimators=[(&#x27;lr&#x27;, LogisticRegression(random_state=1)),\n",
              "                             (&#x27;nb&#x27;, GaussianNB()),\n",
              "                             (&#x27;knn&#x27;, KNeighborsClassifier(n_neighbors=3))])</pre><b>In a Jupyter environment, please rerun this cell to show the HTML representation or trust the notebook. <br />On GitHub, the HTML representation is unable to render, please try loading this page with nbviewer.org.</b></div><div class=\"sk-container\" hidden><div class=\"sk-item sk-dashed-wrapped\"><div class=\"sk-label-container\"><div class=\"sk-label sk-toggleable\"><input class=\"sk-toggleable__control sk-hidden--visually\" id=\"sk-estimator-id-5\" type=\"checkbox\" ><label for=\"sk-estimator-id-5\" class=\"sk-toggleable__label sk-toggleable__label-arrow\">VotingClassifier</label><div class=\"sk-toggleable__content\"><pre>VotingClassifier(estimators=[(&#x27;lr&#x27;, LogisticRegression(random_state=1)),\n",
              "                             (&#x27;nb&#x27;, GaussianNB()),\n",
              "                             (&#x27;knn&#x27;, KNeighborsClassifier(n_neighbors=3))])</pre></div></div></div><div class=\"sk-parallel\"><div class=\"sk-parallel-item\"><div class=\"sk-item\"><div class=\"sk-label-container\"><div class=\"sk-label sk-toggleable\"><label>lr</label></div></div><div class=\"sk-serial\"><div class=\"sk-item\"><div class=\"sk-estimator sk-toggleable\"><input class=\"sk-toggleable__control sk-hidden--visually\" id=\"sk-estimator-id-6\" type=\"checkbox\" ><label for=\"sk-estimator-id-6\" class=\"sk-toggleable__label sk-toggleable__label-arrow\">LogisticRegression</label><div class=\"sk-toggleable__content\"><pre>LogisticRegression(random_state=1)</pre></div></div></div></div></div></div><div class=\"sk-parallel-item\"><div class=\"sk-item\"><div class=\"sk-label-container\"><div class=\"sk-label sk-toggleable\"><label>nb</label></div></div><div class=\"sk-serial\"><div class=\"sk-item\"><div class=\"sk-estimator sk-toggleable\"><input class=\"sk-toggleable__control sk-hidden--visually\" id=\"sk-estimator-id-7\" type=\"checkbox\" ><label for=\"sk-estimator-id-7\" class=\"sk-toggleable__label sk-toggleable__label-arrow\">GaussianNB</label><div class=\"sk-toggleable__content\"><pre>GaussianNB()</pre></div></div></div></div></div></div><div class=\"sk-parallel-item\"><div class=\"sk-item\"><div class=\"sk-label-container\"><div class=\"sk-label sk-toggleable\"><label>knn</label></div></div><div class=\"sk-serial\"><div class=\"sk-item\"><div class=\"sk-estimator sk-toggleable\"><input class=\"sk-toggleable__control sk-hidden--visually\" id=\"sk-estimator-id-8\" type=\"checkbox\" ><label for=\"sk-estimator-id-8\" class=\"sk-toggleable__label sk-toggleable__label-arrow\">KNeighborsClassifier</label><div class=\"sk-toggleable__content\"><pre>KNeighborsClassifier(n_neighbors=3)</pre></div></div></div></div></div></div></div></div></div></div>"
            ]
          },
          "metadata": {},
          "execution_count": 134
        }
      ],
      "source": [
        "# Define the individual classifiers\n",
        "clf1 = LogisticRegression(random_state=1)\n",
        "clf2 = GaussianNB()\n",
        "clf3 = KNeighborsClassifier(n_neighbors=3)\n",
        "\n",
        "# Define the voting classifier\n",
        "voting_clf1 = VotingClassifier(estimators=[('lr', clf1), ('nb', clf2), ('knn', clf3)], voting='hard')\n",
        "\n",
        "# Train the voting classifier on the training data\n",
        "voting_clf1.fit(X_train1, y_train1)\n"
      ]
    },
    {
      "cell_type": "code",
      "execution_count": null,
      "metadata": {
        "colab": {
          "base_uri": "https://localhost:8080/"
        },
        "id": "Z7zRMOcfxNrV",
        "outputId": "bb700147-f8b8-4495-aab2-6adf0f96973f"
      },
      "outputs": [
        {
          "output_type": "stream",
          "name": "stdout",
          "text": [
            "Testing Accuracy: 0.9080590238365494\n"
          ]
        }
      ],
      "source": [
        "v_test1 = voting_clf1.score(X_test1,y_test1)\n",
        "print('Testing Accuracy:', v_test1)"
      ]
    },
    {
      "cell_type": "code",
      "execution_count": null,
      "metadata": {
        "id": "4L1ru0-CxNrV"
      },
      "outputs": [],
      "source": [
        "v_pred1= voting_clf1.predict(X_test1)"
      ]
    },
    {
      "cell_type": "code",
      "execution_count": null,
      "metadata": {
        "colab": {
          "base_uri": "https://localhost:8080/",
          "height": 551
        },
        "id": "R2-Nuo-_xNrW",
        "outputId": "833b7274-8c65-4d45-9f0d-c78fe0e20431"
      },
      "outputs": [
        {
          "output_type": "display_data",
          "data": {
            "text/plain": [
              "<Figure size 720x576 with 2 Axes>"
            ],
            "image/png": "[encoded data removed]"
          },
          "metadata": {
            "needs_background": "light"
          }
        }
      ],
      "source": [
        "plt.figure(figsize=(10,8))\n",
        "fx=sns.heatmap(confusion_matrix(y_test1,v_pred1), annot=True, fmt=\".2f\",cmap=\"GnBu\")\n",
        "fx.set_title('Confusion Matrix \\n');\n",
        "fx.set_xlabel('\\n Predicted Correctness\\n')\n",
        "fx.set_ylabel('Actual Correctness\\n');\n",
        "fx.xaxis.set_ticklabels(['Correct','Incorrect'])\n",
        "fx.yaxis.set_ticklabels(['Correct','Incorrect'])\n",
        "plt.show()"
      ]
    },
    {
      "cell_type": "code",
      "execution_count": null,
      "metadata": {
        "colab": {
          "base_uri": "https://localhost:8080/"
        },
        "id": "mqJjhKPixNrW",
        "outputId": "1c66eb46-49b5-4b78-f547-d9eda3b90589"
      },
      "outputs": [
        {
          "output_type": "stream",
          "name": "stdout",
          "text": [
            "recall: 0.9032258064516129\n",
            "Precision: 0.9095127610208816\n",
            "F1 score: 0.9063583815028902\n",
            "Accuracy: 0.9080590238365494\n"
          ]
        }
      ],
      "source": [
        "print('recall:',recall_score(y_test1, v_pred1))\n",
        "print('Precision:',precision_score(y_test1, v_pred1))\n",
        "print('F1 score:', f1_score(y_test1, v_pred1))\n",
        "print('Accuracy:',accuracy_score(y_test1, v_pred1))"
      ]
    },
    {
      "cell_type": "markdown",
      "metadata": {
        "id": "t8ymZCdSUfaZ"
      },
      "source": [
        "# **For Trigram**"
      ]
    },
    {
      "cell_type": "code",
      "execution_count": null,
      "metadata": {
        "id": "n7jgs54PT9j_"
      },
      "outputs": [],
      "source": [
        "from sklearn.feature_extraction.text import TfidfVectorizer\n",
        "vectorizer2 = TfidfVectorizer(ngram_range=(1,3),use_idf=True,tokenizer=lambda x: x.split())"
      ]
    },
    {
      "cell_type": "code",
      "execution_count": null,
      "metadata": {
        "colab": {
          "base_uri": "https://localhost:8080/"
        },
        "id": "xNIp9ZxeT9kA",
        "outputId": "797acbda-6299-4fd6-d884-fcd8b107d8a7"
      },
      "outputs": [
        {
          "output_type": "stream",
          "name": "stderr",
          "text": [
            "/usr/local/lib/python3.9/dist-packages/sklearn/feature_extraction/text.py:528: UserWarning: The parameter 'token_pattern' will not be used since 'tokenizer' is not None'\n",
            "  warnings.warn(\n"
          ]
        }
      ],
      "source": [
        "x2=  vectorizer2.fit_transform(mod_data['content']).toarray()\n",
        "y2=dataset.iloc[:,1].values"
      ]
    },
    {
      "cell_type": "code",
      "execution_count": null,
      "metadata": {
        "colab": {
          "base_uri": "https://localhost:8080/"
        },
        "id": "sOk7M4BsT9kA",
        "outputId": "2e5c904c-7518-4355-bdff-69f0173e1095"
      },
      "outputs": [
        {
          "output_type": "execute_result",
          "data": {
            "text/plain": [
              "array([[0., 0., 0., ..., 0., 0., 0.],\n",
              "       [0., 0., 0., ..., 0., 0., 0.],\n",
              "       [0., 0., 0., ..., 0., 0., 0.],\n",
              "       ...,\n",
              "       [0., 0., 0., ..., 0., 0., 0.],\n",
              "       [0., 0., 0., ..., 0., 0., 0.],\n",
              "       [0., 0., 0., ..., 0., 0., 0.]])"
            ]
          },
          "metadata": {},
          "execution_count": 141
        }
      ],
      "source": [
        "x2"
      ]
    },
    {
      "cell_type": "code",
      "execution_count": null,
      "metadata": {
        "id": "DkJ3GqaMT9kA"
      },
      "outputs": [],
      "source": [
        "from sklearn.model_selection import train_test_split\n",
        "X_train2,X_test2,y_train2,y_test2=train_test_split(x2 , y2, test_size=0.2, random_state=0)"
      ]
    },
    {
      "cell_type": "markdown",
      "metadata": {
        "id": "46XBe2B4T9kA"
      },
      "source": [
        "# **K-Nearest Neighbor(KNN)**"
      ]
    },
    {
      "cell_type": "code",
      "execution_count": null,
      "metadata": {
        "colab": {
          "base_uri": "https://localhost:8080/"
        },
        "id": "MzKiIHUiT9kB",
        "outputId": "9fa08a71-d341-4940-909c-311a8710a4d7"
      },
      "outputs": [
        {
          "output_type": "stream",
          "name": "stdout",
          "text": [
            "Training Accuracy:\n",
            "0.974169741697417\n"
          ]
        }
      ],
      "source": [
        "knn_model2 = KNeighborsClassifier(n_neighbors=3, metric = 'minkowski')\n",
        "knn_model2.fit(X_train2,y_train2)\n",
        "knn_train2 = knn_model2.score(X_train2,y_train2)\n",
        "print('Training Accuracy:')\n",
        "print(knn_train2)"
      ]
    },
    {
      "cell_type": "code",
      "execution_count": null,
      "metadata": {
        "colab": {
          "base_uri": "https://localhost:8080/"
        },
        "id": "j9IfGkUNT9kB",
        "outputId": "a3339ff7-1f45-48d0-dd2b-4ddf6019a364"
      },
      "outputs": [
        {
          "output_type": "stream",
          "name": "stdout",
          "text": [
            "Testing Accuracy:\n",
            "0.8422247446083996\n"
          ]
        }
      ],
      "source": [
        "knn_test2 = knn_model2.score(X_test2,y_test2)\n",
        "print('Testing Accuracy:')\n",
        "print(knn_test2)"
      ]
    },
    {
      "cell_type": "code",
      "execution_count": null,
      "metadata": {
        "id": "bK3r4DoJT9kB"
      },
      "outputs": [],
      "source": [
        "k_pred2= knn_model2.predict(X_test2)"
      ]
    },
    {
      "cell_type": "code",
      "execution_count": null,
      "metadata": {
        "colab": {
          "base_uri": "https://localhost:8080/",
          "height": 551
        },
        "id": "BGm29gYxT9kB",
        "outputId": "ec21a609-e1e2-46db-8855-4a32850044a3"
      },
      "outputs": [
        {
          "output_type": "display_data",
          "data": {
            "text/plain": [
              "<Figure size 720x576 with 2 Axes>"
            ],
            "image/png": "[encoded data removed]"
          },
          "metadata": {
            "needs_background": "light"
          }
        }
      ],
      "source": [
        "plt.figure(figsize=(10,8))\n",
        "fx=sns.heatmap(confusion_matrix(y_test2,k_pred2), annot=True, fmt=\".2f\",cmap=\"GnBu\")\n",
        "fx.set_title('Confusion Matrix \\n');\n",
        "fx.set_xlabel('\\n Predicted Correctness\\n')\n",
        "fx.set_ylabel('Actual Correctness\\n');\n",
        "fx.xaxis.set_ticklabels(['Correct','Incorrect'])\n",
        "fx.yaxis.set_ticklabels(['Correct','Incorrect'])\n",
        "plt.show()"
      ]
    },
    {
      "cell_type": "code",
      "execution_count": null,
      "metadata": {
        "colab": {
          "base_uri": "https://localhost:8080/"
        },
        "id": "oX7_cb8uT9kB",
        "outputId": "2bde6f0f-4088-492f-dee8-265a28b668c5"
      },
      "outputs": [
        {
          "output_type": "stream",
          "name": "stdout",
          "text": [
            "recall: 0.8341013824884793\n",
            "Precision: 0.8438228438228438\n",
            "F1 score: 0.8389339513325609\n",
            "Accuracy: 0.8422247446083996\n"
          ]
        }
      ],
      "source": [
        "print('recall:',recall_score(y_test2, k_pred2))\n",
        "print('Precision:',precision_score(y_test2, k_pred2))\n",
        "print('F1 score:', f1_score(y_test2, k_pred2))\n",
        "print('Accuracy:',accuracy_score(y_test2, k_pred2))"
      ]
    },
    {
      "cell_type": "markdown",
      "metadata": {
        "id": "rhEcmwFVT9kB"
      },
      "source": [
        "## **Logistic Regression**"
      ]
    },
    {
      "cell_type": "code",
      "execution_count": null,
      "metadata": {
        "colab": {
          "base_uri": "https://localhost:8080/"
        },
        "id": "mdjK3OF1T9kC",
        "outputId": "279f0016-261a-4275-f1be-a16374d6f6d4"
      },
      "outputs": [
        {
          "output_type": "stream",
          "name": "stdout",
          "text": [
            "Training Accuracy: 0.9599772920806131\n"
          ]
        }
      ],
      "source": [
        "lr_model2= LogisticRegression(random_state=0)  \n",
        "lr_model2.fit(X_train2, y_train2)  \n",
        "lr_train2 = lr_model2.score(X_train2,y_train2)\n",
        "print('Training Accuracy:',lr_train2)"
      ]
    },
    {
      "cell_type": "code",
      "execution_count": null,
      "metadata": {
        "colab": {
          "base_uri": "https://localhost:8080/"
        },
        "id": "EI7duqMHT9kC",
        "outputId": "61d5f88c-85a3-4781-dcee-5e0e273a752e"
      },
      "outputs": [
        {
          "output_type": "stream",
          "name": "stdout",
          "text": [
            "Testing Accuracy: 0.8444948921679909\n"
          ]
        }
      ],
      "source": [
        "lr_test2 = lr_model2.score(X_test2,y_test2)\n",
        "print('Testing Accuracy:', lr_test2)"
      ]
    },
    {
      "cell_type": "code",
      "execution_count": null,
      "metadata": {
        "id": "cx7UX1FBT9kC"
      },
      "outputs": [],
      "source": [
        "lr_pred2= lr_model2.predict(X_test2)"
      ]
    },
    {
      "cell_type": "code",
      "execution_count": null,
      "metadata": {
        "colab": {
          "base_uri": "https://localhost:8080/",
          "height": 551
        },
        "id": "Sk-meB8-T9kC",
        "outputId": "fc8090be-77dc-4665-a555-3fbe4f4190ac"
      },
      "outputs": [
        {
          "output_type": "display_data",
          "data": {
            "text/plain": [
              "<Figure size 720x576 with 2 Axes>"
            ],
            "image/png": "[encoded data removed]"
          },
          "metadata": {
            "needs_background": "light"
          }
        }
      ],
      "source": [
        "plt.figure(figsize=(10,8))\n",
        "fx=sns.heatmap(confusion_matrix(y_test2,lr_pred2), annot=True, fmt=\".2f\",cmap=\"GnBu\")\n",
        "fx.set_title('Confusion Matrix \\n');\n",
        "fx.set_xlabel('\\n Predicted Correctness\\n')\n",
        "fx.set_ylabel('Actual Correctness\\n');\n",
        "fx.xaxis.set_ticklabels(['Correct','Incorrect'])\n",
        "fx.yaxis.set_ticklabels(['Correct','Incorrect'])\n",
        "plt.show()"
      ]
    },
    {
      "cell_type": "code",
      "execution_count": null,
      "metadata": {
        "colab": {
          "base_uri": "https://localhost:8080/"
        },
        "id": "OZbr0WRJT9kC",
        "outputId": "c3489acc-8123-4f37-d467-a2f0fb4ddba9"
      },
      "outputs": [
        {
          "output_type": "stream",
          "name": "stdout",
          "text": [
            "recall: 0.8663594470046083\n",
            "Precision: 0.8263736263736263\n",
            "F1 score: 0.8458942632170978\n",
            "Accuracy: 0.8444948921679909\n"
          ]
        }
      ],
      "source": [
        "print('recall:',recall_score(y_test2, lr_pred2))\n",
        "print('Precision:',precision_score(y_test2, lr_pred2))\n",
        "print('F1 score:', f1_score(y_test2, lr_pred2))\n",
        "print('Accuracy:',accuracy_score(y_test2, lr_pred2))"
      ]
    },
    {
      "cell_type": "markdown",
      "metadata": {
        "id": "nWETDk_8T9kC"
      },
      "source": [
        "### Random Forest"
      ]
    },
    {
      "cell_type": "code",
      "execution_count": null,
      "metadata": {
        "colab": {
          "base_uri": "https://localhost:8080/"
        },
        "id": "32QFf0vnT9kD",
        "outputId": "004def86-25cc-4a2f-8535-159be5855582"
      },
      "outputs": [
        {
          "output_type": "stream",
          "name": "stdout",
          "text": [
            "Training Accuracy: 1.0\n"
          ]
        }
      ],
      "source": [
        "rf_model2= RandomForestClassifier(n_estimators = 100)  \n",
        "rf_model2.fit(X_train2, y_train2)  \n",
        "rf_train2 = rf_model2.score(X_train2,y_train2)\n",
        "print('Training Accuracy:',rf_train2)"
      ]
    },
    {
      "cell_type": "code",
      "execution_count": null,
      "metadata": {
        "colab": {
          "base_uri": "https://localhost:8080/"
        },
        "id": "Isx_7pQXT9kD",
        "outputId": "ad6f650a-c177-48d1-9f44-256806ab021a"
      },
      "outputs": [
        {
          "output_type": "stream",
          "name": "stdout",
          "text": [
            "Testing Accuracy: 0.9250851305334846\n"
          ]
        }
      ],
      "source": [
        "rf_test2 = rf_model2.score(X_test2,y_test2)\n",
        "print('Testing Accuracy:', rf_test2)"
      ]
    },
    {
      "cell_type": "code",
      "execution_count": null,
      "metadata": {
        "id": "Oqp3F1XhT9kD"
      },
      "outputs": [],
      "source": [
        "rf_pred2= rf_model2.predict(X_test2)"
      ]
    },
    {
      "cell_type": "code",
      "execution_count": null,
      "metadata": {
        "colab": {
          "base_uri": "https://localhost:8080/",
          "height": 551
        },
        "id": "VCK2aV-7T9kD",
        "outputId": "324461ef-6a5b-438f-e8e5-d7e022f84816"
      },
      "outputs": [
        {
          "output_type": "display_data",
          "data": {
            "text/plain": [
              "<Figure size 720x576 with 2 Axes>"
            ],
            "image/png": "[encoded data removed]"
          },
          "metadata": {
            "needs_background": "light"
          }
        }
      ],
      "source": [
        "plt.figure(figsize=(10,8))\n",
        "fx=sns.heatmap(confusion_matrix(y_test2,rf_pred2), annot=True, fmt=\".2f\",cmap=\"GnBu\")\n",
        "fx.set_title('Confusion Matrix \\n');\n",
        "fx.set_xlabel('\\n Predicted Correctness\\n')\n",
        "fx.set_ylabel('Actual Correctness\\n');\n",
        "fx.xaxis.set_ticklabels(['Correct','Incorrect'])\n",
        "fx.yaxis.set_ticklabels(['Correct','Incorrect'])\n",
        "plt.show()"
      ]
    },
    {
      "cell_type": "code",
      "execution_count": null,
      "metadata": {
        "colab": {
          "base_uri": "https://localhost:8080/"
        },
        "id": "XWDZ6ABFT9kD",
        "outputId": "10363e30-b693-44e2-de1c-9713a0d62127"
      },
      "outputs": [
        {
          "output_type": "stream",
          "name": "stdout",
          "text": [
            "recall: 0.9262672811059908\n",
            "Precision: 0.9220183486238532\n",
            "F1 score: 0.9241379310344828\n",
            "Accuracy: 0.9250851305334846\n"
          ]
        }
      ],
      "source": [
        "print('recall:',recall_score(y_test2, rf_pred2))\n",
        "print('Precision:',precision_score(y_test2, rf_pred2))\n",
        "print('F1 score:', f1_score(y_test2, rf_pred2))\n",
        "print('Accuracy:',accuracy_score(y_test2, rf_pred2))"
      ]
    },
    {
      "cell_type": "markdown",
      "metadata": {
        "id": "Wrtw_2BXT9kD"
      },
      "source": [
        "### Decision Tree"
      ]
    },
    {
      "cell_type": "code",
      "execution_count": null,
      "metadata": {
        "colab": {
          "base_uri": "https://localhost:8080/"
        },
        "id": "vU0aeaHlT9kD",
        "outputId": "b862a379-bfe2-4854-9cf9-b63fb9e2e520"
      },
      "outputs": [
        {
          "output_type": "stream",
          "name": "stdout",
          "text": [
            "Training Accuracy: 1.0\n"
          ]
        }
      ],
      "source": [
        "dt_model2 = DecisionTreeClassifier()\n",
        "dt_model2.fit(X_train2, y_train2)  \n",
        "dt_train2 = dt_model2.score(X_train2,y_train2)\n",
        "print('Training Accuracy:',dt_train2)"
      ]
    },
    {
      "cell_type": "code",
      "execution_count": null,
      "metadata": {
        "colab": {
          "base_uri": "https://localhost:8080/"
        },
        "id": "eGNkcBIBT9kE",
        "outputId": "37228bea-0750-4a6a-9584-89a85dcb5218"
      },
      "outputs": [
        {
          "output_type": "stream",
          "name": "stdout",
          "text": [
            "Testing Accuracy: 0.9160045402951191\n"
          ]
        }
      ],
      "source": [
        "dt_test2 = dt_model2.score(X_test2,y_test2)\n",
        "print('Testing Accuracy:', dt_test2)"
      ]
    },
    {
      "cell_type": "code",
      "execution_count": null,
      "metadata": {
        "id": "air59nlPT9kE"
      },
      "outputs": [],
      "source": [
        "dt_pred2= dt_model2.predict(X_test2)"
      ]
    },
    {
      "cell_type": "code",
      "execution_count": null,
      "metadata": {
        "colab": {
          "base_uri": "https://localhost:8080/",
          "height": 551
        },
        "id": "U19S4iiWT9kE",
        "outputId": "9f5f5d02-93a6-4733-8d28-62bafeefc31c"
      },
      "outputs": [
        {
          "output_type": "display_data",
          "data": {
            "text/plain": [
              "<Figure size 720x576 with 2 Axes>"
            ],
            "image/png": "[encoded data removed]"
          },
          "metadata": {
            "needs_background": "light"
          }
        }
      ],
      "source": [
        "plt.figure(figsize=(10,8))\n",
        "fx=sns.heatmap(confusion_matrix(y_test2,dt_pred2), annot=True, fmt=\".2f\",cmap=\"GnBu\")\n",
        "fx.set_title('Confusion Matrix \\n');\n",
        "fx.set_xlabel('\\n Predicted Correctness\\n')\n",
        "fx.set_ylabel('Actual Correctness\\n');\n",
        "fx.xaxis.set_ticklabels(['Correct','Incorrect'])\n",
        "fx.yaxis.set_ticklabels(['Correct','Incorrect'])\n",
        "plt.show()"
      ]
    },
    {
      "cell_type": "code",
      "execution_count": null,
      "metadata": {
        "colab": {
          "base_uri": "https://localhost:8080/"
        },
        "id": "RtMKKNI6T9kE",
        "outputId": "84086029-0d94-4130-f3d7-ec687904d76c"
      },
      "outputs": [
        {
          "output_type": "stream",
          "name": "stdout",
          "text": [
            "recall: 0.9170506912442397\n",
            "Precision: 0.9128440366972477\n",
            "F1 score: 0.9149425287356322\n",
            "Accuracy: 0.9160045402951191\n"
          ]
        }
      ],
      "source": [
        "print('recall:',recall_score(y_test2, dt_pred2))\n",
        "print('Precision:',precision_score(y_test2, dt_pred2))\n",
        "print('F1 score:', f1_score(y_test2, dt_pred2))\n",
        "print('Accuracy:',accuracy_score(y_test2, dt_pred2))"
      ]
    },
    {
      "cell_type": "markdown",
      "metadata": {
        "id": "72AO1nRVT9kE"
      },
      "source": [
        "### Multinomial Naive Bayes"
      ]
    },
    {
      "cell_type": "code",
      "execution_count": null,
      "metadata": {
        "colab": {
          "base_uri": "https://localhost:8080/"
        },
        "id": "Bef3GJe4T9kE",
        "outputId": "36e5c7e4-4429-4c39-cfc9-f949314e2805"
      },
      "outputs": [
        {
          "output_type": "stream",
          "name": "stdout",
          "text": [
            "Training Accuracy: 0.956003406187908\n"
          ]
        }
      ],
      "source": [
        "mnb_model2 = MultinomialNB(alpha=0.15)\n",
        "mnb_model2.fit(X_train2, y_train2)  \n",
        "mnb_train2 = mnb_model2.score(X_train2,y_train2)\n",
        "print('Training Accuracy:',mnb_train2)"
      ]
    },
    {
      "cell_type": "code",
      "execution_count": null,
      "metadata": {
        "colab": {
          "base_uri": "https://localhost:8080/"
        },
        "id": "K5cENtZ6T9kF",
        "outputId": "626e18bc-bd06-4e87-8c40-68b7fefd8513"
      },
      "outputs": [
        {
          "output_type": "stream",
          "name": "stdout",
          "text": [
            "Testing Accuracy: 0.8490351872871736\n"
          ]
        }
      ],
      "source": [
        "mnb_test2 = mnb_model2.score(X_test2,y_test2)\n",
        "print('Testing Accuracy:', mnb_test2)"
      ]
    },
    {
      "cell_type": "code",
      "execution_count": null,
      "metadata": {
        "id": "9wdwfrRHT9kF"
      },
      "outputs": [],
      "source": [
        "mnb_pred2= mnb_model2.predict(X_test2)"
      ]
    },
    {
      "cell_type": "code",
      "execution_count": null,
      "metadata": {
        "colab": {
          "base_uri": "https://localhost:8080/",
          "height": 551
        },
        "id": "WPk1joukT9kF",
        "outputId": "c01c03a1-0f76-44ae-a791-87c1ef0043be"
      },
      "outputs": [
        {
          "output_type": "display_data",
          "data": {
            "text/plain": [
              "<Figure size 720x576 with 2 Axes>"
            ],
            "image/png": "[encoded data removed]"
          },
          "metadata": {
            "needs_background": "light"
          }
        }
      ],
      "source": [
        "plt.figure(figsize=(10,8))\n",
        "fx=sns.heatmap(confusion_matrix(y_test2,mnb_pred2), annot=True, fmt=\".2f\",cmap=\"GnBu\")\n",
        "fx.set_title('Confusion Matrix \\n');\n",
        "fx.set_xlabel('\\n Predicted Correctness\\n')\n",
        "fx.set_ylabel('Actual Correctness\\n');\n",
        "fx.xaxis.set_ticklabels(['Correct','Incorrect'])\n",
        "fx.yaxis.set_ticklabels(['Correct','Incorrect'])\n",
        "plt.show()\n"
      ]
    },
    {
      "cell_type": "code",
      "execution_count": null,
      "metadata": {
        "colab": {
          "base_uri": "https://localhost:8080/"
        },
        "id": "XHsJHAhnT9kF",
        "outputId": "c3eb756d-d7b7-4116-ef3f-5ccc31e6a753"
      },
      "outputs": [
        {
          "output_type": "stream",
          "name": "stdout",
          "text": [
            "recall: 0.8387096774193549\n",
            "Precision: 0.8524590163934426\n",
            "F1 score: 0.8455284552845529\n",
            "Accuracy: 0.8490351872871736\n"
          ]
        }
      ],
      "source": [
        "print('recall:',recall_score(y_test2, mnb_pred2))\n",
        "print('Precision:',precision_score(y_test2, mnb_pred2))\n",
        "print('F1 score:', f1_score(y_test2, mnb_pred2))\n",
        "print('Accuracy:',accuracy_score(y_test2, mnb_pred2))"
      ]
    },
    {
      "cell_type": "markdown",
      "metadata": {
        "id": "glCHMprz5ZKe"
      },
      "source": [
        "# **BAGGING CLASSFIER**"
      ]
    },
    {
      "cell_type": "code",
      "execution_count": null,
      "metadata": {
        "colab": {
          "base_uri": "https://localhost:8080/"
        },
        "id": "k4p9FDSGtiet",
        "outputId": "d8784e6d-d88e-4aeb-8afe-3f98b9d635b5"
      },
      "outputs": [
        {
          "metadata": {
            "tags": null
          },
          "name": "stderr",
          "output_type": "stream",
          "text": [
            "/usr/local/lib/python3.9/dist-packages/sklearn/ensemble/_base.py:166: FutureWarning: `base_estimator` was renamed to `estimator` in version 1.2 and will be removed in 1.4.\n",
            "  warnings.warn(\n"
          ]
        }
      ],
      "source": [
        "# define a decision tree classifier as the base estimator\n",
        "base_estimator2 = DecisionTreeClassifier()\n",
        "\n",
        "# define the bagging classifier with 100 estimators\n",
        "bagging2 = BaggingClassifier(base_estimator=base_estimator2, n_estimators=100, random_state=42)\n",
        "\n",
        "# train the bagging classifier on the training data\n",
        "b_train2 = bagging2.fit(X_train2, y_train2)"
      ]
    },
    {
      "cell_type": "code",
      "execution_count": null,
      "metadata": {
        "colab": {
          "base_uri": "https://localhost:8080/"
        },
        "id": "FwR4apCSp1Wy",
        "outputId": "c4ae254e-f51f-457e-e653-f5e441bf1e4e"
      },
      "outputs": [
        {
          "output_type": "stream",
          "name": "stdout",
          "text": [
            "Testing Accuracy: 0.9114642451759364\n"
          ]
        }
      ],
      "source": [
        "b_test2 = bagging2.score(X_test2,y_test2)\n",
        "print('Testing Accuracy:', b_test2)"
      ]
    },
    {
      "cell_type": "code",
      "execution_count": null,
      "metadata": {
        "id": "FGbMou65p1Wy"
      },
      "outputs": [],
      "source": [
        "b_pred2= bagging2.predict(X_test2)"
      ]
    },
    {
      "cell_type": "code",
      "execution_count": null,
      "metadata": {
        "id": "tK2Vui8Gp1Wy"
      },
      "outputs": [],
      "source": [
        "plt.figure(figsize=(10,8))\n",
        "fx=sns.heatmap(confusion_matrix(y_test2,b_pred2), annot=True, fmt=\".2f\",cmap=\"GnBu\")\n",
        "fx.set_title('Confusion Matrix \\n');\n",
        "fx.set_xlabel('\\n Predicted Correctness\\n')\n",
        "fx.set_ylabel('Actual Correctness\\n');\n",
        "fx.xaxis.set_ticklabels(['Correct','Incorrect'])\n",
        "fx.yaxis.set_ticklabels(['Correct','Incorrect'])\n",
        "plt.show()"
      ]
    },
    {
      "cell_type": "code",
      "execution_count": null,
      "metadata": {
        "colab": {
          "base_uri": "https://localhost:8080/"
        },
        "id": "zn_e1WVbp1Wz",
        "outputId": "e516a05e-c72b-4e01-9aa9-fa357f8c1249"
      },
      "outputs": [
        {
          "output_type": "stream",
          "name": "stdout",
          "text": [
            "recall: 0.9124423963133641\n",
            "Precision: 0.908256880733945\n",
            "F1 score: 0.9103448275862069\n",
            "Accuracy: 0.9114642451759364\n"
          ]
        }
      ],
      "source": [
        "print('recall:',recall_score(y_test2, b_pred2))\n",
        "print('Precision:',precision_score(y_test2, b_pred2))\n",
        "print('F1 score:', f1_score(y_test2, b_pred2))\n",
        "print('Accuracy:',accuracy_score(y_test2, b_pred2))"
      ]
    },
    {
      "cell_type": "markdown",
      "metadata": {
        "id": "tOCC8Q6e5Tgc"
      },
      "source": [
        "# **STACKING CLASSIFIER**"
      ]
    },
    {
      "cell_type": "code",
      "execution_count": null,
      "metadata": {
        "id": "SK7Ef6Kgyx5m"
      },
      "outputs": [],
      "source": [
        "# define the base models\n",
        "base_models2 = [('random_forest', RandomForestClassifier(n_estimators=100, random_state=42)),\n",
        "               ('gradient_boosting', GradientBoostingClassifier(n_estimators=100, random_state=42))]\n",
        "\n",
        "# define the meta model\n",
        "meta_model2 = LogisticRegression()\n",
        "\n",
        "# define the stacking classifier\n",
        "stacking2 = StackingClassifier(estimators=base_models2, final_estimator=meta_model2, cv=KFold(n_splits=5))\n",
        "\n",
        "# fit the stacking classifier on the training data\n",
        "s_train2=stacking2.fit(X_train2, y_train2)"
      ]
    },
    {
      "cell_type": "code",
      "execution_count": null,
      "metadata": {
        "colab": {
          "base_uri": "https://localhost:8080/"
        },
        "id": "dD7InvRyq9YG",
        "outputId": "3ebe3e88-f2f3-4eb5-8da1-ec47f371fe94"
      },
      "outputs": [
        {
          "output_type": "stream",
          "name": "stdout",
          "text": [
            "Testing Accuracy: 0.9205448354143019\n"
          ]
        }
      ],
      "source": [
        "s_test2 = stacking2.score(X_test2,y_test2)\n",
        "print('Testing Accuracy:', s_test2)"
      ]
    },
    {
      "cell_type": "code",
      "execution_count": null,
      "metadata": {
        "id": "xQarpDq1q9YG"
      },
      "outputs": [],
      "source": [
        "s_pred2= stacking2.predict(X_test2)"
      ]
    },
    {
      "cell_type": "code",
      "execution_count": null,
      "metadata": {
        "colab": {
          "base_uri": "https://localhost:8080/",
          "height": 551
        },
        "id": "59cInmr-q9YG",
        "outputId": "b5dcac81-1e03-4ecb-bfe0-11746edccba5"
      },
      "outputs": [
        {
          "output_type": "display_data",
          "data": {
            "text/plain": [
              "<Figure size 720x576 with 2 Axes>"
            ],
            "image/png": "[encoded data removed]"
          },
          "metadata": {
            "needs_background": "light"
          }
        }
      ],
      "source": [
        "plt.figure(figsize=(10,8))\n",
        "fx=sns.heatmap(confusion_matrix(y_test2,s_pred2), annot=True, fmt=\".2f\",cmap=\"GnBu\")\n",
        "fx.set_title('Confusion Matrix \\n');\n",
        "fx.set_xlabel('\\n Predicted Correctness\\n')\n",
        "fx.set_ylabel('Actual Correctness\\n');\n",
        "fx.xaxis.set_ticklabels(['Correct','Incorrect'])\n",
        "fx.yaxis.set_ticklabels(['Correct','Incorrect'])\n",
        "plt.show()"
      ]
    },
    {
      "cell_type": "code",
      "execution_count": null,
      "metadata": {
        "colab": {
          "base_uri": "https://localhost:8080/"
        },
        "id": "h-9fAvVLq9YH",
        "outputId": "5b4b97ac-6eb0-4814-9c01-3796666231a5"
      },
      "outputs": [
        {
          "metadata": {
            "tags": null
          },
          "name": "stdout",
          "output_type": "stream",
          "text": [
            "recall: 0.9216589861751152\n",
            "Precision: 0.9174311926605505\n",
            "F1 score: 0.9195402298850575\n",
            "Accuracy: 0.9205448354143019\n"
          ]
        }
      ],
      "source": [
        "print('recall:',recall_score(y_test2, s_pred2))\n",
        "print('Precision:',precision_score(y_test2, s_pred2))\n",
        "print('F1 score:', f1_score(y_test2, s_pred2))\n",
        "print('Accuracy:',accuracy_score(y_test2, s_pred2))"
      ]
    },
    {
      "cell_type": "markdown",
      "metadata": {
        "id": "PLqw3SpZ5JKs"
      },
      "source": [
        "# **VOTING CLASSIFIER**"
      ]
    },
    {
      "cell_type": "code",
      "execution_count": null,
      "metadata": {
        "colab": {
          "base_uri": "https://localhost:8080/",
          "height": 112
        },
        "id": "zSkD580c48jw",
        "outputId": "36fb7281-7720-45f1-aff7-7632656ef2d4"
      },
      "outputs": [
        {
          "output_type": "execute_result",
          "data": {
            "text/plain": [
              "VotingClassifier(estimators=[('lr', LogisticRegression(random_state=1)),\n",
              "                             ('nb', GaussianNB()),\n",
              "                             ('knn', KNeighborsClassifier(n_neighbors=3))])"
            ],
            "text/html": [
              "<style>#sk-container-id-3 {color: black;background-color: white;}#sk-container-id-3 pre{padding: 0;}#sk-container-id-3 div.sk-toggleable {background-color: white;}#sk-container-id-3 label.sk-toggleable__label {cursor: pointer;display: block;width: 100%;margin-bottom: 0;padding: 0.3em;box-sizing: border-box;text-align: center;}#sk-container-id-3 label.sk-toggleable__label-arrow:before {content: \"▸\";float: left;margin-right: 0.25em;color: #696969;}#sk-container-id-3 label.sk-toggleable__label-arrow:hover:before {color: black;}#sk-container-id-3 div.sk-estimator:hover label.sk-toggleable__label-arrow:before {color: black;}#sk-container-id-3 div.sk-toggleable__content {max-height: 0;max-width: 0;overflow: hidden;text-align: left;background-color: #f0f8ff;}#sk-container-id-3 div.sk-toggleable__content pre {margin: 0.2em;color: black;border-radius: 0.25em;background-color: #f0f8ff;}#sk-container-id-3 input.sk-toggleable__control:checked~div.sk-toggleable__content {max-height: 200px;max-width: 100%;overflow: auto;}#sk-container-id-3 input.sk-toggleable__control:checked~label.sk-toggleable__label-arrow:before {content: \"▾\";}#sk-container-id-3 div.sk-estimator input.sk-toggleable__control:checked~label.sk-toggleable__label {background-color: #d4ebff;}#sk-container-id-3 div.sk-label input.sk-toggleable__control:checked~label.sk-toggleable__label {background-color: #d4ebff;}#sk-container-id-3 input.sk-hidden--visually {border: 0;clip: rect(1px 1px 1px 1px);clip: rect(1px, 1px, 1px, 1px);height: 1px;margin: -1px;overflow: hidden;padding: 0;position: absolute;width: 1px;}#sk-container-id-3 div.sk-estimator {font-family: monospace;background-color: #f0f8ff;border: 1px dotted black;border-radius: 0.25em;box-sizing: border-box;margin-bottom: 0.5em;}#sk-container-id-3 div.sk-estimator:hover {background-color: #d4ebff;}#sk-container-id-3 div.sk-parallel-item::after {content: \"\";width: 100%;border-bottom: 1px solid gray;flex-grow: 1;}#sk-container-id-3 div.sk-label:hover label.sk-toggleable__label {background-color: #d4ebff;}#sk-container-id-3 div.sk-serial::before {content: \"\";position: absolute;border-left: 1px solid gray;box-sizing: border-box;top: 0;bottom: 0;left: 50%;z-index: 0;}#sk-container-id-3 div.sk-serial {display: flex;flex-direction: column;align-items: center;background-color: white;padding-right: 0.2em;padding-left: 0.2em;position: relative;}#sk-container-id-3 div.sk-item {position: relative;z-index: 1;}#sk-container-id-3 div.sk-parallel {display: flex;align-items: stretch;justify-content: center;background-color: white;position: relative;}#sk-container-id-3 div.sk-item::before, #sk-container-id-3 div.sk-parallel-item::before {content: \"\";position: absolute;border-left: 1px solid gray;box-sizing: border-box;top: 0;bottom: 0;left: 50%;z-index: -1;}#sk-container-id-3 div.sk-parallel-item {display: flex;flex-direction: column;z-index: 1;position: relative;background-color: white;}#sk-container-id-3 div.sk-parallel-item:first-child::after {align-self: flex-end;width: 50%;}#sk-container-id-3 div.sk-parallel-item:last-child::after {align-self: flex-start;width: 50%;}#sk-container-id-3 div.sk-parallel-item:only-child::after {width: 0;}#sk-container-id-3 div.sk-dashed-wrapped {border: 1px dashed gray;margin: 0 0.4em 0.5em 0.4em;box-sizing: border-box;padding-bottom: 0.4em;background-color: white;}#sk-container-id-3 div.sk-label label {font-family: monospace;font-weight: bold;display: inline-block;line-height: 1.2em;}#sk-container-id-3 div.sk-label-container {text-align: center;}#sk-container-id-3 div.sk-container {/* jupyter's `normalize.less` sets `[hidden] { display: none; }` but bootstrap.min.css set `[hidden] { display: none !important; }` so we also need the `!important` here to be able to override the default hidden behavior on the sphinx rendered scikit-learn.org. See: https://github.com/scikit-learn/scikit-learn/issues/21755 */display: inline-block !important;position: relative;}#sk-container-id-3 div.sk-text-repr-fallback {display: none;}</style><div id=\"sk-container-id-3\" class=\"sk-top-container\"><div class=\"sk-text-repr-fallback\"><pre>VotingClassifier(estimators=[(&#x27;lr&#x27;, LogisticRegression(random_state=1)),\n",
              "                             (&#x27;nb&#x27;, GaussianNB()),\n",
              "                             (&#x27;knn&#x27;, KNeighborsClassifier(n_neighbors=3))])</pre><b>In a Jupyter environment, please rerun this cell to show the HTML representation or trust the notebook. <br />On GitHub, the HTML representation is unable to render, please try loading this page with nbviewer.org.</b></div><div class=\"sk-container\" hidden><div class=\"sk-item sk-dashed-wrapped\"><div class=\"sk-label-container\"><div class=\"sk-label sk-toggleable\"><input class=\"sk-toggleable__control sk-hidden--visually\" id=\"sk-estimator-id-9\" type=\"checkbox\" ><label for=\"sk-estimator-id-9\" class=\"sk-toggleable__label sk-toggleable__label-arrow\">VotingClassifier</label><div class=\"sk-toggleable__content\"><pre>VotingClassifier(estimators=[(&#x27;lr&#x27;, LogisticRegression(random_state=1)),\n",
              "                             (&#x27;nb&#x27;, GaussianNB()),\n",
              "                             (&#x27;knn&#x27;, KNeighborsClassifier(n_neighbors=3))])</pre></div></div></div><div class=\"sk-parallel\"><div class=\"sk-parallel-item\"><div class=\"sk-item\"><div class=\"sk-label-container\"><div class=\"sk-label sk-toggleable\"><label>lr</label></div></div><div class=\"sk-serial\"><div class=\"sk-item\"><div class=\"sk-estimator sk-toggleable\"><input class=\"sk-toggleable__control sk-hidden--visually\" id=\"sk-estimator-id-10\" type=\"checkbox\" ><label for=\"sk-estimator-id-10\" class=\"sk-toggleable__label sk-toggleable__label-arrow\">LogisticRegression</label><div class=\"sk-toggleable__content\"><pre>LogisticRegression(random_state=1)</pre></div></div></div></div></div></div><div class=\"sk-parallel-item\"><div class=\"sk-item\"><div class=\"sk-label-container\"><div class=\"sk-label sk-toggleable\"><label>nb</label></div></div><div class=\"sk-serial\"><div class=\"sk-item\"><div class=\"sk-estimator sk-toggleable\"><input class=\"sk-toggleable__control sk-hidden--visually\" id=\"sk-estimator-id-11\" type=\"checkbox\" ><label for=\"sk-estimator-id-11\" class=\"sk-toggleable__label sk-toggleable__label-arrow\">GaussianNB</label><div class=\"sk-toggleable__content\"><pre>GaussianNB()</pre></div></div></div></div></div></div><div class=\"sk-parallel-item\"><div class=\"sk-item\"><div class=\"sk-label-container\"><div class=\"sk-label sk-toggleable\"><label>knn</label></div></div><div class=\"sk-serial\"><div class=\"sk-item\"><div class=\"sk-estimator sk-toggleable\"><input class=\"sk-toggleable__control sk-hidden--visually\" id=\"sk-estimator-id-12\" type=\"checkbox\" ><label for=\"sk-estimator-id-12\" class=\"sk-toggleable__label sk-toggleable__label-arrow\">KNeighborsClassifier</label><div class=\"sk-toggleable__content\"><pre>KNeighborsClassifier(n_neighbors=3)</pre></div></div></div></div></div></div></div></div></div></div>"
            ]
          },
          "metadata": {},
          "execution_count": 178
        }
      ],
      "source": [
        "# Define the individual classifiers\n",
        "clf1 = LogisticRegression(random_state=1)\n",
        "clf2 = GaussianNB()\n",
        "clf3 = KNeighborsClassifier(n_neighbors=3)\n",
        "\n",
        "# Define the voting classifier\n",
        "voting_clf2 = VotingClassifier(estimators=[('lr', clf1), ('nb', clf2), ('knn', clf3)], voting='hard')\n",
        "\n",
        "# Train the voting classifier on the training data\n",
        "voting_clf2.fit(X_train2, y_train2)\n"
      ]
    },
    {
      "cell_type": "code",
      "execution_count": null,
      "metadata": {
        "colab": {
          "base_uri": "https://localhost:8080/"
        },
        "id": "K8QNgac5uOtP",
        "outputId": "819c0cf4-aa16-4ebc-905d-a94b0c44a27f"
      },
      "outputs": [
        {
          "output_type": "stream",
          "name": "stdout",
          "text": [
            "Testing Accuracy: 0.9194097616345063\n"
          ]
        }
      ],
      "source": [
        "v_test2 = voting_clf2.score(X_test2,y_test2)\n",
        "print('Testing Accuracy:', v_test2)"
      ]
    },
    {
      "cell_type": "code",
      "execution_count": null,
      "metadata": {
        "id": "oicUIXmJuOtP"
      },
      "outputs": [],
      "source": [
        "v_pred2= voting_clf2.predict(X_test2)"
      ]
    },
    {
      "cell_type": "code",
      "execution_count": null,
      "metadata": {
        "colab": {
          "base_uri": "https://localhost:8080/",
          "height": 551
        },
        "id": "MAuh7O2LuOtQ",
        "outputId": "ec8c6a47-7df9-4854-bf00-974c9040b9fa"
      },
      "outputs": [
        {
          "output_type": "display_data",
          "data": {
            "text/plain": [
              "<Figure size 720x576 with 2 Axes>"
            ],
            "image/png": "[encoded data removed]"
          },
          "metadata": {
            "needs_background": "light"
          }
        }
      ],
      "source": [
        "plt.figure(figsize=(10,8))\n",
        "fx=sns.heatmap(confusion_matrix(y_test2,v_pred2), annot=True, fmt=\".2f\",cmap=\"GnBu\")\n",
        "fx.set_title('Confusion Matrix \\n');\n",
        "fx.set_xlabel('\\n Predicted Correctness\\n')\n",
        "fx.set_ylabel('Actual Correctness\\n');\n",
        "fx.xaxis.set_ticklabels(['Correct','Incorrect'])\n",
        "fx.yaxis.set_ticklabels(['Correct','Incorrect'])\n",
        "plt.show()"
      ]
    },
    {
      "cell_type": "code",
      "execution_count": null,
      "metadata": {
        "colab": {
          "base_uri": "https://localhost:8080/"
        },
        "id": "riaQbnczuOtQ",
        "outputId": "f0c466f7-9563-47bf-a89d-4f626873b4e1"
      },
      "outputs": [
        {
          "output_type": "stream",
          "name": "stdout",
          "text": [
            "recall: 0.9147465437788018\n",
            "Precision: 0.9211136890951276\n",
            "F1 score: 0.9179190751445087\n",
            "Accuracy: 0.9194097616345063\n"
          ]
        }
      ],
      "source": [
        "print('recall:',recall_score(y_test2, v_pred2))\n",
        "print('Precision:',precision_score(y_test2, v_pred2))\n",
        "print('F1 score:', f1_score(y_test2, v_pred2))\n",
        "print('Accuracy:',accuracy_score(y_test2, v_pred2))"
      ]
    },
    {
      "cell_type": "markdown",
      "metadata": {
        "id": "KbGfnD81E68d"
      },
      "source": [
        "# **ROC CURVE**"
      ]
    },
    {
      "cell_type": "code",
      "execution_count": null,
      "metadata": {
        "colab": {
          "base_uri": "https://localhost:8080/",
          "height": 513
        },
        "id": "wrm_zBQqEBoz",
        "outputId": "474c94c8-f348-48ce-86b3-46dc072081cf"
      },
      "outputs": [
        {
          "output_type": "display_data",
          "data": {
            "text/plain": [
              "<Figure size 576x576 with 1 Axes>"
            ],
            "image/png": "[encoded data removed]"
          },
          "metadata": {
            "needs_background": "light"
          }
        }
      ],
      "source": [
        "import numpy as np\n",
        "import matplotlib.pyplot as plt\n",
        "from sklearn.metrics import roc_curve, auc\n",
        "\n",
        "# Define list of models\n",
        "models = [knn_model, lr_model, mnb_model]\n",
        "\n",
        "# Define colors for each model's curve\n",
        "colors = ['red', 'blue', 'green', ...]\n",
        "\n",
        "# Initialize plot\n",
        "plt.figure(figsize=(8, 8))\n",
        "\n",
        "# Plot ROC curve for each model\n",
        "for i, model in enumerate(models):\n",
        "    y_score = model.predict_proba(X_test)[:, 1]\n",
        "    fpr, tpr, _ = roc_curve(y_test, y_score)\n",
        "    roc_auc = auc(fpr, tpr)\n",
        "    plt.plot(fpr, tpr, color=colors[i], lw=2, label='Model %d (AUC = %0.2f)' % (i+1, roc_auc))\n",
        "\n",
        "# Plot random guessing line\n",
        "plt.plot([0, 1], [0, 1], color='gray', lw=2, linestyle='--')\n",
        "\n",
        "# Set plot properties\n",
        "plt.xlim([0.0, 1.0])\n",
        "plt.ylim([0.0, 1.0])\n",
        "plt.xlabel('False Positive Rate')\n",
        "plt.ylabel('True Positive Rate')\n",
        "plt.title('Receiver Operating Characteristic')\n",
        "plt.legend(loc='lower right')\n",
        "\n",
        "# Show plot\n",
        "plt.show()\n"
      ]
    },
    {
      "cell_type": "markdown",
      "metadata": {
        "id": "KXP8G0teFoC2"
      },
      "source": [
        "# **Precision-Recall Curve**"
      ]
    },
    {
      "cell_type": "code",
      "execution_count": null,
      "metadata": {
        "id": "QsoZMiHJFpN7",
        "colab": {
          "base_uri": "https://localhost:8080/",
          "height": 513
        },
        "outputId": "5d250389-0b26-4ee5-8a84-211c8ac2f72d"
      },
      "outputs": [
        {
          "output_type": "display_data",
          "data": {
            "text/plain": [
              "<Figure size 576x576 with 1 Axes>"
            ],
            "image/png": "[encoded data removed]"
          },
          "metadata": {
            "needs_background": "light"
          }
        }
      ],
      "source": [
        "import numpy as np\n",
        "import matplotlib.pyplot as plt\n",
        "from sklearn.metrics import precision_recall_curve, average_precision_score\n",
        "\n",
        "# Define list of models\n",
        "models = [knn_model, lr_model, mnb_model]\n",
        "\n",
        "# Define colors for each model's curve\n",
        "colors = ['red', 'blue', 'green', ...]\n",
        "\n",
        "# Initialize plot\n",
        "plt.figure(figsize=(8, 8))\n",
        "\n",
        "# Plot precision-recall curve for each model\n",
        "for i, model in enumerate(models):\n",
        "    y_score = model.predict_proba(X_test)[:, 1]\n",
        "    precision, recall, _ = precision_recall_curve(y_test, y_score)\n",
        "    average_precision = average_precision_score(y_test, y_score)\n",
        "    plt.step(recall, precision, color=colors[i], alpha=0.2, where='post',\n",
        "             label='Model %d (AP = %0.2f)' % (i+1, average_precision))\n",
        "    plt.fill_between(recall, precision, step='post', alpha=0.2, color=colors[i])\n",
        "\n",
        "# Set plot properties \n",
        "plt.xlabel('Recall')\n",
        "plt.ylabel('Precision')\n",
        "plt.ylim([0.0, 1.05])\n",
        "plt.xlim([0.0, 1.0])\n",
        "plt.title('Precision-Recall Curve')\n",
        "plt.legend(loc='lower left')\n",
        "\n",
        "# Show plot\n",
        "plt.show()\n"
      ]
    },
    {
      "cell_type": "code",
      "execution_count": null,
      "metadata": {
        "id": "oAnsiE2kk3qV"
      },
      "outputs": [],
      "source": [
        "# text= 'আপনার সাথে আমার একটি গোপন পরার্মশ আছে । আপনার সঙ্গে আমার একটি গোপনীয় পরার্মশ আছে । তোমার সাথে আমার একটি গোপন পরার্মশ আছে । তোমার সঙ্গে আমার একটি গোপনীয় পরামর্শ আছে । মনে রাখবে আবশ্যকীয় ব্যয়ে কার্পণ্যতা অনুচিৎ । মূমুর্ষু অবস্থায় স্যার হাসপাতালে রয়েছেন । মূমুর্ষু অবস্থায় রহিম সাহেব হাসপাতালে রয়েছেন । তার দুর্নীবার ইচ্ছা শক্তি বাধা অতিক্রম করবে । ব্যাকরন বইটি নিয়ে আসো। আমার ব্যাকরন বই নেয় ।'"
      ]
    },
    {
      "cell_type": "code",
      "execution_count": null,
      "metadata": {
        "id": "s2AlFDubc0di",
        "colab": {
          "base_uri": "https://localhost:8080/"
        },
        "outputId": "457a2aa2-d724-4f5c-cfcb-57f8cf4ed14b"
      },
      "outputs": [
        {
          "output_type": "stream",
          "name": "stdout",
          "text": [
            "Looking in indexes: https://pypi.org/simple, https://us-python.pkg.dev/colab-wheels/public/simple/\n",
            "Requirement already satisfied: bnlp-toolkit in /usr/local/lib/python3.9/dist-packages (3.3.0)\n",
            "Requirement already satisfied: numpy in /usr/local/lib/python3.9/dist-packages (from bnlp-toolkit) (1.22.4)\n",
            "Requirement already satisfied: ftfy in /usr/local/lib/python3.9/dist-packages (from bnlp-toolkit) (6.1.1)\n",
            "Requirement already satisfied: scipy in /usr/local/lib/python3.9/dist-packages (from bnlp-toolkit) (1.10.1)\n",
            "Requirement already satisfied: gensim==4.0.1 in /usr/local/lib/python3.9/dist-packages (from bnlp-toolkit) (4.0.1)\n",
            "Requirement already satisfied: sentencepiece in /usr/local/lib/python3.9/dist-packages (from bnlp-toolkit) (0.1.97)\n",
            "Requirement already satisfied: emoji==1.7.0 in /usr/local/lib/python3.9/dist-packages (from bnlp-toolkit) (1.7.0)\n",
            "Requirement already satisfied: tqdm in /usr/local/lib/python3.9/dist-packages (from bnlp-toolkit) (4.65.0)\n",
            "Requirement already satisfied: sklearn-crfsuite in /usr/local/lib/python3.9/dist-packages (from bnlp-toolkit) (0.3.6)\n",
            "Requirement already satisfied: nltk in /usr/local/lib/python3.9/dist-packages (from bnlp-toolkit) (3.7)\n",
            "Requirement already satisfied: smart-open>=1.8.1 in /usr/local/lib/python3.9/dist-packages (from gensim==4.0.1->bnlp-toolkit) (6.3.0)\n",
            "Requirement already satisfied: wcwidth>=0.2.5 in /usr/local/lib/python3.9/dist-packages (from ftfy->bnlp-toolkit) (0.2.6)\n",
            "Requirement already satisfied: joblib in /usr/local/lib/python3.9/dist-packages (from nltk->bnlp-toolkit) (1.2.0)\n",
            "Requirement already satisfied: regex>=2021.8.3 in /usr/local/lib/python3.9/dist-packages (from nltk->bnlp-toolkit) (2022.6.2)\n",
            "Requirement already satisfied: click in /usr/local/lib/python3.9/dist-packages (from nltk->bnlp-toolkit) (8.1.3)\n",
            "Requirement already satisfied: six in /usr/local/lib/python3.9/dist-packages (from sklearn-crfsuite->bnlp-toolkit) (1.15.0)\n",
            "Requirement already satisfied: python-crfsuite>=0.8.3 in /usr/local/lib/python3.9/dist-packages (from sklearn-crfsuite->bnlp-toolkit) (0.9.9)\n",
            "Requirement already satisfied: tabulate in /usr/local/lib/python3.9/dist-packages (from sklearn-crfsuite->bnlp-toolkit) (0.8.10)\n",
            "Looking in indexes: https://pypi.org/simple, https://us-python.pkg.dev/colab-wheels/public/simple/\n",
            "Collecting bltk\n",
            "  Downloading bltk-1.2.tar.gz (17.4 MB)\n",
            "\u001b[2K     \u001b[90m━━━━━━━━━━━━━━━━━━━━━━━━━━━━━━━━━━━━━━━━\u001b[0m \u001b[32m17.4/17.4 MB\u001b[0m \u001b[31m78.5 MB/s\u001b[0m eta \u001b[36m0:00:00\u001b[0m\n",
            "\u001b[?25h  Preparing metadata (setup.py) ... \u001b[?25l\u001b[?25hdone\n",
            "Collecting sklearn>=0.0\n",
            "  Downloading sklearn-0.0.post1.tar.gz (3.6 kB)\n",
            "  Preparing metadata (setup.py) ... \u001b[?25l\u001b[?25hdone\n",
            "Requirement already satisfied: six>=1.13.0 in /usr/local/lib/python3.9/dist-packages (from bltk) (1.15.0)\n",
            "Requirement already satisfied: scipy>=1.4.1 in /usr/local/lib/python3.9/dist-packages (from bltk) (1.10.1)\n",
            "Requirement already satisfied: scikit-learn>=0.21.3 in /usr/local/lib/python3.9/dist-packages (from bltk) (1.2.1)\n",
            "Requirement already satisfied: numpy>=1.18.1 in /usr/local/lib/python3.9/dist-packages (from bltk) (1.22.4)\n",
            "Requirement already satisfied: nltk>=3.4.5 in /usr/local/lib/python3.9/dist-packages (from bltk) (3.7)\n",
            "Requirement already satisfied: joblib>=0.14.1 in /usr/local/lib/python3.9/dist-packages (from bltk) (1.2.0)\n",
            "Requirement already satisfied: certifi>=2019.11.28 in /usr/local/lib/python3.9/dist-packages (from bltk) (2022.12.7)\n",
            "Requirement already satisfied: click in /usr/local/lib/python3.9/dist-packages (from nltk>=3.4.5->bltk) (8.1.3)\n",
            "Requirement already satisfied: tqdm in /usr/local/lib/python3.9/dist-packages (from nltk>=3.4.5->bltk) (4.65.0)\n",
            "Requirement already satisfied: regex>=2021.8.3 in /usr/local/lib/python3.9/dist-packages (from nltk>=3.4.5->bltk) (2022.6.2)\n",
            "Requirement already satisfied: threadpoolctl>=2.0.0 in /usr/local/lib/python3.9/dist-packages (from scikit-learn>=0.21.3->bltk) (3.1.0)\n",
            "Building wheels for collected packages: bltk, sklearn\n",
            "  Building wheel for bltk (setup.py) ... \u001b[?25l\u001b[?25hdone\n",
            "  Created wheel for bltk: filename=bltk-1.2-py3-none-any.whl size=17432537 sha256=59280164f78820fefa05ec95155db51f388c766b69a2eefdf38af37a6dc42b15\n",
            "  Stored in directory: /root/.cache/pip/wheels/40/95/27/80bfbeb60364f00de71ea3570cb9b76ab17c8e8ab944c2d81b\n",
            "  Building wheel for sklearn (setup.py) ... \u001b[?25l\u001b[?25hdone\n",
            "  Created wheel for sklearn: filename=sklearn-0.0.post1-py3-none-any.whl size=2344 sha256=07dfd7f8c51714ee3ad6f7f6780c44db2084432755ea36a0e34659c7aad9e5b0\n",
            "  Stored in directory: /root/.cache/pip/wheels/f8/e0/3d/9d0c2020c44a519b9f02ab4fa6d2a4a996c98d79ab2f569fa1\n",
            "Successfully built bltk sklearn\n",
            "Installing collected packages: sklearn, bltk\n",
            "Successfully installed bltk-1.2 sklearn-0.0.post1\n"
          ]
        }
      ],
      "source": [
        "! pip install bnlp-toolkit\n",
        "! pip install bltk"
      ]
    },
    {
      "cell_type": "code",
      "execution_count": null,
      "metadata": {
        "id": "lcOwBSQzlxAa",
        "colab": {
          "base_uri": "https://localhost:8080/"
        },
        "outputId": "3c982ab6-56be-425e-8874-448138710286"
      },
      "outputs": [
        {
          "output_type": "stream",
          "name": "stderr",
          "text": [
            "[nltk_data] Downloading package punkt to /root/nltk_data...\n",
            "[nltk_data]   Package punkt is already up-to-date!\n"
          ]
        },
        {
          "output_type": "execute_result",
          "data": {
            "text/plain": [
              "True"
            ]
          },
          "metadata": {},
          "execution_count": 187
        }
      ],
      "source": [
        "import pickle\n",
        "from bltk.langtools import Tokenizer\n",
        "import nltk\n",
        "nltk.download('punkt')"
      ]
    },
    {
      "cell_type": "code",
      "execution_count": null,
      "metadata": {
        "id": "6b-H5QWuq-yw"
      },
      "outputs": [],
      "source": [
        "with open('/content/drive/MyDrive/text_classification/stack_clf.pkl', 'wb') as f:\n",
        "    pickle.dump(stacking, f)"
      ]
    },
    {
      "cell_type": "code",
      "execution_count": null,
      "metadata": {
        "id": "7SX17fsamP1M"
      },
      "outputs": [],
      "source": [
        "text = 'আমি বাংলায় গান গাই। তিনি খাবার খাই।'"
      ]
    },
    {
      "cell_type": "code",
      "execution_count": null,
      "metadata": {
        "id": "9bOwPDoimKw2",
        "colab": {
          "base_uri": "https://localhost:8080/"
        },
        "outputId": "cad61fa3-8121-488c-a481-551e8a270e21"
      },
      "outputs": [
        {
          "output_type": "execute_result",
          "data": {
            "text/plain": [
              "['আমি বাংলায় গান গাই।', 'তিনি খাবার খাই।']"
            ]
          },
          "metadata": {},
          "execution_count": 190
        }
      ],
      "source": [
        "tokenizer = Tokenizer()\n",
        "lines = tokenizer.sentence_tokenizer(text)\n",
        "lines"
      ]
    },
    {
      "cell_type": "code",
      "execution_count": null,
      "metadata": {
        "id": "k2mNhQ5_swFx"
      },
      "outputs": [],
      "source": [
        "with open('/content/drive/MyDrive/text_classification/stack_clf.pkl', 'rb') as f:\n",
        "    f_c = pickle.load(f)"
      ]
    },
    {
      "cell_type": "code",
      "execution_count": null,
      "metadata": {
        "id": "Ran8nTLuhkSu"
      },
      "outputs": [],
      "source": [
        "from bnlp import NLTKTokenizer"
      ]
    },
    {
      "cell_type": "code",
      "execution_count": null,
      "metadata": {
        "id": "vkFYPOOB6uqs"
      },
      "outputs": [],
      "source": [
        "def generate_result():\n",
        "\n",
        "  text = input('Enter input Bengali paragraph: ')\n",
        "  tokenizer = Tokenizer()\n",
        "  lines = tokenizer.sentence_tokenizer(text)\n",
        "\n",
        "  for line in lines:\n",
        "\n",
        "    \n",
        "    print(\"\\n\")\n",
        "    transform_text = vectorizer.transform([line])\n",
        "    pred = rf_model.predict(transform_text)\n",
        "    \n",
        "\n",
        "    if(pred[0] == 0):\n",
        "      print(line+'--'+'Correct Sentence')\n",
        "    else:\n",
        "      print(line+'--'+'Incorrect Sentence')"
      ]
    },
    {
      "cell_type": "code",
      "execution_count": null,
      "metadata": {
        "id": "b57hPwR7njgS",
        "colab": {
          "base_uri": "https://localhost:8080/"
        },
        "outputId": "0d6e4b8d-69c3-43a2-d146-8f9bcc19b93e"
      },
      "outputs": [
        {
          "name": "stdout",
          "output_type": "stream",
          "text": [
            "Enter input Bengali paragraph: jfasl;kjlasdfj\n"
          ]
        }
      ],
      "source": [
        "generate_result()"
      ]
    }
  ],
  "metadata": {
    "accelerator": "GPU",
    "colab": {
      "provenance": []
    },
    "kernelspec": {
      "display_name": "Python 3",
      "name": "python3"
    }
  },
  "nbformat": 4,
  "nbformat_minor": 0
}