{
  "cells": [
    {
      "cell_type": "code",
      "execution_count": null,
      "metadata": {
        "colab": {
          "base_uri": "https://localhost:8080/"
        },
        "id": "LwIo4_r9tLcE",
        "outputId": "18bf0674-0e3e-42b3-98c0-4dcf3f811c5e"
      },
      "outputs": [
        {
          "output_type": "stream",
          "name": "stdout",
          "text": [
            "Mounted at /content/drive\n"
          ]
        }
      ],
      "source": [
        "from google.colab import drive\n",
        "drive.mount('/content/drive')"
      ]
    },
    {
      "cell_type": "code",
      "execution_count": null,
      "metadata": {
        "id": "wPiEPEl2pg7i"
      },
      "outputs": [],
      "source": [
        "from sklearn.ensemble import BaggingClassifier\n",
        "from sklearn.tree import DecisionTreeClassifier\n",
        "from sklearn.datasets import make_classification\n",
        "from sklearn.model_selection import train_test_split\n",
        "from sklearn.datasets import load_breast_cancer\n",
        "from sklearn.ensemble import RandomForestClassifier, GradientBoostingClassifier\n",
        "from sklearn.linear_model import LogisticRegression\n",
        "from sklearn.metrics import accuracy_score\n",
        "from sklearn.model_selection import train_test_split, KFold\n",
        "from sklearn.pipeline import make_pipeline\n",
        "from sklearn.preprocessing import StandardScaler\n",
        "from sklearn.ensemble import StackingClassifier\n",
        "from sklearn.datasets import load_iris\n",
        "from sklearn.ensemble import VotingClassifier\n",
        "from sklearn.linear_model import LogisticRegression\n",
        "from sklearn.naive_bayes import GaussianNB\n",
        "from sklearn.neighbors import KNeighborsClassifier\n",
        "from sklearn.model_selection import train_test_split\n",
        "from sklearn.metrics import accuracy_score"
      ]
    },
    {
      "cell_type": "code",
      "execution_count": null,
      "metadata": {
        "id": "CW75MNSutu26"
      },
      "outputs": [],
      "source": [
        "import numpy as np\n",
        "import pandas as pd\n",
        "import matplotlib.pyplot as plt\n",
        "%matplotlib inline\n",
        "import seaborn as sns\n",
        "import re,json,nltk\n",
        "from sklearn.preprocessing import LabelEncoder\n",
        "from sklearn.feature_extraction.text import TfidfVectorizer\n",
        "from sklearn.model_selection import train_test_split\n",
        "from sklearn.metrics import classification_report,accuracy_score,precision_score,recall_score,f1_score\n",
        "from tensorflow.keras.preprocessing.text import Tokenizer\n",
        "path ='/content/drive/MyDrive/text_classification/' "
      ]
    },
    {
      "cell_type": "code",
      "execution_count": null,
      "metadata": {
        "id": "8p2iPm2F0RHC"
      },
      "outputs": [],
      "source": [
        "from sklearn.linear_model import LogisticRegression\n",
        "from sklearn.tree import DecisionTreeClassifier\n",
        "from sklearn.ensemble import RandomForestClassifier\n",
        "from sklearn.naive_bayes import MultinomialNB\n",
        "from sklearn.neighbors import KNeighborsClassifier\n",
        "from sklearn.svm import SVC\n",
        "from sklearn.linear_model import SGDClassifier\n",
        "from sklearn.metrics import classification_report,accuracy_score,precision_score,recall_score,f1_score\n",
        "from sklearn.metrics import roc_curve, roc_auc_score\n",
        "from sklearn.metrics import average_precision_score,roc_auc_score, roc_curve, precision_recall_curve\n",
        "\n",
        "import numpy as np\n",
        "import pandas as pd\n",
        "import matplotlib.pyplot as plt\n",
        "%matplotlib inline\n",
        "import seaborn as sns\n",
        "import re,json,nltk\n",
        "from sklearn.preprocessing import LabelEncoder\n",
        "from sklearn.feature_extraction.text import TfidfVectorizer\n",
        "from sklearn.model_selection import train_test_split\n",
        "from sklearn.metrics import classification_report,accuracy_score,precision_score,recall_score,f1_score\n",
        "from tensorflow.keras.preprocessing.text import Tokenizer\n",
        "from sklearn.linear_model import LogisticRegression\n",
        "from sklearn.tree import DecisionTreeClassifier\n",
        "from sklearn.ensemble import RandomForestClassifier\n",
        "from sklearn.naive_bayes import MultinomialNB\n",
        "from sklearn.neighbors import KNeighborsClassifier\n",
        "from sklearn.naive_bayes import GaussianNB\n",
        "from sklearn.svm import SVC\n",
        "from sklearn.linear_model import SGDClassifier\n",
        "from sklearn.metrics import classification_report,accuracy_score,precision_score,recall_score,f1_score\n",
        "from sklearn.metrics import roc_curve, roc_auc_score\n",
        "from sklearn.metrics import average_precision_score,roc_auc_score, roc_curve, precision_recall_curve\n",
        "from sklearn.metrics import f1_score\n",
        "from sklearn.metrics import recall_score\n",
        "from sklearn.metrics import recall_score\n",
        "from sklearn.metrics import confusion_matrix\n",
        "from sklearn.metrics import accuracy_score, f1_score, precision_score, recall_score\n",
        "from sklearn.metrics import ConfusionMatrixDisplay,confusion_matrix,roc_auc_score,roc_curve,auc\n",
        "import string"
      ]
    },
    {
      "cell_type": "code",
      "execution_count": null,
      "metadata": {
        "colab": {
          "base_uri": "https://localhost:8080/"
        },
        "id": "UNOOmjpTuB78",
        "outputId": "39af225a-83b2-4d26-d306-63c2d1814116"
      },
      "outputs": [
        {
          "output_type": "stream",
          "name": "stdout",
          "text": [
            "Total Reviews: 4404 \n",
            "Total Correct Sentences: 2156 \n",
            "Total Inorrect Sentences: 2248\n"
          ]
        }
      ],
      "source": [
        "# Read the data and take only 1000 Reviews\n",
        "df = pd.read_excel(path+'123.xlsx')\n",
        "print(\"Total Reviews:\",len(df),\n",
        "      \"\\nTotal Correct Sentences:\",len(df[df.category=='correct']),\n",
        "      \"\\nTotal Inorrect Sentences:\",len(df[df.category=='incorrect']))"
      ]
    },
    {
      "cell_type": "code",
      "execution_count": null,
      "metadata": {
        "colab": {
          "base_uri": "https://localhost:8080/"
        },
        "id": "b2-j9LVtH-Oq",
        "outputId": "4a995540-8ec5-4f79-f84e-945b45598e47"
      },
      "outputs": [
        {
          "output_type": "stream",
          "name": "stdout",
          "text": [
            "Looking in indexes: https://pypi.org/simple, https://us-python.pkg.dev/colab-wheels/public/simple/\n",
            "Collecting bnlp-toolkit\n",
            "  Downloading bnlp_toolkit-3.3.0-py3-none-any.whl (22 kB)\n",
            "Collecting ftfy\n",
            "  Downloading ftfy-6.1.1-py3-none-any.whl (53 kB)\n",
            "\u001b[2K     \u001b[90m━━━━━━━━━━━━━━━━━━━━━━━━━━━━━━━━━━━━━━━━\u001b[0m \u001b[32m53.1/53.1 KB\u001b[0m \u001b[31m2.6 MB/s\u001b[0m eta \u001b[36m0:00:00\u001b[0m\n",
            "\u001b[?25hRequirement already satisfied: scipy in /usr/local/lib/python3.9/dist-packages (from bnlp-toolkit) (1.10.1)\n",
            "Collecting sklearn-crfsuite\n",
            "  Downloading sklearn_crfsuite-0.3.6-py2.py3-none-any.whl (12 kB)\n",
            "Requirement already satisfied: tqdm in /usr/local/lib/python3.9/dist-packages (from bnlp-toolkit) (4.65.0)\n",
            "Collecting emoji==1.7.0\n",
            "  Downloading emoji-1.7.0.tar.gz (175 kB)\n",
            "\u001b[2K     \u001b[90m━━━━━━━━━━━━━━━━━━━━━━━━━━━━━━━━━━━━━━━\u001b[0m \u001b[32m175.4/175.4 KB\u001b[0m \u001b[31m9.4 MB/s\u001b[0m eta \u001b[36m0:00:00\u001b[0m\n",
            "\u001b[?25h  Preparing metadata (setup.py) ... \u001b[?25l\u001b[?25hdone\n",
            "Collecting gensim==4.0.1\n",
            "  Downloading gensim-4.0.1.tar.gz (23.1 MB)\n",
            "\u001b[2K     \u001b[90m━━━━━━━━━━━━━━━━━━━━━━━━━━━━━━━━━━━━━━━━\u001b[0m \u001b[32m23.1/23.1 MB\u001b[0m \u001b[31m51.1 MB/s\u001b[0m eta \u001b[36m0:00:00\u001b[0m\n",
            "\u001b[?25h  Preparing metadata (setup.py) ... \u001b[?25l\u001b[?25hdone\n",
            "Collecting sentencepiece\n",
            "  Downloading sentencepiece-0.1.97-cp39-cp39-manylinux_2_17_x86_64.manylinux2014_x86_64.whl (1.3 MB)\n",
            "\u001b[2K     \u001b[90m━━━━━━━━━━━━━━━━━━━━━━━━━━━━━━━━━━━━━━━━\u001b[0m \u001b[32m1.3/1.3 MB\u001b[0m \u001b[31m75.0 MB/s\u001b[0m eta \u001b[36m0:00:00\u001b[0m\n",
            "\u001b[?25hRequirement already satisfied: numpy in /usr/local/lib/python3.9/dist-packages (from bnlp-toolkit) (1.22.4)\n",
            "Requirement already satisfied: nltk in /usr/local/lib/python3.9/dist-packages (from bnlp-toolkit) (3.7)\n",
            "Requirement already satisfied: smart_open>=1.8.1 in /usr/local/lib/python3.9/dist-packages (from gensim==4.0.1->bnlp-toolkit) (6.3.0)\n",
            "Requirement already satisfied: wcwidth>=0.2.5 in /usr/local/lib/python3.9/dist-packages (from ftfy->bnlp-toolkit) (0.2.6)\n",
            "Requirement already satisfied: click in /usr/local/lib/python3.9/dist-packages (from nltk->bnlp-toolkit) (8.1.3)\n",
            "Requirement already satisfied: joblib in /usr/local/lib/python3.9/dist-packages (from nltk->bnlp-toolkit) (1.2.0)\n",
            "Requirement already satisfied: regex>=2021.8.3 in /usr/local/lib/python3.9/dist-packages (from nltk->bnlp-toolkit) (2022.6.2)\n",
            "Requirement already satisfied: tabulate in /usr/local/lib/python3.9/dist-packages (from sklearn-crfsuite->bnlp-toolkit) (0.8.10)\n",
            "Requirement already satisfied: six in /usr/local/lib/python3.9/dist-packages (from sklearn-crfsuite->bnlp-toolkit) (1.15.0)\n",
            "Collecting python-crfsuite>=0.8.3\n",
            "  Downloading python_crfsuite-0.9.9-cp39-cp39-manylinux_2_17_x86_64.manylinux2014_x86_64.whl (1.0 MB)\n",
            "\u001b[2K     \u001b[90m━━━━━━━━━━━━━━━━━━━━━━━━━━━━━━━━━━━━━━━━\u001b[0m \u001b[32m1.0/1.0 MB\u001b[0m \u001b[31m73.7 MB/s\u001b[0m eta \u001b[36m0:00:00\u001b[0m\n",
            "\u001b[?25hBuilding wheels for collected packages: emoji, gensim\n",
            "  Building wheel for emoji (setup.py) ... \u001b[?25l\u001b[?25hdone\n",
            "  Created wheel for emoji: filename=emoji-1.7.0-py3-none-any.whl size=171046 sha256=2b84077b89b55ba822ddc8afc0d252e1cdd4d6d91f93231f81b806b9c221c134\n",
            "  Stored in directory: /root/.cache/pip/wheels/fa/7a/e9/22dd0515e1bad255e51663ee513a2fa839c95934c5fc301090\n",
            "  Building wheel for gensim (setup.py) ... \u001b[?25l\u001b[?25hdone\n",
            "  Created wheel for gensim: filename=gensim-4.0.1-cp39-cp39-linux_x86_64.whl size=26057891 sha256=3b9adeb0e0ff297f92eac9d044e0ea76e529898a924103e8e9e5735b6ff32d2a\n",
            "  Stored in directory: /root/.cache/pip/wheels/20/74/75/72ec1172891bdecb4ee73fbc2c71d5a150f165b1d0c2ea04e1\n",
            "Successfully built emoji gensim\n",
            "Installing collected packages: sentencepiece, python-crfsuite, emoji, sklearn-crfsuite, ftfy, gensim, bnlp-toolkit\n",
            "  Attempting uninstall: gensim\n",
            "    Found existing installation: gensim 3.6.0\n",
            "    Uninstalling gensim-3.6.0:\n",
            "      Successfully uninstalled gensim-3.6.0\n",
            "Successfully installed bnlp-toolkit-3.3.0 emoji-1.7.0 ftfy-6.1.1 gensim-4.0.1 python-crfsuite-0.9.9 sentencepiece-0.1.97 sklearn-crfsuite-0.3.6\n"
          ]
        }
      ],
      "source": [
        "pip install bnlp-toolkit"
      ]
    },
    {
      "cell_type": "code",
      "execution_count": null,
      "metadata": {
        "colab": {
          "base_uri": "https://localhost:8080/"
        },
        "id": "NcVFVGCX9vJ7",
        "outputId": "786cdb8f-d84a-4d5c-9af6-12c7f6c19ea1"
      },
      "outputs": [
        {
          "output_type": "stream",
          "name": "stdout",
          "text": [
            "punkt not found. downloading...\n"
          ]
        },
        {
          "output_type": "stream",
          "name": "stderr",
          "text": [
            "[nltk_data] Downloading package punkt to /root/nltk_data...\n",
            "[nltk_data]   Unzipping tokenizers/punkt.zip.\n",
            "/usr/local/lib/python3.9/dist-packages/gensim/similarities/__init__.py:15: UserWarning: The gensim.similarities.levenshtein submodule is disabled, because the optional Levenshtein package <https://pypi.org/project/python-Levenshtein/> is unavailable. Install Levenhstein (e.g. `pip install python-Levenshtein`) to suppress this warning.\n",
            "  warnings.warn(msg)\n"
          ]
        }
      ],
      "source": [
        "from bnlp import POS\n",
        "bn_pos = POS()\n",
        "model_path = \"/content/drive/MyDrive/text_classification/bn_pos.pkl\"\n",
        "pos_data = []\n",
        "for i in df['content']:\n",
        "      r= bn_pos.tag(model_path,i)\n",
        "      pos_data.append(r)"
      ]
    },
    {
      "cell_type": "code",
      "execution_count": null,
      "metadata": {
        "colab": {
          "base_uri": "https://localhost:8080/",
          "height": 424
        },
        "id": "oBGM7BPcKfrp",
        "outputId": "60b95a7c-3896-49b8-8b8d-a46385dc6322"
      },
      "outputs": [
        {
          "output_type": "execute_result",
          "data": {
            "text/plain": [
              "                                                content\n",
              "0     আপনার PPR সাথে PP আমার PPR একটি JQ গোপন NC পরা...\n",
              "1     আপনার PPR সঙ্গে PP আমার PPR একটি JQ গোপনীয় JJ ...\n",
              "2     তোমার PPR সাথে PP আমার PPR একটি JQ গোপন NC পরা...\n",
              "3     তোমার PPR সঙ্গে PP আমার PPR একটি JQ গোপনীয় JJ ...\n",
              "4     মনে NC রাখবে VM আবশ্যকীয় JJ ব্যয়ে NC কার্পণ্যত...\n",
              "...                                                 ...\n",
              "4399  মূমুর্ষু NC অবস্থায় NC স্যার NC হাসপাতালে NC র...\n",
              "4400  মূমুর্ষু NC অবস্থায় NC রহিম NP সাহেব NP হাসপাত...\n",
              "4401  তার PPR দুর্নীবার JQ ইচ্ছা NC শক্তি NC বাধা NC...\n",
              "4402           ব্যাকরন NC বইটি NC নিয়ে VM আসো VAUX । PU\n",
              "4403              আমার PPR ব্যাকরন NC বই NC নেয় VM । PU\n",
              "\n",
              "[4404 rows x 1 columns]"
            ],
            "text/html": [
              "\n",
              "  <div id=\"df-e5f1273f-475e-4416-8e63-a36a60ff71fa\">\n",
              "    <div class=\"colab-df-container\">\n",
              "      <div>\n",
              "<style scoped>\n",
              "    .dataframe tbody tr th:only-of-type {\n",
              "        vertical-align: middle;\n",
              "    }\n",
              "\n",
              "    .dataframe tbody tr th {\n",
              "        vertical-align: top;\n",
              "    }\n",
              "\n",
              "    .dataframe thead th {\n",
              "        text-align: right;\n",
              "    }\n",
              "</style>\n",
              "<table border=\"1\" class=\"dataframe\">\n",
              "  <thead>\n",
              "    <tr style=\"text-align: right;\">\n",
              "      <th></th>\n",
              "      <th>content</th>\n",
              "    </tr>\n",
              "  </thead>\n",
              "  <tbody>\n",
              "    <tr>\n",
              "      <th>0</th>\n",
              "      <td>আপনার PPR সাথে PP আমার PPR একটি JQ গোপন NC পরা...</td>\n",
              "    </tr>\n",
              "    <tr>\n",
              "      <th>1</th>\n",
              "      <td>আপনার PPR সঙ্গে PP আমার PPR একটি JQ গোপনীয় JJ ...</td>\n",
              "    </tr>\n",
              "    <tr>\n",
              "      <th>2</th>\n",
              "      <td>তোমার PPR সাথে PP আমার PPR একটি JQ গোপন NC পরা...</td>\n",
              "    </tr>\n",
              "    <tr>\n",
              "      <th>3</th>\n",
              "      <td>তোমার PPR সঙ্গে PP আমার PPR একটি JQ গোপনীয় JJ ...</td>\n",
              "    </tr>\n",
              "    <tr>\n",
              "      <th>4</th>\n",
              "      <td>মনে NC রাখবে VM আবশ্যকীয় JJ ব্যয়ে NC কার্পণ্যত...</td>\n",
              "    </tr>\n",
              "    <tr>\n",
              "      <th>...</th>\n",
              "      <td>...</td>\n",
              "    </tr>\n",
              "    <tr>\n",
              "      <th>4399</th>\n",
              "      <td>মূমুর্ষু NC অবস্থায় NC স্যার NC হাসপাতালে NC র...</td>\n",
              "    </tr>\n",
              "    <tr>\n",
              "      <th>4400</th>\n",
              "      <td>মূমুর্ষু NC অবস্থায় NC রহিম NP সাহেব NP হাসপাত...</td>\n",
              "    </tr>\n",
              "    <tr>\n",
              "      <th>4401</th>\n",
              "      <td>তার PPR দুর্নীবার JQ ইচ্ছা NC শক্তি NC বাধা NC...</td>\n",
              "    </tr>\n",
              "    <tr>\n",
              "      <th>4402</th>\n",
              "      <td>ব্যাকরন NC বইটি NC নিয়ে VM আসো VAUX । PU</td>\n",
              "    </tr>\n",
              "    <tr>\n",
              "      <th>4403</th>\n",
              "      <td>আমার PPR ব্যাকরন NC বই NC নেয় VM । PU</td>\n",
              "    </tr>\n",
              "  </tbody>\n",
              "</table>\n",
              "<p>4404 rows × 1 columns</p>\n",
              "</div>\n",
              "      <button class=\"colab-df-convert\" onclick=\"convertToInteractive('df-e5f1273f-475e-4416-8e63-a36a60ff71fa')\"\n",
              "              title=\"Convert this dataframe to an interactive table.\"\n",
              "              style=\"display:none;\">\n",
              "        \n",
              "  <svg xmlns=\"http://www.w3.org/2000/svg\" height=\"24px\"viewBox=\"0 0 24 24\"\n",
              "       width=\"24px\">\n",
              "    <path d=\"M0 0h24v24H0V0z\" fill=\"none\"/>\n",
              "    <path d=\"M18.56 5.44l.94 2.06.94-2.06 2.06-.94-2.06-.94-.94-2.06-.94 2.06-2.06.94zm-11 1L8.5 8.5l.94-2.06 2.06-.94-2.06-.94L8.5 2.5l-.94 2.06-2.06.94zm10 10l.94 2.06.94-2.06 2.06-.94-2.06-.94-.94-2.06-.94 2.06-2.06.94z\"/><path d=\"M17.41 7.96l-1.37-1.37c-.4-.4-.92-.59-1.43-.59-.52 0-1.04.2-1.43.59L10.3 9.45l-7.72 7.72c-.78.78-.78 2.05 0 2.83L4 21.41c.39.39.9.59 1.41.59.51 0 1.02-.2 1.41-.59l7.78-7.78 2.81-2.81c.8-.78.8-2.07 0-2.86zM5.41 20L4 18.59l7.72-7.72 1.47 1.35L5.41 20z\"/>\n",
              "  </svg>\n",
              "      </button>\n",
              "      \n",
              "  <style>\n",
              "    .colab-df-container {\n",
              "      display:flex;\n",
              "      flex-wrap:wrap;\n",
              "      gap: 12px;\n",
              "    }\n",
              "\n",
              "    .colab-df-convert {\n",
              "      background-color: #E8F0FE;\n",
              "      border: none;\n",
              "      border-radius: 50%;\n",
              "      cursor: pointer;\n",
              "      display: none;\n",
              "      fill: #1967D2;\n",
              "      height: 32px;\n",
              "      padding: 0 0 0 0;\n",
              "      width: 32px;\n",
              "    }\n",
              "\n",
              "    .colab-df-convert:hover {\n",
              "      background-color: #E2EBFA;\n",
              "      box-shadow: 0px 1px 2px rgba(60, 64, 67, 0.3), 0px 1px 3px 1px rgba(60, 64, 67, 0.15);\n",
              "      fill: #174EA6;\n",
              "    }\n",
              "\n",
              "    [theme=dark] .colab-df-convert {\n",
              "      background-color: #3B4455;\n",
              "      fill: #D2E3FC;\n",
              "    }\n",
              "\n",
              "    [theme=dark] .colab-df-convert:hover {\n",
              "      background-color: #434B5C;\n",
              "      box-shadow: 0px 1px 3px 1px rgba(0, 0, 0, 0.15);\n",
              "      filter: drop-shadow(0px 1px 2px rgba(0, 0, 0, 0.3));\n",
              "      fill: #FFFFFF;\n",
              "    }\n",
              "  </style>\n",
              "\n",
              "      <script>\n",
              "        const buttonEl =\n",
              "          document.querySelector('#df-e5f1273f-475e-4416-8e63-a36a60ff71fa button.colab-df-convert');\n",
              "        buttonEl.style.display =\n",
              "          google.colab.kernel.accessAllowed ? 'block' : 'none';\n",
              "\n",
              "        async function convertToInteractive(key) {\n",
              "          const element = document.querySelector('#df-e5f1273f-475e-4416-8e63-a36a60ff71fa');\n",
              "          const dataTable =\n",
              "            await google.colab.kernel.invokeFunction('convertToInteractive',\n",
              "                                                     [key], {});\n",
              "          if (!dataTable) return;\n",
              "\n",
              "          const docLinkHtml = 'Like what you see? Visit the ' +\n",
              "            '<a target=\"_blank\" href=https://colab.research.google.com/notebooks/data_table.ipynb>data table notebook</a>'\n",
              "            + ' to learn more about interactive tables.';\n",
              "          element.innerHTML = '';\n",
              "          dataTable['output_type'] = 'display_data';\n",
              "          await google.colab.output.renderOutput(dataTable, element);\n",
              "          const docLink = document.createElement('div');\n",
              "          docLink.innerHTML = docLinkHtml;\n",
              "          element.appendChild(docLink);\n",
              "        }\n",
              "      </script>\n",
              "    </div>\n",
              "  </div>\n",
              "  "
            ]
          },
          "metadata": {},
          "execution_count": 8
        }
      ],
      "source": [
        "mod_data = []\n",
        "for i in range(len(pos_data)):\n",
        "  data = ' '\n",
        "  for j in range(len(pos_data[i])):\n",
        "    for text in pos_data[i][j]:\n",
        "      data = data + text + \" \"\n",
        "  mod_data.append({\n",
        "      'content': data.strip()\n",
        "  })\n",
        "mod_data = pd.DataFrame(mod_data)\n",
        "mod_data"
      ]
    },
    {
      "cell_type": "code",
      "execution_count": null,
      "metadata": {
        "id": "KPPcxdwYIT0Y"
      },
      "outputs": [],
      "source": [
        "df['content'] = mod_data['content'] "
      ]
    },
    {
      "cell_type": "code",
      "execution_count": null,
      "metadata": {
        "colab": {
          "base_uri": "https://localhost:8080/",
          "height": 424
        },
        "id": "M9ZCWchMuYp9",
        "outputId": "b4af3e96-33ae-4af9-a26c-73f5603b4bb2"
      },
      "outputs": [
        {
          "output_type": "execute_result",
          "data": {
            "text/plain": [
              "                                                content   category\n",
              "0     আপনার PPR সাথে PP আমার PPR একটি JQ গোপন NC পরা...  incorrect\n",
              "1     আপনার PPR সঙ্গে PP আমার PPR একটি JQ গোপনীয় JJ ...    correct\n",
              "2     তোমার PPR সাথে PP আমার PPR একটি JQ গোপন NC পরা...  incorrect\n",
              "3     তোমার PPR সঙ্গে PP আমার PPR একটি JQ গোপনীয় JJ ...    correct\n",
              "4     মনে NC রাখবে VM আবশ্যকীয় JJ ব্যয়ে NC কার্পণ্যত...  incorrect\n",
              "...                                                 ...        ...\n",
              "4399  মূমুর্ষু NC অবস্থায় NC স্যার NC হাসপাতালে NC র...  incorrect\n",
              "4400  মূমুর্ষু NC অবস্থায় NC রহিম NP সাহেব NP হাসপাত...  incorrect\n",
              "4401  তার PPR দুর্নীবার JQ ইচ্ছা NC শক্তি NC বাধা NC...  incorrect\n",
              "4402           ব্যাকরন NC বইটি NC নিয়ে VM আসো VAUX । PU  incorrect\n",
              "4403              আমার PPR ব্যাকরন NC বই NC নেয় VM । PU  incorrect\n",
              "\n",
              "[4404 rows x 2 columns]"
            ],
            "text/html": [
              "\n",
              "  <div id=\"df-faa32d9a-b44b-46ae-af65-5d26d5cb053b\">\n",
              "    <div class=\"colab-df-container\">\n",
              "      <div>\n",
              "<style scoped>\n",
              "    .dataframe tbody tr th:only-of-type {\n",
              "        vertical-align: middle;\n",
              "    }\n",
              "\n",
              "    .dataframe tbody tr th {\n",
              "        vertical-align: top;\n",
              "    }\n",
              "\n",
              "    .dataframe thead th {\n",
              "        text-align: right;\n",
              "    }\n",
              "</style>\n",
              "<table border=\"1\" class=\"dataframe\">\n",
              "  <thead>\n",
              "    <tr style=\"text-align: right;\">\n",
              "      <th></th>\n",
              "      <th>content</th>\n",
              "      <th>category</th>\n",
              "    </tr>\n",
              "  </thead>\n",
              "  <tbody>\n",
              "    <tr>\n",
              "      <th>0</th>\n",
              "      <td>আপনার PPR সাথে PP আমার PPR একটি JQ গোপন NC পরা...</td>\n",
              "      <td>incorrect</td>\n",
              "    </tr>\n",
              "    <tr>\n",
              "      <th>1</th>\n",
              "      <td>আপনার PPR সঙ্গে PP আমার PPR একটি JQ গোপনীয় JJ ...</td>\n",
              "      <td>correct</td>\n",
              "    </tr>\n",
              "    <tr>\n",
              "      <th>2</th>\n",
              "      <td>তোমার PPR সাথে PP আমার PPR একটি JQ গোপন NC পরা...</td>\n",
              "      <td>incorrect</td>\n",
              "    </tr>\n",
              "    <tr>\n",
              "      <th>3</th>\n",
              "      <td>তোমার PPR সঙ্গে PP আমার PPR একটি JQ গোপনীয় JJ ...</td>\n",
              "      <td>correct</td>\n",
              "    </tr>\n",
              "    <tr>\n",
              "      <th>4</th>\n",
              "      <td>মনে NC রাখবে VM আবশ্যকীয় JJ ব্যয়ে NC কার্পণ্যত...</td>\n",
              "      <td>incorrect</td>\n",
              "    </tr>\n",
              "    <tr>\n",
              "      <th>...</th>\n",
              "      <td>...</td>\n",
              "      <td>...</td>\n",
              "    </tr>\n",
              "    <tr>\n",
              "      <th>4399</th>\n",
              "      <td>মূমুর্ষু NC অবস্থায় NC স্যার NC হাসপাতালে NC র...</td>\n",
              "      <td>incorrect</td>\n",
              "    </tr>\n",
              "    <tr>\n",
              "      <th>4400</th>\n",
              "      <td>মূমুর্ষু NC অবস্থায় NC রহিম NP সাহেব NP হাসপাত...</td>\n",
              "      <td>incorrect</td>\n",
              "    </tr>\n",
              "    <tr>\n",
              "      <th>4401</th>\n",
              "      <td>তার PPR দুর্নীবার JQ ইচ্ছা NC শক্তি NC বাধা NC...</td>\n",
              "      <td>incorrect</td>\n",
              "    </tr>\n",
              "    <tr>\n",
              "      <th>4402</th>\n",
              "      <td>ব্যাকরন NC বইটি NC নিয়ে VM আসো VAUX । PU</td>\n",
              "      <td>incorrect</td>\n",
              "    </tr>\n",
              "    <tr>\n",
              "      <th>4403</th>\n",
              "      <td>আমার PPR ব্যাকরন NC বই NC নেয় VM । PU</td>\n",
              "      <td>incorrect</td>\n",
              "    </tr>\n",
              "  </tbody>\n",
              "</table>\n",
              "<p>4404 rows × 2 columns</p>\n",
              "</div>\n",
              "      <button class=\"colab-df-convert\" onclick=\"convertToInteractive('df-faa32d9a-b44b-46ae-af65-5d26d5cb053b')\"\n",
              "              title=\"Convert this dataframe to an interactive table.\"\n",
              "              style=\"display:none;\">\n",
              "        \n",
              "  <svg xmlns=\"http://www.w3.org/2000/svg\" height=\"24px\"viewBox=\"0 0 24 24\"\n",
              "       width=\"24px\">\n",
              "    <path d=\"M0 0h24v24H0V0z\" fill=\"none\"/>\n",
              "    <path d=\"M18.56 5.44l.94 2.06.94-2.06 2.06-.94-2.06-.94-.94-2.06-.94 2.06-2.06.94zm-11 1L8.5 8.5l.94-2.06 2.06-.94-2.06-.94L8.5 2.5l-.94 2.06-2.06.94zm10 10l.94 2.06.94-2.06 2.06-.94-2.06-.94-.94-2.06-.94 2.06-2.06.94z\"/><path d=\"M17.41 7.96l-1.37-1.37c-.4-.4-.92-.59-1.43-.59-.52 0-1.04.2-1.43.59L10.3 9.45l-7.72 7.72c-.78.78-.78 2.05 0 2.83L4 21.41c.39.39.9.59 1.41.59.51 0 1.02-.2 1.41-.59l7.78-7.78 2.81-2.81c.8-.78.8-2.07 0-2.86zM5.41 20L4 18.59l7.72-7.72 1.47 1.35L5.41 20z\"/>\n",
              "  </svg>\n",
              "      </button>\n",
              "      \n",
              "  <style>\n",
              "    .colab-df-container {\n",
              "      display:flex;\n",
              "      flex-wrap:wrap;\n",
              "      gap: 12px;\n",
              "    }\n",
              "\n",
              "    .colab-df-convert {\n",
              "      background-color: #E8F0FE;\n",
              "      border: none;\n",
              "      border-radius: 50%;\n",
              "      cursor: pointer;\n",
              "      display: none;\n",
              "      fill: #1967D2;\n",
              "      height: 32px;\n",
              "      padding: 0 0 0 0;\n",
              "      width: 32px;\n",
              "    }\n",
              "\n",
              "    .colab-df-convert:hover {\n",
              "      background-color: #E2EBFA;\n",
              "      box-shadow: 0px 1px 2px rgba(60, 64, 67, 0.3), 0px 1px 3px 1px rgba(60, 64, 67, 0.15);\n",
              "      fill: #174EA6;\n",
              "    }\n",
              "\n",
              "    [theme=dark] .colab-df-convert {\n",
              "      background-color: #3B4455;\n",
              "      fill: #D2E3FC;\n",
              "    }\n",
              "\n",
              "    [theme=dark] .colab-df-convert:hover {\n",
              "      background-color: #434B5C;\n",
              "      box-shadow: 0px 1px 3px 1px rgba(0, 0, 0, 0.15);\n",
              "      filter: drop-shadow(0px 1px 2px rgba(0, 0, 0, 0.3));\n",
              "      fill: #FFFFFF;\n",
              "    }\n",
              "  </style>\n",
              "\n",
              "      <script>\n",
              "        const buttonEl =\n",
              "          document.querySelector('#df-faa32d9a-b44b-46ae-af65-5d26d5cb053b button.colab-df-convert');\n",
              "        buttonEl.style.display =\n",
              "          google.colab.kernel.accessAllowed ? 'block' : 'none';\n",
              "\n",
              "        async function convertToInteractive(key) {\n",
              "          const element = document.querySelector('#df-faa32d9a-b44b-46ae-af65-5d26d5cb053b');\n",
              "          const dataTable =\n",
              "            await google.colab.kernel.invokeFunction('convertToInteractive',\n",
              "                                                     [key], {});\n",
              "          if (!dataTable) return;\n",
              "\n",
              "          const docLinkHtml = 'Like what you see? Visit the ' +\n",
              "            '<a target=\"_blank\" href=https://colab.research.google.com/notebooks/data_table.ipynb>data table notebook</a>'\n",
              "            + ' to learn more about interactive tables.';\n",
              "          element.innerHTML = '';\n",
              "          dataTable['output_type'] = 'display_data';\n",
              "          await google.colab.output.renderOutput(dataTable, element);\n",
              "          const docLink = document.createElement('div');\n",
              "          docLink.innerHTML = docLinkHtml;\n",
              "          element.appendChild(docLink);\n",
              "        }\n",
              "      </script>\n",
              "    </div>\n",
              "  </div>\n",
              "  "
            ]
          },
          "metadata": {},
          "execution_count": 10
        }
      ],
      "source": [
        "df"
      ]
    },
    {
      "cell_type": "code",
      "execution_count": null,
      "metadata": {
        "id": "XPDh9iT1ZFDz"
      },
      "outputs": [],
      "source": [
        "df.category[df['category']=='correct']=0\n",
        "df.category[df['category']=='incorrect']=1"
      ]
    },
    {
      "cell_type": "code",
      "execution_count": null,
      "metadata": {
        "id": "3kUZe_IUaVmM"
      },
      "outputs": [],
      "source": [
        "df['category']= df.category.astype(float)"
      ]
    },
    {
      "cell_type": "code",
      "execution_count": null,
      "metadata": {
        "colab": {
          "base_uri": "https://localhost:8080/"
        },
        "id": "NxTRtd7gaIU4",
        "outputId": "bc7415ae-9b9c-41d6-c2fd-acf8020db3f0"
      },
      "outputs": [
        {
          "output_type": "execute_result",
          "data": {
            "text/plain": [
              "content      object\n",
              "category    float64\n",
              "dtype: object"
            ]
          },
          "metadata": {},
          "execution_count": 13
        }
      ],
      "source": [
        "df.dtypes"
      ]
    },
    {
      "cell_type": "code",
      "execution_count": null,
      "metadata": {
        "colab": {
          "base_uri": "https://localhost:8080/"
        },
        "id": "tnHJm_3RaLmO",
        "outputId": "e78bb318-9726-420b-9133-7afcffdff4d4"
      },
      "outputs": [
        {
          "output_type": "execute_result",
          "data": {
            "text/plain": [
              "1.0    2248\n",
              "0.0    2156\n",
              "Name: category, dtype: int64"
            ]
          },
          "metadata": {},
          "execution_count": 14
        }
      ],
      "source": [
        "df.category.value_counts()"
      ]
    },
    {
      "cell_type": "code",
      "execution_count": null,
      "metadata": {
        "id": "cGk4Pu42c4aW"
      },
      "outputs": [],
      "source": [
        "count_class_1, count_class_0 = df.category.value_counts()"
      ]
    },
    {
      "cell_type": "code",
      "execution_count": null,
      "metadata": {
        "id": "Fov3PXKqcPkf"
      },
      "outputs": [],
      "source": [
        "df_class_0 = df[df['category'] == 0]\n",
        "df_class_1 = df[df['category'] == 1]\n"
      ]
    },
    {
      "cell_type": "code",
      "execution_count": null,
      "metadata": {
        "colab": {
          "base_uri": "https://localhost:8080/",
          "height": 424
        },
        "id": "05sNRzwTU-2s",
        "outputId": "7c866989-c2ba-4cf7-e7ee-df40d0c59441"
      },
      "outputs": [
        {
          "output_type": "execute_result",
          "data": {
            "text/plain": [
              "                                                content  category\n",
              "1     আপনার PPR সঙ্গে PP আমার PPR একটি JQ গোপনীয় JJ ...       0.0\n",
              "3     তোমার PPR সঙ্গে PP আমার PPR একটি JQ গোপনীয় JJ ...       0.0\n",
              "5     মনে NC রাখবে VM আবশ্যকীয় JJ ব্যয়ে NC কার্পণ্য ...       0.0\n",
              "7          আজ ALC সুধীমন্ডলী JJ উপস্থিত JJ আছেন VM । PU       0.0\n",
              "9     সুধীমন্ডলী JJ এ DAB বিষয়ে NC মতামত NC দিয়েছেন ...       0.0\n",
              "...                                                 ...       ...\n",
              "4378  তিনি PPR আমাকে PPR ব্যাকরণ NC বইটি NC আমাকে PP...       0.0\n",
              "4380  রহিম NP আমাকে PPR ব্যাকরণ NC বইটি NC আমাকে PPR...       0.0\n",
              "4383  তার PPR হৃদয় VM - PU ক্ষেত্রে NC আশার NC বীজ N...       0.0\n",
              "4384  রহিমের NC হৃদয় VM - PU ক্ষেত্রে NC আশার NC বীজ...       0.0\n",
              "4388               বালি NC রাশি NC জমে VM আছে VAUX । PU       0.0\n",
              "\n",
              "[2156 rows x 2 columns]"
            ],
            "text/html": [
              "\n",
              "  <div id=\"df-0c149522-2273-4918-9da6-cc042391ae6f\">\n",
              "    <div class=\"colab-df-container\">\n",
              "      <div>\n",
              "<style scoped>\n",
              "    .dataframe tbody tr th:only-of-type {\n",
              "        vertical-align: middle;\n",
              "    }\n",
              "\n",
              "    .dataframe tbody tr th {\n",
              "        vertical-align: top;\n",
              "    }\n",
              "\n",
              "    .dataframe thead th {\n",
              "        text-align: right;\n",
              "    }\n",
              "</style>\n",
              "<table border=\"1\" class=\"dataframe\">\n",
              "  <thead>\n",
              "    <tr style=\"text-align: right;\">\n",
              "      <th></th>\n",
              "      <th>content</th>\n",
              "      <th>category</th>\n",
              "    </tr>\n",
              "  </thead>\n",
              "  <tbody>\n",
              "    <tr>\n",
              "      <th>1</th>\n",
              "      <td>আপনার PPR সঙ্গে PP আমার PPR একটি JQ গোপনীয় JJ ...</td>\n",
              "      <td>0.0</td>\n",
              "    </tr>\n",
              "    <tr>\n",
              "      <th>3</th>\n",
              "      <td>তোমার PPR সঙ্গে PP আমার PPR একটি JQ গোপনীয় JJ ...</td>\n",
              "      <td>0.0</td>\n",
              "    </tr>\n",
              "    <tr>\n",
              "      <th>5</th>\n",
              "      <td>মনে NC রাখবে VM আবশ্যকীয় JJ ব্যয়ে NC কার্পণ্য ...</td>\n",
              "      <td>0.0</td>\n",
              "    </tr>\n",
              "    <tr>\n",
              "      <th>7</th>\n",
              "      <td>আজ ALC সুধীমন্ডলী JJ উপস্থিত JJ আছেন VM । PU</td>\n",
              "      <td>0.0</td>\n",
              "    </tr>\n",
              "    <tr>\n",
              "      <th>9</th>\n",
              "      <td>সুধীমন্ডলী JJ এ DAB বিষয়ে NC মতামত NC দিয়েছেন ...</td>\n",
              "      <td>0.0</td>\n",
              "    </tr>\n",
              "    <tr>\n",
              "      <th>...</th>\n",
              "      <td>...</td>\n",
              "      <td>...</td>\n",
              "    </tr>\n",
              "    <tr>\n",
              "      <th>4378</th>\n",
              "      <td>তিনি PPR আমাকে PPR ব্যাকরণ NC বইটি NC আমাকে PP...</td>\n",
              "      <td>0.0</td>\n",
              "    </tr>\n",
              "    <tr>\n",
              "      <th>4380</th>\n",
              "      <td>রহিম NP আমাকে PPR ব্যাকরণ NC বইটি NC আমাকে PPR...</td>\n",
              "      <td>0.0</td>\n",
              "    </tr>\n",
              "    <tr>\n",
              "      <th>4383</th>\n",
              "      <td>তার PPR হৃদয় VM - PU ক্ষেত্রে NC আশার NC বীজ N...</td>\n",
              "      <td>0.0</td>\n",
              "    </tr>\n",
              "    <tr>\n",
              "      <th>4384</th>\n",
              "      <td>রহিমের NC হৃদয় VM - PU ক্ষেত্রে NC আশার NC বীজ...</td>\n",
              "      <td>0.0</td>\n",
              "    </tr>\n",
              "    <tr>\n",
              "      <th>4388</th>\n",
              "      <td>বালি NC রাশি NC জমে VM আছে VAUX । PU</td>\n",
              "      <td>0.0</td>\n",
              "    </tr>\n",
              "  </tbody>\n",
              "</table>\n",
              "<p>2156 rows × 2 columns</p>\n",
              "</div>\n",
              "      <button class=\"colab-df-convert\" onclick=\"convertToInteractive('df-0c149522-2273-4918-9da6-cc042391ae6f')\"\n",
              "              title=\"Convert this dataframe to an interactive table.\"\n",
              "              style=\"display:none;\">\n",
              "        \n",
              "  <svg xmlns=\"http://www.w3.org/2000/svg\" height=\"24px\"viewBox=\"0 0 24 24\"\n",
              "       width=\"24px\">\n",
              "    <path d=\"M0 0h24v24H0V0z\" fill=\"none\"/>\n",
              "    <path d=\"M18.56 5.44l.94 2.06.94-2.06 2.06-.94-2.06-.94-.94-2.06-.94 2.06-2.06.94zm-11 1L8.5 8.5l.94-2.06 2.06-.94-2.06-.94L8.5 2.5l-.94 2.06-2.06.94zm10 10l.94 2.06.94-2.06 2.06-.94-2.06-.94-.94-2.06-.94 2.06-2.06.94z\"/><path d=\"M17.41 7.96l-1.37-1.37c-.4-.4-.92-.59-1.43-.59-.52 0-1.04.2-1.43.59L10.3 9.45l-7.72 7.72c-.78.78-.78 2.05 0 2.83L4 21.41c.39.39.9.59 1.41.59.51 0 1.02-.2 1.41-.59l7.78-7.78 2.81-2.81c.8-.78.8-2.07 0-2.86zM5.41 20L4 18.59l7.72-7.72 1.47 1.35L5.41 20z\"/>\n",
              "  </svg>\n",
              "      </button>\n",
              "      \n",
              "  <style>\n",
              "    .colab-df-container {\n",
              "      display:flex;\n",
              "      flex-wrap:wrap;\n",
              "      gap: 12px;\n",
              "    }\n",
              "\n",
              "    .colab-df-convert {\n",
              "      background-color: #E8F0FE;\n",
              "      border: none;\n",
              "      border-radius: 50%;\n",
              "      cursor: pointer;\n",
              "      display: none;\n",
              "      fill: #1967D2;\n",
              "      height: 32px;\n",
              "      padding: 0 0 0 0;\n",
              "      width: 32px;\n",
              "    }\n",
              "\n",
              "    .colab-df-convert:hover {\n",
              "      background-color: #E2EBFA;\n",
              "      box-shadow: 0px 1px 2px rgba(60, 64, 67, 0.3), 0px 1px 3px 1px rgba(60, 64, 67, 0.15);\n",
              "      fill: #174EA6;\n",
              "    }\n",
              "\n",
              "    [theme=dark] .colab-df-convert {\n",
              "      background-color: #3B4455;\n",
              "      fill: #D2E3FC;\n",
              "    }\n",
              "\n",
              "    [theme=dark] .colab-df-convert:hover {\n",
              "      background-color: #434B5C;\n",
              "      box-shadow: 0px 1px 3px 1px rgba(0, 0, 0, 0.15);\n",
              "      filter: drop-shadow(0px 1px 2px rgba(0, 0, 0, 0.3));\n",
              "      fill: #FFFFFF;\n",
              "    }\n",
              "  </style>\n",
              "\n",
              "      <script>\n",
              "        const buttonEl =\n",
              "          document.querySelector('#df-0c149522-2273-4918-9da6-cc042391ae6f button.colab-df-convert');\n",
              "        buttonEl.style.display =\n",
              "          google.colab.kernel.accessAllowed ? 'block' : 'none';\n",
              "\n",
              "        async function convertToInteractive(key) {\n",
              "          const element = document.querySelector('#df-0c149522-2273-4918-9da6-cc042391ae6f');\n",
              "          const dataTable =\n",
              "            await google.colab.kernel.invokeFunction('convertToInteractive',\n",
              "                                                     [key], {});\n",
              "          if (!dataTable) return;\n",
              "\n",
              "          const docLinkHtml = 'Like what you see? Visit the ' +\n",
              "            '<a target=\"_blank\" href=https://colab.research.google.com/notebooks/data_table.ipynb>data table notebook</a>'\n",
              "            + ' to learn more about interactive tables.';\n",
              "          element.innerHTML = '';\n",
              "          dataTable['output_type'] = 'display_data';\n",
              "          await google.colab.output.renderOutput(dataTable, element);\n",
              "          const docLink = document.createElement('div');\n",
              "          docLink.innerHTML = docLinkHtml;\n",
              "          element.appendChild(docLink);\n",
              "        }\n",
              "      </script>\n",
              "    </div>\n",
              "  </div>\n",
              "  "
            ]
          },
          "metadata": {},
          "execution_count": 17
        }
      ],
      "source": [
        "df_class_0"
      ]
    },
    {
      "cell_type": "code",
      "execution_count": null,
      "metadata": {
        "colab": {
          "base_uri": "https://localhost:8080/"
        },
        "id": "0JUEEWShYBHh",
        "outputId": "cf4ab6f5-a6c6-4cb4-8508-33622a4eebcf"
      },
      "outputs": [
        {
          "output_type": "execute_result",
          "data": {
            "text/plain": [
              "2248"
            ]
          },
          "metadata": {},
          "execution_count": 18
        }
      ],
      "source": [
        "count_class_1"
      ]
    },
    {
      "cell_type": "code",
      "execution_count": null,
      "metadata": {
        "id": "VIHAXDb3cRLg"
      },
      "outputs": [],
      "source": [
        "df_class_0_over = df_class_0.sample(count_class_1, replace=True)\n",
        "df_over = pd.concat([df_class_1, df_class_0_over], axis=0)"
      ]
    },
    {
      "cell_type": "code",
      "execution_count": null,
      "metadata": {
        "colab": {
          "base_uri": "https://localhost:8080/"
        },
        "id": "L9dC0N_0cRFU",
        "outputId": "73f39602-0753-4f3c-bd0b-012b9d0fa9ea"
      },
      "outputs": [
        {
          "output_type": "stream",
          "name": "stdout",
          "text": [
            "Random over-sampling:\n",
            "1.0    2248\n",
            "0.0    2248\n",
            "Name: category, dtype: int64\n"
          ]
        }
      ],
      "source": [
        "print('Random over-sampling:')\n",
        "print(df_over.category.value_counts())"
      ]
    },
    {
      "cell_type": "code",
      "execution_count": null,
      "metadata": {
        "colab": {
          "base_uri": "https://localhost:8080/"
        },
        "id": "WVJmicUOaOTL",
        "outputId": "2646a6f3-949b-4fd0-ef04-479af2fbde73"
      },
      "outputs": [
        {
          "output_type": "execute_result",
          "data": {
            "text/plain": [
              "(4496,)"
            ]
          },
          "metadata": {},
          "execution_count": 21
        }
      ],
      "source": [
        "df_over.content.shape"
      ]
    },
    {
      "cell_type": "code",
      "execution_count": null,
      "metadata": {
        "id": "k_2NigSzaQX9"
      },
      "outputs": [],
      "source": [
        "X1 = df_over.drop('category',axis='columns')\n",
        "y1 = df_over['category']"
      ]
    },
    {
      "cell_type": "code",
      "execution_count": null,
      "metadata": {
        "colab": {
          "base_uri": "https://localhost:8080/"
        },
        "id": "qDPHWLUsaS_z",
        "outputId": "bb4967d5-6a67-4d62-9bb8-6c40aeacd369"
      },
      "outputs": [
        {
          "output_type": "stream",
          "name": "stderr",
          "text": [
            "[nltk_data] Downloading package stopwords to /root/nltk_data...\n",
            "[nltk_data]   Unzipping corpora/stopwords.zip.\n",
            "[nltk_data] Downloading package punkt to /root/nltk_data...\n",
            "[nltk_data]   Package punkt is already up-to-date!\n"
          ]
        }
      ],
      "source": [
        "import string\n",
        "from nltk.tokenize import word_tokenize\n",
        "from nltk.corpus import stopwords\n",
        "nltk.download('stopwords')\n",
        "nltk.download('punkt')\n",
        "\n",
        "\n",
        "reviews_lines1=list()\n",
        "lines=X1['content'].values.tolist()\n",
        "\n",
        "for line in lines:\n",
        "  tokens=word_tokenize(line)\n",
        "  # tokens=[word.lower() for word in tokens]\n",
        "  # table=str.maketrans('','',string.punctuation)\n",
        "  # stripped=[w.translate(table) for w in tokens]\n",
        "  # words=[word for word in stripped if word.isalpha()]\n",
        "  # stop_words= set(stopwords.words('bengali'))\n",
        "  # words=[w for w in words if not w in stop_words]\n",
        "  reviews_lines1.append(tokens)"
      ]
    },
    {
      "cell_type": "code",
      "execution_count": null,
      "metadata": {
        "colab": {
          "base_uri": "https://localhost:8080/"
        },
        "id": "lKs742qxo2Cu",
        "outputId": "d2dd51ac-f686-4ca6-cc5c-c664b332f402"
      },
      "outputs": [
        {
          "output_type": "execute_result",
          "data": {
            "text/plain": [
              "['ঘরে',\n",
              " 'NC',\n",
              " 'ঘরে',\n",
              " 'NC',\n",
              " 'দুর্গ',\n",
              " 'NC',\n",
              " 'গড়ে',\n",
              " 'VM',\n",
              " 'তুল',\n",
              " 'VAUX',\n",
              " '।',\n",
              " 'PU']"
            ]
          },
          "metadata": {},
          "execution_count": 24
        }
      ],
      "source": [
        "tokens"
      ]
    },
    {
      "cell_type": "code",
      "execution_count": null,
      "metadata": {
        "colab": {
          "base_uri": "https://localhost:8080/"
        },
        "id": "s6jXAkN-oO3z",
        "outputId": "f75fb44f-b8b0-4494-a1ab-9f3cc6246bc6"
      },
      "outputs": [
        {
          "output_type": "execute_result",
          "data": {
            "text/plain": [
              "4496"
            ]
          },
          "metadata": {},
          "execution_count": 25
        }
      ],
      "source": [
        "len(lines)"
      ]
    },
    {
      "cell_type": "code",
      "source": [
        "! pip install gensim==3.8"
      ],
      "metadata": {
        "colab": {
          "base_uri": "https://localhost:8080/"
        },
        "id": "k0glam5oUCTt",
        "outputId": "81ee36d7-a17c-43b9-9324-552b67f5e1d3"
      },
      "execution_count": null,
      "outputs": [
        {
          "output_type": "stream",
          "name": "stdout",
          "text": [
            "Looking in indexes: https://pypi.org/simple, https://us-python.pkg.dev/colab-wheels/public/simple/\n",
            "Collecting gensim==3.8\n",
            "  Downloading gensim-3.8.0.tar.gz (23.4 MB)\n",
            "\u001b[2K     \u001b[90m━━━━━━━━━━━━━━━━━━━━━━━━━━━━━━━━━━━━━━━━\u001b[0m \u001b[32m23.4/23.4 MB\u001b[0m \u001b[31m11.8 MB/s\u001b[0m eta \u001b[36m0:00:00\u001b[0m\n",
            "\u001b[?25h  Preparing metadata (setup.py) ... \u001b[?25l\u001b[?25hdone\n",
            "Requirement already satisfied: numpy>=1.11.3 in /usr/local/lib/python3.9/dist-packages (from gensim==3.8) (1.22.4)\n",
            "Requirement already satisfied: scipy>=0.18.1 in /usr/local/lib/python3.9/dist-packages (from gensim==3.8) (1.10.1)\n",
            "Requirement already satisfied: six>=1.5.0 in /usr/local/lib/python3.9/dist-packages (from gensim==3.8) (1.15.0)\n",
            "Requirement already satisfied: smart_open>=1.7.0 in /usr/local/lib/python3.9/dist-packages (from gensim==3.8) (6.3.0)\n",
            "Building wheels for collected packages: gensim\n",
            "  Building wheel for gensim (setup.py) ... \u001b[?25l\u001b[?25hdone\n",
            "  Created wheel for gensim: filename=gensim-3.8.0-cp39-cp39-linux_x86_64.whl size=24952699 sha256=b8808f01d2e5c73e76ff7324d88bc92ffa8441a8c4d2a1644bba5ac4eb074eda\n",
            "  Stored in directory: /root/.cache/pip/wheels/fb/18/fa/2a0084905c1be0cead09a515d05015c1f939afb16fd7893ff4\n",
            "Successfully built gensim\n",
            "Installing collected packages: gensim\n",
            "  Attempting uninstall: gensim\n",
            "    Found existing installation: gensim 4.0.1\n",
            "    Uninstalling gensim-4.0.1:\n",
            "      Successfully uninstalled gensim-4.0.1\n",
            "\u001b[31mERROR: pip's dependency resolver does not currently take into account all the packages that are installed. This behaviour is the source of the following dependency conflicts.\n",
            "bnlp-toolkit 3.3.0 requires gensim==4.0.1, but you have gensim 3.8.0 which is incompatible.\u001b[0m\u001b[31m\n",
            "\u001b[0mSuccessfully installed gensim-3.8.0\n"
          ]
        }
      ]
    },
    {
      "cell_type": "code",
      "execution_count": null,
      "metadata": {
        "colab": {
          "base_uri": "https://localhost:8080/"
        },
        "id": "wT8p5q8Dahsr",
        "outputId": "f549c4fc-71f2-4972-a6df-516692e8deb3"
      },
      "outputs": [
        {
          "output_type": "stream",
          "name": "stdout",
          "text": [
            "vocabulary Size: 2142\n"
          ]
        }
      ],
      "source": [
        "import gensim\n",
        "EMBEDDING_DIM=100\n",
        "model=gensim.models.Word2Vec(sentences=reviews_lines1, window=5,min_count=1)\n",
        "words= list(model.wv.index_to_key)\n",
        "print(\"vocabulary Size: %d\" %len(words))"
      ]
    },
    {
      "cell_type": "code",
      "execution_count": null,
      "metadata": {
        "colab": {
          "base_uri": "https://localhost:8080/"
        },
        "id": "yK0pFt2Ya0w7",
        "outputId": "b585ee56-9aea-4995-fe97-a8d91dcca5a2"
      },
      "outputs": [
        {
          "output_type": "execute_result",
          "data": {
            "text/plain": [
              "[('আমি', 0.9989174008369446),\n",
              " ('তার', 0.9988937377929688),\n",
              " ('দেখে', 0.9987964034080505),\n",
              " ('আমাদের', 0.9987941384315491),\n",
              " ('আমার', 0.9986896514892578),\n",
              " ('করিম', 0.9986828565597534),\n",
              " ('মনে', 0.9986699819564819),\n",
              " ('ব্যাপারে', 0.9986630082130432),\n",
              " ('সকলের', 0.9985033273696899),\n",
              " ('তুমি', 0.9984395503997803)]"
            ]
          },
          "metadata": {},
          "execution_count": 28
        }
      ],
      "source": [
        "model.wv.most_similar(\"তোমার\")"
      ]
    },
    {
      "cell_type": "code",
      "execution_count": null,
      "metadata": {
        "id": "EvRgwwFBa6xc"
      },
      "outputs": [],
      "source": [
        "filename = 'novel_embedding_word2vec.txt'\n",
        "model.wv.save_word2vec_format(filename, binary=False)"
      ]
    },
    {
      "cell_type": "code",
      "execution_count": null,
      "metadata": {
        "id": "21h7wPpca8Gk"
      },
      "outputs": [],
      "source": [
        "import os\n",
        "embedding_index={}\n",
        "\n",
        "f = open('novel_embedding_word2vec.txt',encoding='utf-8')\n",
        "for line in f:\n",
        "  values=line.split()\n",
        "  word=values[0]\n",
        "  coefs=np.asarray(values[1:])\n",
        "  embedding_index[word]=coefs\n",
        "\n",
        "f.close()"
      ]
    },
    {
      "cell_type": "code",
      "execution_count": null,
      "metadata": {
        "colab": {
          "base_uri": "https://localhost:8080/"
        },
        "id": "_aCXKRD1bAJU",
        "outputId": "ede71b80-9cdd-4449-abe2-092326d5c7f1"
      },
      "outputs": [
        {
          "output_type": "stream",
          "name": "stdout",
          "text": [
            "(4496, 15)\n",
            "(4496,)\n"
          ]
        }
      ],
      "source": [
        "from tensorflow.keras.preprocessing.text import Tokenizer\n",
        "from tensorflow.keras.preprocessing.sequence import pad_sequences\n",
        "import numpy as np\n",
        "\n",
        "\n",
        "VALIDATION_SPLIT= 0.1\n",
        "\n",
        "tokenizer_obj= Tokenizer()\n",
        "tokenizer_obj.fit_on_texts(reviews_lines1)\n",
        "sequences= tokenizer_obj.texts_to_sequences(reviews_lines1)\n",
        "\n",
        "max_length=15\n",
        "\n",
        "word_index=tokenizer_obj.word_index\n",
        "\n",
        "review_pad= pad_sequences(sequences,maxlen=max_length)\n",
        "sentiment=y1.values\n",
        "\n",
        "print(review_pad.shape)\n",
        "print(sentiment.shape)\n",
        "indices=np.arange(review_pad.shape[0])\n",
        "np.random.shuffle(indices)\n",
        "\n",
        "review_pad=review_pad[indices]\n",
        "sentiment=sentiment[indices]\n",
        "num_validation_samples=int(VALIDATION_SPLIT*review_pad.shape[0])\n",
        "X_val_pad= review_pad[:num_validation_samples]\n",
        "y_val=sentiment[:num_validation_samples]\n",
        "X_train_pad= review_pad[num_validation_samples:]\n",
        "y_train=sentiment[num_validation_samples:]\n"
      ]
    },
    {
      "cell_type": "code",
      "execution_count": null,
      "metadata": {
        "id": "5kDLy0WfbDQb"
      },
      "outputs": [],
      "source": [
        "TEST_SPLIT=0.20\n",
        "num_test_samples = int(TEST_SPLIT*X_train_pad.shape[0])\n",
        "\n",
        "X_test= X_train_pad[:num_test_samples]\n",
        "y_test= y_train[:num_test_samples]\n",
        "X_train=X_train_pad[num_test_samples:]\n",
        "y_train= y_train[num_test_samples:]\n"
      ]
    },
    {
      "cell_type": "code",
      "execution_count": null,
      "metadata": {
        "colab": {
          "base_uri": "https://localhost:8080/"
        },
        "id": "Aza7PVSFbFgc",
        "outputId": "0952b8b8-a469-4c4c-a57c-f9f653993401"
      },
      "outputs": [
        {
          "output_type": "stream",
          "name": "stdout",
          "text": [
            "(3238, 15)\n",
            "(3238,)\n",
            "(449, 15)\n",
            "(449,)\n",
            "(809, 15)\n",
            "(809,)\n"
          ]
        }
      ],
      "source": [
        "print(X_train.shape)\n",
        "print(y_train.shape)\n",
        "\n",
        "print(X_val_pad.shape)\n",
        "print(y_val.shape)\n",
        "\n",
        "print(X_test.shape)\n",
        "print(y_test.shape)"
      ]
    },
    {
      "cell_type": "code",
      "execution_count": null,
      "metadata": {
        "id": "cJVQIRUUbIul"
      },
      "outputs": [],
      "source": [
        "EMBEDDING_DIM=100\n",
        "num_words=len(word_index)+1\n",
        "embedding_matrix=np.zeros((num_words,EMBEDDING_DIM))\n",
        "\n",
        "for word, i in word_index.items():\n",
        "  if i>num_words:\n",
        "    continue\n",
        "  embedding_vector=embedding_index.get(word)\n",
        "  if embedding_vector is not None:\n",
        "    embedding_matrix[i]=embedding_vector"
      ]
    },
    {
      "cell_type": "markdown",
      "metadata": {
        "id": "REiBfWsdz3UA"
      },
      "source": [
        "# **K-Nearest Neighbor(KNN)**"
      ]
    },
    {
      "cell_type": "code",
      "execution_count": null,
      "metadata": {
        "colab": {
          "base_uri": "https://localhost:8080/"
        },
        "id": "E9OUuyuPFI0Y",
        "outputId": "973aab3a-fc79-4359-d78e-ce7b4e7a455f"
      },
      "outputs": [
        {
          "output_type": "stream",
          "name": "stdout",
          "text": [
            "Training Accuracy:\n",
            "0.9481161210623842\n"
          ]
        }
      ],
      "source": [
        "knn_model = KNeighborsClassifier(n_neighbors=3, metric = 'minkowski')\n",
        "knn_model.fit(X_train,y_train)\n",
        "knn_train = knn_model.score(X_train,y_train)\n",
        "print('Training Accuracy:')\n",
        "print(knn_train)"
      ]
    },
    {
      "cell_type": "code",
      "execution_count": null,
      "metadata": {
        "colab": {
          "base_uri": "https://localhost:8080/"
        },
        "id": "cjlp42WDLd3q",
        "outputId": "747a2084-7aba-4a1a-9ed7-eee7e446722a"
      },
      "outputs": [
        {
          "output_type": "stream",
          "name": "stdout",
          "text": [
            "Testing Accuracy:\n",
            "0.8405438813349815\n"
          ]
        }
      ],
      "source": [
        "knn_test = knn_model.score(X_test,y_test)\n",
        "print('Testing Accuracy:')\n",
        "print(knn_test)"
      ]
    },
    {
      "cell_type": "code",
      "execution_count": null,
      "metadata": {
        "id": "mw_DDi_XH-Eq"
      },
      "outputs": [],
      "source": [
        "k_pred= knn_model.predict(X_test)"
      ]
    },
    {
      "cell_type": "code",
      "execution_count": null,
      "metadata": {
        "colab": {
          "base_uri": "https://localhost:8080/",
          "height": 551
        },
        "id": "4wOm5YGXIVkX",
        "outputId": "6d261053-5533-41cb-f646-2cd5ea71699f"
      },
      "outputs": [
        {
          "output_type": "display_data",
          "data": {
            "text/plain": [
              "<Figure size 720x576 with 2 Axes>"
            ],
            "image/png": "[encoded data removed]"
          },
          "metadata": {
            "needs_background": "light"
          }
        }
      ],
      "source": [
        "plt.figure(figsize=(10,8))\n",
        "fx=sns.heatmap(confusion_matrix(y_test,k_pred), annot=True, fmt=\".2f\",cmap=\"GnBu\")\n",
        "fx.set_title('Confusion Matrix \\n');\n",
        "fx.set_xlabel('\\n Predicted Correctness\\n')\n",
        "fx.set_ylabel('Actual Correctness\\n');\n",
        "fx.xaxis.set_ticklabels(['Correct','Incorrect'])\n",
        "fx.yaxis.set_ticklabels(['Correct','Incorrect'])\n",
        "plt.show()"
      ]
    },
    {
      "cell_type": "code",
      "execution_count": null,
      "metadata": {
        "colab": {
          "base_uri": "https://localhost:8080/"
        },
        "id": "48PPNWw7PA9h",
        "outputId": "19e1b607-fca6-4dc3-9b2d-62887898728e"
      },
      "outputs": [
        {
          "output_type": "stream",
          "name": "stdout",
          "text": [
            "recall: 0.8277511961722488\n",
            "Precision: 0.858560794044665\n",
            "F1 score: 0.8428745432399514\n",
            "Accuracy: 0.8405438813349815\n"
          ]
        }
      ],
      "source": [
        "print('recall:',recall_score(y_test, k_pred))\n",
        "print('Precision:',precision_score(y_test, k_pred))\n",
        "print('F1 score:', f1_score(y_test, k_pred))\n",
        "print('Accuracy:',accuracy_score(y_test, k_pred))"
      ]
    },
    {
      "cell_type": "markdown",
      "metadata": {
        "id": "ULr5AlY70pEy"
      },
      "source": [
        "## **Logistic Regression**"
      ]
    },
    {
      "cell_type": "code",
      "execution_count": null,
      "metadata": {
        "colab": {
          "base_uri": "https://localhost:8080/"
        },
        "id": "Zo2fYdpfY6zW",
        "outputId": "fb844fb7-1c32-4411-d909-bd717dfd74b1"
      },
      "outputs": [
        {
          "output_type": "stream",
          "name": "stdout",
          "text": [
            "Training Accuracy: 0.5630018529956763\n"
          ]
        },
        {
          "output_type": "stream",
          "name": "stderr",
          "text": [
            "/usr/local/lib/python3.9/dist-packages/sklearn/linear_model/_logistic.py:458: ConvergenceWarning: lbfgs failed to converge (status=1):\n",
            "STOP: TOTAL NO. of ITERATIONS REACHED LIMIT.\n",
            "\n",
            "Increase the number of iterations (max_iter) or scale the data as shown in:\n",
            "    https://scikit-learn.org/stable/modules/preprocessing.html\n",
            "Please also refer to the documentation for alternative solver options:\n",
            "    https://scikit-learn.org/stable/modules/linear_model.html#logistic-regression\n",
            "  n_iter_i = _check_optimize_result(\n"
          ]
        }
      ],
      "source": [
        "lr_model= LogisticRegression(random_state=0)  \n",
        "lr_model.fit(X_train, y_train)  \n",
        "lr_train = lr_model.score(X_train,y_train)\n",
        "print('Training Accuracy:',lr_train)"
      ]
    },
    {
      "cell_type": "code",
      "execution_count": null,
      "metadata": {
        "colab": {
          "base_uri": "https://localhost:8080/"
        },
        "id": "CNIx-o-CosY6",
        "outputId": "cc601cce-d324-4fef-ce59-ccc28b0dc5e6"
      },
      "outputs": [
        {
          "output_type": "stream",
          "name": "stdout",
          "text": [
            "Testing Accuracy: 0.5475896168108776\n"
          ]
        }
      ],
      "source": [
        "lr_test = lr_model.score(X_test,y_test)\n",
        "print('Testing Accuracy:', lr_test)"
      ]
    },
    {
      "cell_type": "code",
      "execution_count": null,
      "metadata": {
        "id": "sLnnVGF_osY7"
      },
      "outputs": [],
      "source": [
        "lr_pred= lr_model.predict(X_test)"
      ]
    },
    {
      "cell_type": "code",
      "execution_count": null,
      "metadata": {
        "colab": {
          "base_uri": "https://localhost:8080/",
          "height": 551
        },
        "id": "65DzT4E4osY7",
        "outputId": "9bf84b5e-a833-4b3e-9e13-6eb4a53c78f7"
      },
      "outputs": [
        {
          "output_type": "display_data",
          "data": {
            "text/plain": [
              "<Figure size 720x576 with 2 Axes>"
            ],
            "image/png": "[encoded data removed]"
          },
          "metadata": {
            "needs_background": "light"
          }
        }
      ],
      "source": [
        "plt.figure(figsize=(10,8))\n",
        "fx=sns.heatmap(confusion_matrix(y_test,lr_pred), annot=True, fmt=\".2f\",cmap=\"GnBu\")\n",
        "fx.set_title('Confusion Matrix \\n');\n",
        "fx.set_xlabel('\\n Predicted Correctness\\n')\n",
        "fx.set_ylabel('Actual Correctness\\n');\n",
        "fx.xaxis.set_ticklabels(['Correct','Incorrect'])\n",
        "fx.yaxis.set_ticklabels(['Correct','Incorrect'])\n",
        "plt.show()"
      ]
    },
    {
      "cell_type": "code",
      "execution_count": null,
      "metadata": {
        "colab": {
          "base_uri": "https://localhost:8080/"
        },
        "id": "hRh26TIyosY7",
        "outputId": "46ce4e33-a3d1-46e2-9678-daa0f2433298"
      },
      "outputs": [
        {
          "output_type": "stream",
          "name": "stdout",
          "text": [
            "recall: 0.6004784688995215\n",
            "Precision: 0.5577777777777778\n",
            "F1 score: 0.5783410138248849\n",
            "Accuracy: 0.5475896168108776\n"
          ]
        }
      ],
      "source": [
        "print('recall:',recall_score(y_test, lr_pred))\n",
        "print('Precision:',precision_score(y_test, lr_pred))\n",
        "print('F1 score:', f1_score(y_test, lr_pred))\n",
        "print('Accuracy:',accuracy_score(y_test, lr_pred))"
      ]
    },
    {
      "cell_type": "markdown",
      "metadata": {
        "id": "X6x2MSMs09_r"
      },
      "source": [
        "### Random Forest"
      ]
    },
    {
      "cell_type": "code",
      "execution_count": null,
      "metadata": {
        "colab": {
          "base_uri": "https://localhost:8080/"
        },
        "id": "x9BVORSETXZz",
        "outputId": "c7eb0363-f2fc-4630-f3df-d8b9a6bd9bec"
      },
      "outputs": [
        {
          "output_type": "stream",
          "name": "stdout",
          "text": [
            "Training Accuracy: 0.9916615194564546\n"
          ]
        }
      ],
      "source": [
        "rf_model= RandomForestClassifier(n_estimators = 100)  \n",
        "rf_model.fit(X_train, y_train)  \n",
        "rf_train = rf_model.score(X_train,y_train)\n",
        "print('Training Accuracy:',rf_train)"
      ]
    },
    {
      "cell_type": "code",
      "execution_count": null,
      "metadata": {
        "colab": {
          "base_uri": "https://localhost:8080/"
        },
        "id": "2Ysxr6XJrR5Z",
        "outputId": "6626472f-1272-434a-9c17-d4e63dd64347"
      },
      "outputs": [
        {
          "output_type": "stream",
          "name": "stdout",
          "text": [
            "Testing Accuracy: 0.9517923362175525\n"
          ]
        }
      ],
      "source": [
        "rf_test = rf_model.score(X_test,y_test)\n",
        "print('Testing Accuracy:', rf_test)"
      ]
    },
    {
      "cell_type": "code",
      "execution_count": null,
      "metadata": {
        "id": "drBeUCi-rYZ0"
      },
      "outputs": [],
      "source": [
        "rf_pred= rf_model.predict(X_test)"
      ]
    },
    {
      "cell_type": "code",
      "execution_count": null,
      "metadata": {
        "colab": {
          "base_uri": "https://localhost:8080/",
          "height": 551
        },
        "id": "lmOyZ2kTrYdz",
        "outputId": "22af7b47-04df-44ca-fe15-56b110bdf13d"
      },
      "outputs": [
        {
          "output_type": "display_data",
          "data": {
            "text/plain": [
              "<Figure size 720x576 with 2 Axes>"
            ],
            "image/png": "[encoded data removed]"
          },
          "metadata": {
            "needs_background": "light"
          }
        }
      ],
      "source": [
        "plt.figure(figsize=(10,8))\n",
        "fx=sns.heatmap(confusion_matrix(y_test,rf_pred), annot=True, fmt=\".2f\",cmap=\"GnBu\")\n",
        "fx.set_title('Confusion Matrix \\n');\n",
        "fx.set_xlabel('\\n Predicted Correctness\\n')\n",
        "fx.set_ylabel('Actual Correctness\\n');\n",
        "fx.xaxis.set_ticklabels(['Correct','Incorrect'])\n",
        "fx.yaxis.set_ticklabels(['Correct','Incorrect'])\n",
        "plt.show()"
      ]
    },
    {
      "cell_type": "code",
      "execution_count": null,
      "metadata": {
        "colab": {
          "base_uri": "https://localhost:8080/"
        },
        "id": "SvHyDnTxrzzY",
        "outputId": "18bc84c6-219b-4b8c-dea2-5133ff1d3010"
      },
      "outputs": [
        {
          "output_type": "stream",
          "name": "stdout",
          "text": [
            "recall: 0.9425837320574163\n",
            "Precision: 0.9633251833740831\n",
            "F1 score: 0.9528415961305925\n",
            "Accuracy: 0.9517923362175525\n"
          ]
        }
      ],
      "source": [
        "print('recall:',recall_score(y_test, rf_pred))\n",
        "print('Precision:',precision_score(y_test, rf_pred))\n",
        "print('F1 score:', f1_score(y_test, rf_pred))\n",
        "print('Accuracy:',accuracy_score(y_test, rf_pred))"
      ]
    },
    {
      "cell_type": "markdown",
      "metadata": {
        "id": "4uNPbuTc1EjD"
      },
      "source": [
        "### Decision Tree"
      ]
    },
    {
      "cell_type": "code",
      "execution_count": null,
      "metadata": {
        "colab": {
          "base_uri": "https://localhost:8080/"
        },
        "id": "zGXGko8LsCyh",
        "outputId": "196d8c75-850e-4bf5-807c-afca0e736dcc"
      },
      "outputs": [
        {
          "output_type": "stream",
          "name": "stdout",
          "text": [
            "Training Accuracy: 0.9916615194564546\n"
          ]
        }
      ],
      "source": [
        "dt_model = DecisionTreeClassifier()\n",
        "dt_model.fit(X_train, y_train)  \n",
        "dt_train = dt_model.score(X_train,y_train)\n",
        "print('Training Accuracy:',dt_train)"
      ]
    },
    {
      "cell_type": "code",
      "execution_count": null,
      "metadata": {
        "colab": {
          "base_uri": "https://localhost:8080/"
        },
        "id": "IcRWrQOQs9JO",
        "outputId": "e7a59bfb-3b7f-4c88-f1c3-1fd5832272de"
      },
      "outputs": [
        {
          "output_type": "stream",
          "name": "stdout",
          "text": [
            "Testing Accuracy: 0.9517923362175525\n"
          ]
        }
      ],
      "source": [
        "dt_test = dt_model.score(X_test,y_test)\n",
        "print('Testing Accuracy:', dt_test)"
      ]
    },
    {
      "cell_type": "code",
      "execution_count": null,
      "metadata": {
        "id": "ONdfq92otMpk"
      },
      "outputs": [],
      "source": [
        "dt_pred= dt_model.predict(X_test)"
      ]
    },
    {
      "cell_type": "code",
      "execution_count": null,
      "metadata": {
        "colab": {
          "base_uri": "https://localhost:8080/",
          "height": 551
        },
        "id": "CGb1zuf8tTLN",
        "outputId": "01dc2378-d366-419a-c234-d091a739db6f"
      },
      "outputs": [
        {
          "output_type": "display_data",
          "data": {
            "text/plain": [
              "<Figure size 720x576 with 2 Axes>"
            ],
            "image/png": "[encoded data removed]"
          },
          "metadata": {
            "needs_background": "light"
          }
        }
      ],
      "source": [
        "plt.figure(figsize=(10,8))\n",
        "fx=sns.heatmap(confusion_matrix(y_test,dt_pred), annot=True, fmt=\".2f\",cmap=\"GnBu\")\n",
        "fx.set_title('Confusion Matrix \\n');\n",
        "fx.set_xlabel('\\n Predicted Correctness\\n')\n",
        "fx.set_ylabel('Actual Correctness\\n');\n",
        "fx.xaxis.set_ticklabels(['Correct','Incorrect'])\n",
        "fx.yaxis.set_ticklabels(['Correct','Incorrect'])\n",
        "plt.show()"
      ]
    },
    {
      "cell_type": "code",
      "execution_count": null,
      "metadata": {
        "colab": {
          "base_uri": "https://localhost:8080/"
        },
        "id": "NKGSXb9YtZtp",
        "outputId": "6114cc5e-10c8-4ad4-bd16-01d0055329b2"
      },
      "outputs": [
        {
          "output_type": "stream",
          "name": "stdout",
          "text": [
            "recall: 0.9449760765550239\n",
            "Precision: 0.9610705596107056\n",
            "F1 score: 0.9529553679131484\n",
            "Accuracy: 0.9517923362175525\n"
          ]
        }
      ],
      "source": [
        "print('recall:',recall_score(y_test, dt_pred))\n",
        "print('Precision:',precision_score(y_test, dt_pred))\n",
        "print('F1 score:', f1_score(y_test, dt_pred))\n",
        "print('Accuracy:',accuracy_score(y_test, dt_pred))"
      ]
    },
    {
      "cell_type": "markdown",
      "metadata": {
        "id": "Ym_yk9Tt1Mzo"
      },
      "source": [
        "### Multinomial Naive Bayes"
      ]
    },
    {
      "cell_type": "code",
      "execution_count": null,
      "metadata": {
        "colab": {
          "base_uri": "https://localhost:8080/"
        },
        "id": "ks_VKIHrvx7_",
        "outputId": "5ad22641-bf5b-46ad-e719-21add1a5c39a"
      },
      "outputs": [
        {
          "output_type": "stream",
          "name": "stdout",
          "text": [
            "Training Accuracy: 0.5188387893761581\n"
          ]
        }
      ],
      "source": [
        "mnb_model = MultinomialNB(alpha=0.15)\n",
        "mnb_model.fit(X_train, y_train)  \n",
        "mnb_train = mnb_model.score(X_train,y_train)\n",
        "print('Training Accuracy:',mnb_train)"
      ]
    },
    {
      "cell_type": "code",
      "execution_count": null,
      "metadata": {
        "colab": {
          "base_uri": "https://localhost:8080/"
        },
        "id": "D0ZCKuOfwcMF",
        "outputId": "cd7ce81c-0305-44c5-e945-a6a5002a85aa"
      },
      "outputs": [
        {
          "output_type": "stream",
          "name": "stdout",
          "text": [
            "Testing Accuracy: 0.4919653893695921\n"
          ]
        }
      ],
      "source": [
        "mnb_test = mnb_model.score(X_test,y_test)\n",
        "print('Testing Accuracy:', mnb_test)"
      ]
    },
    {
      "cell_type": "code",
      "execution_count": null,
      "metadata": {
        "id": "6Be7TEoewgKI"
      },
      "outputs": [],
      "source": [
        "mnb_pred= mnb_model.predict(X_test)"
      ]
    },
    {
      "cell_type": "code",
      "execution_count": null,
      "metadata": {
        "colab": {
          "base_uri": "https://localhost:8080/",
          "height": 551
        },
        "id": "1hPKJz6Gwjhi",
        "outputId": "1ebf6461-cd85-4e9c-ec66-2fa61931103a"
      },
      "outputs": [
        {
          "output_type": "display_data",
          "data": {
            "text/plain": [
              "<Figure size 720x576 with 2 Axes>"
            ],
            "image/png": "[encoded data removed]"
          },
          "metadata": {
            "needs_background": "light"
          }
        }
      ],
      "source": [
        "plt.figure(figsize=(10,8))\n",
        "fx=sns.heatmap(confusion_matrix(y_test,mnb_pred), annot=True, fmt=\".2f\",cmap=\"GnBu\")\n",
        "fx.set_title('Confusion Matrix \\n');\n",
        "fx.set_xlabel('\\n Predicted Correctness\\n')\n",
        "fx.set_ylabel('Actual Correctness\\n');\n",
        "fx.xaxis.set_ticklabels(['Correct','Incorrect'])\n",
        "fx.yaxis.set_ticklabels(['Correct','Incorrect'])\n",
        "plt.show()\n"
      ]
    },
    {
      "cell_type": "code",
      "execution_count": null,
      "metadata": {
        "colab": {
          "base_uri": "https://localhost:8080/"
        },
        "id": "fDDA-qREwl9v",
        "outputId": "bf3c9eb5-828e-4b65-c794-57a733bc98d1"
      },
      "outputs": [
        {
          "output_type": "stream",
          "name": "stdout",
          "text": [
            "recall: 0.4449760765550239\n",
            "Precision: 0.5095890410958904\n",
            "F1 score: 0.47509578544061304\n",
            "Accuracy: 0.4919653893695921\n"
          ]
        }
      ],
      "source": [
        "print('recall:',recall_score(y_test, mnb_pred))\n",
        "print('Precision:',precision_score(y_test, mnb_pred))\n",
        "print('F1 score:', f1_score(y_test, mnb_pred))\n",
        "print('Accuracy:',accuracy_score(y_test, mnb_pred))"
      ]
    },
    {
      "cell_type": "code",
      "source": [
        "import numpy as np\n",
        "import matplotlib.pyplot as plt\n",
        "from sklearn.metrics import roc_curve, auc\n",
        "\n",
        "# Define list of models\n",
        "models = [knn_model, lr_model, mnb_model,rf_model , dt_model ]\n",
        "\n",
        "# Define colors for each model's curve\n",
        "colors = ['red', 'blue', 'green','yellow','pink' ]\n",
        "\n",
        "# Initialize plot\n",
        "plt.figure(figsize=(8, 8))\n",
        "\n",
        "# Plot ROC curve for each model\n",
        "for i, model in enumerate(models):\n",
        "    y_score = model.predict_proba(X_test)[:, 1]\n",
        "    fpr, tpr, _ = roc_curve(y_test, y_score)\n",
        "    roc_auc = auc(fpr, tpr)\n",
        "    plt.plot(fpr, tpr, color=colors[i], lw=2, label='Model %d (AUC = %0.2f)' % (i+1, roc_auc))\n",
        "\n",
        "# Plot random guessing line\n",
        "plt.plot([0, 1], [0, 1], color='gray', lw=2, linestyle='--')\n",
        "\n",
        "# Set plot properties\n",
        "plt.xlim([0.0, 1.0])\n",
        "plt.ylim([0.0, 1.0])\n",
        "plt.xlabel('False Positive Rate')\n",
        "plt.ylabel('True Positive Rate')\n",
        "plt.title('Receiver Operating Characteristic')\n",
        "plt.legend(loc='lower right')\n",
        "\n",
        "# Show plot\n",
        "plt.show()\n"
      ],
      "metadata": {
        "colab": {
          "base_uri": "https://localhost:8080/",
          "height": 513
        },
        "id": "DUc5zm5-WvhT",
        "outputId": "3bfe2e5d-0b1c-46b4-cbb5-2b5b54c6aeb9"
      },
      "execution_count": null,
      "outputs": [
        {
          "output_type": "display_data",
          "data": {
            "text/plain": [
              "<Figure size 576x576 with 1 Axes>"
            ],
            "image/png": "[encoded data removed]"
          },
          "metadata": {
            "needs_background": "light"
          }
        }
      ]
    },
    {
      "cell_type": "code",
      "source": [
        "import numpy as np\n",
        "import matplotlib.pyplot as plt\n",
        "from sklearn.metrics import precision_recall_curve, average_precision_score\n",
        "\n",
        "# Define list of models\n",
        "models = [knn_model, lr_model, mnb_model,rf_model , dt_model ]\n",
        "\n",
        "# Define colors for each model's curve\n",
        "colors = ['red', 'blue', 'green','yellow','pink' ]\n",
        "\n",
        "# Initialize plot\n",
        "plt.figure(figsize=(8, 8))\n",
        "\n",
        "# Plot precision-recall curve for each model\n",
        "for i, model in enumerate(models):\n",
        "    y_score = model.predict_proba(X_test)[:, 1]\n",
        "    precision, recall, _ = precision_recall_curve(y_test, y_score)\n",
        "    average_precision = average_precision_score(y_test, y_score)\n",
        "    plt.step(recall, precision, color=colors[i], alpha=0.2, where='post',\n",
        "             label='Model %d (AP = %0.2f)' % (i+1, average_precision))\n",
        "    plt.fill_between(recall, precision, step='post', alpha=0.2, color=colors[i])\n",
        "\n",
        "# Set plot properties \n",
        "plt.xlabel('Recall')\n",
        "plt.ylabel('Precision')\n",
        "plt.ylim([0.0, 1.05])\n",
        "plt.xlim([0.0, 1.0])\n",
        "plt.title('Precision-Recall Curve')\n",
        "plt.legend(loc='lower left')\n",
        "\n",
        "# Show plot\n",
        "plt.show()"
      ],
      "metadata": {
        "colab": {
          "base_uri": "https://localhost:8080/",
          "height": 513
        },
        "id": "ujlJu9lGYF2H",
        "outputId": "161372a3-f9ee-4a29-940b-14b4618b26bd"
      },
      "execution_count": null,
      "outputs": [
        {
          "output_type": "display_data",
          "data": {
            "text/plain": [
              "<Figure size 576x576 with 1 Axes>"
            ],
            "image/png": "[encoded data removed]"
          },
          "metadata": {
            "needs_background": "light"
          }
        }
      ]
    },
    {
      "cell_type": "markdown",
      "metadata": {
        "id": "glCHMprz5ZKe"
      },
      "source": [
        "# **BAGGING CLASSFIER**"
      ]
    },
    {
      "cell_type": "code",
      "execution_count": null,
      "metadata": {
        "id": "k4p9FDSGtiet",
        "colab": {
          "base_uri": "https://localhost:8080/"
        },
        "outputId": "2db006ae-9801-4c47-a29c-409aca06ffdf"
      },
      "outputs": [
        {
          "output_type": "stream",
          "name": "stderr",
          "text": [
            "/usr/local/lib/python3.9/dist-packages/sklearn/ensemble/_base.py:166: FutureWarning: `base_estimator` was renamed to `estimator` in version 1.2 and will be removed in 1.4.\n",
            "  warnings.warn(\n"
          ]
        }
      ],
      "source": [
        "# define a decision tree classifier as the base estimator\n",
        "base_estimator = DecisionTreeClassifier()\n",
        "\n",
        "# define the bagging classifier with 100 estimators\n",
        "bagging = BaggingClassifier(base_estimator=base_estimator, n_estimators=100, random_state=42)\n",
        "\n",
        "# train the bagging classifier on the training data\n",
        "b_train = bagging.fit(X_train, y_train)"
      ]
    },
    {
      "cell_type": "code",
      "execution_count": null,
      "metadata": {
        "id": "FwR4apCSp1Wy",
        "colab": {
          "base_uri": "https://localhost:8080/"
        },
        "outputId": "bb686c61-1112-4a0f-9479-079561119df5"
      },
      "outputs": [
        {
          "output_type": "stream",
          "name": "stdout",
          "text": [
            "Testing Accuracy: 0.9542645241038319\n"
          ]
        }
      ],
      "source": [
        "b_test = bagging.score(X_test,y_test)\n",
        "print('Testing Accuracy:', b_test)"
      ]
    },
    {
      "cell_type": "code",
      "execution_count": null,
      "metadata": {
        "id": "FGbMou65p1Wy"
      },
      "outputs": [],
      "source": [
        "b_pred= bagging.predict(X_test)"
      ]
    },
    {
      "cell_type": "code",
      "execution_count": null,
      "metadata": {
        "id": "tK2Vui8Gp1Wy",
        "colab": {
          "base_uri": "https://localhost:8080/",
          "height": 551
        },
        "outputId": "86d06599-99dc-4c0b-c14f-143d72454fe8"
      },
      "outputs": [
        {
          "output_type": "display_data",
          "data": {
            "text/plain": [
              "<Figure size 720x576 with 2 Axes>"
            ],
            "image/png": "[encoded data removed]"
          },
          "metadata": {
            "needs_background": "light"
          }
        }
      ],
      "source": [
        "plt.figure(figsize=(10,8))\n",
        "fx=sns.heatmap(confusion_matrix(y_test,b_pred), annot=True, fmt=\".2f\",cmap=\"GnBu\")\n",
        "fx.set_title('Confusion Matrix \\n');\n",
        "fx.set_xlabel('\\n Predicted Correctness\\n')\n",
        "fx.set_ylabel('Actual Correctness\\n');\n",
        "fx.xaxis.set_ticklabels(['Correct','Incorrect'])\n",
        "fx.yaxis.set_ticklabels(['Correct','Incorrect'])\n",
        "plt.show()"
      ]
    },
    {
      "cell_type": "code",
      "execution_count": null,
      "metadata": {
        "id": "zn_e1WVbp1Wz",
        "colab": {
          "base_uri": "https://localhost:8080/"
        },
        "outputId": "d68ccbd7-474f-4724-f02e-c3c4ab8d957f"
      },
      "outputs": [
        {
          "output_type": "stream",
          "name": "stdout",
          "text": [
            "recall: 0.9425837320574163\n",
            "Precision: 0.9680589680589681\n",
            "F1 score: 0.9551515151515151\n",
            "Accuracy: 0.9542645241038319\n"
          ]
        }
      ],
      "source": [
        "print('recall:',recall_score(y_test, b_pred))\n",
        "print('Precision:',precision_score(y_test, b_pred))\n",
        "print('F1 score:', f1_score(y_test, b_pred))\n",
        "print('Accuracy:',accuracy_score(y_test, b_pred))"
      ]
    },
    {
      "cell_type": "markdown",
      "metadata": {
        "id": "tOCC8Q6e5Tgc"
      },
      "source": [
        "# **STACKING CLASSIFIER**"
      ]
    },
    {
      "cell_type": "code",
      "execution_count": null,
      "metadata": {
        "id": "SK7Ef6Kgyx5m"
      },
      "outputs": [],
      "source": [
        "# define the base models\n",
        "base_models = [('random_forest', RandomForestClassifier(n_estimators=100, random_state=42)),\n",
        "               ('gradient_boosting', GradientBoostingClassifier(n_estimators=100, random_state=42))]\n",
        "\n",
        "# define the meta model\n",
        "meta_model = LogisticRegression()\n",
        "\n",
        "# define the stacking classifier\n",
        "stacking = StackingClassifier(estimators=base_models, final_estimator=meta_model, cv=KFold(n_splits=5))\n",
        "\n",
        "# fit the stacking classifier on the training data\n",
        "s_train=stacking.fit(X_train, y_train)"
      ]
    },
    {
      "cell_type": "code",
      "execution_count": null,
      "metadata": {
        "id": "dD7InvRyq9YG",
        "colab": {
          "base_uri": "https://localhost:8080/"
        },
        "outputId": "fc726397-f78a-4a7e-acd2-5db57128fc0b"
      },
      "outputs": [
        {
          "output_type": "stream",
          "name": "stdout",
          "text": [
            "Testing Accuracy: 0.9542645241038319\n"
          ]
        }
      ],
      "source": [
        "s_test = stacking.score(X_test,y_test)\n",
        "print('Testing Accuracy:', s_test)"
      ]
    },
    {
      "cell_type": "code",
      "execution_count": null,
      "metadata": {
        "id": "xQarpDq1q9YG"
      },
      "outputs": [],
      "source": [
        "s_pred= stacking.predict(X_test)"
      ]
    },
    {
      "cell_type": "code",
      "execution_count": null,
      "metadata": {
        "id": "59cInmr-q9YG",
        "colab": {
          "base_uri": "https://localhost:8080/",
          "height": 551
        },
        "outputId": "95b082c8-69df-48a9-81a3-71b5c9d2972e"
      },
      "outputs": [
        {
          "output_type": "display_data",
          "data": {
            "text/plain": [
              "<Figure size 720x576 with 2 Axes>"
            ],
            "image/png": "[encoded data removed]"
          },
          "metadata": {
            "needs_background": "light"
          }
        }
      ],
      "source": [
        "plt.figure(figsize=(10,8))\n",
        "fx=sns.heatmap(confusion_matrix(y_test,s_pred), annot=True, fmt=\".2f\",cmap=\"GnBu\")\n",
        "fx.set_title('Confusion Matrix \\n');\n",
        "fx.set_xlabel('\\n Predicted Correctness\\n')\n",
        "fx.set_ylabel('Actual Correctness\\n');\n",
        "fx.xaxis.set_ticklabels(['Correct','Incorrect'])\n",
        "fx.yaxis.set_ticklabels(['Correct','Incorrect'])\n",
        "plt.show()"
      ]
    },
    {
      "cell_type": "code",
      "execution_count": null,
      "metadata": {
        "id": "h-9fAvVLq9YH",
        "colab": {
          "base_uri": "https://localhost:8080/"
        },
        "outputId": "d7aa3b17-9718-496d-f57a-1ffb0bb465c9"
      },
      "outputs": [
        {
          "output_type": "stream",
          "name": "stdout",
          "text": [
            "recall: 0.9449760765550239\n",
            "Precision: 0.9657701711491442\n",
            "F1 score: 0.9552599758162031\n",
            "Accuracy: 0.9542645241038319\n"
          ]
        }
      ],
      "source": [
        "print('recall:',recall_score(y_test, s_pred))\n",
        "print('Precision:',precision_score(y_test, s_pred))\n",
        "print('F1 score:', f1_score(y_test, s_pred))\n",
        "print('Accuracy:',accuracy_score(y_test, s_pred))"
      ]
    },
    {
      "cell_type": "markdown",
      "metadata": {
        "id": "PLqw3SpZ5JKs"
      },
      "source": [
        "# **VOTING CLASSIFIER**"
      ]
    },
    {
      "cell_type": "code",
      "execution_count": null,
      "metadata": {
        "id": "zSkD580c48jw",
        "colab": {
          "base_uri": "https://localhost:8080/",
          "height": 271
        },
        "outputId": "e97d4a20-6dac-4cd9-88e7-871a70edbfec"
      },
      "outputs": [
        {
          "output_type": "stream",
          "name": "stderr",
          "text": [
            "/usr/local/lib/python3.9/dist-packages/sklearn/linear_model/_logistic.py:458: ConvergenceWarning: lbfgs failed to converge (status=1):\n",
            "STOP: TOTAL NO. of ITERATIONS REACHED LIMIT.\n",
            "\n",
            "Increase the number of iterations (max_iter) or scale the data as shown in:\n",
            "    https://scikit-learn.org/stable/modules/preprocessing.html\n",
            "Please also refer to the documentation for alternative solver options:\n",
            "    https://scikit-learn.org/stable/modules/linear_model.html#logistic-regression\n",
            "  n_iter_i = _check_optimize_result(\n"
          ]
        },
        {
          "output_type": "execute_result",
          "data": {
            "text/plain": [
              "VotingClassifier(estimators=[('lr', LogisticRegression(random_state=1)),\n",
              "                             ('nb', GaussianNB()),\n",
              "                             ('knn', KNeighborsClassifier(n_neighbors=3))])"
            ],
            "text/html": [
              "<style>#sk-container-id-1 {color: black;background-color: white;}#sk-container-id-1 pre{padding: 0;}#sk-container-id-1 div.sk-toggleable {background-color: white;}#sk-container-id-1 label.sk-toggleable__label {cursor: pointer;display: block;width: 100%;margin-bottom: 0;padding: 0.3em;box-sizing: border-box;text-align: center;}#sk-container-id-1 label.sk-toggleable__label-arrow:before {content: \"▸\";float: left;margin-right: 0.25em;color: #696969;}#sk-container-id-1 label.sk-toggleable__label-arrow:hover:before {color: black;}#sk-container-id-1 div.sk-estimator:hover label.sk-toggleable__label-arrow:before {color: black;}#sk-container-id-1 div.sk-toggleable__content {max-height: 0;max-width: 0;overflow: hidden;text-align: left;background-color: #f0f8ff;}#sk-container-id-1 div.sk-toggleable__content pre {margin: 0.2em;color: black;border-radius: 0.25em;background-color: #f0f8ff;}#sk-container-id-1 input.sk-toggleable__control:checked~div.sk-toggleable__content {max-height: 200px;max-width: 100%;overflow: auto;}#sk-container-id-1 input.sk-toggleable__control:checked~label.sk-toggleable__label-arrow:before {content: \"▾\";}#sk-container-id-1 div.sk-estimator input.sk-toggleable__control:checked~label.sk-toggleable__label {background-color: #d4ebff;}#sk-container-id-1 div.sk-label input.sk-toggleable__control:checked~label.sk-toggleable__label {background-color: #d4ebff;}#sk-container-id-1 input.sk-hidden--visually {border: 0;clip: rect(1px 1px 1px 1px);clip: rect(1px, 1px, 1px, 1px);height: 1px;margin: -1px;overflow: hidden;padding: 0;position: absolute;width: 1px;}#sk-container-id-1 div.sk-estimator {font-family: monospace;background-color: #f0f8ff;border: 1px dotted black;border-radius: 0.25em;box-sizing: border-box;margin-bottom: 0.5em;}#sk-container-id-1 div.sk-estimator:hover {background-color: #d4ebff;}#sk-container-id-1 div.sk-parallel-item::after {content: \"\";width: 100%;border-bottom: 1px solid gray;flex-grow: 1;}#sk-container-id-1 div.sk-label:hover label.sk-toggleable__label {background-color: #d4ebff;}#sk-container-id-1 div.sk-serial::before {content: \"\";position: absolute;border-left: 1px solid gray;box-sizing: border-box;top: 0;bottom: 0;left: 50%;z-index: 0;}#sk-container-id-1 div.sk-serial {display: flex;flex-direction: column;align-items: center;background-color: white;padding-right: 0.2em;padding-left: 0.2em;position: relative;}#sk-container-id-1 div.sk-item {position: relative;z-index: 1;}#sk-container-id-1 div.sk-parallel {display: flex;align-items: stretch;justify-content: center;background-color: white;position: relative;}#sk-container-id-1 div.sk-item::before, #sk-container-id-1 div.sk-parallel-item::before {content: \"\";position: absolute;border-left: 1px solid gray;box-sizing: border-box;top: 0;bottom: 0;left: 50%;z-index: -1;}#sk-container-id-1 div.sk-parallel-item {display: flex;flex-direction: column;z-index: 1;position: relative;background-color: white;}#sk-container-id-1 div.sk-parallel-item:first-child::after {align-self: flex-end;width: 50%;}#sk-container-id-1 div.sk-parallel-item:last-child::after {align-self: flex-start;width: 50%;}#sk-container-id-1 div.sk-parallel-item:only-child::after {width: 0;}#sk-container-id-1 div.sk-dashed-wrapped {border: 1px dashed gray;margin: 0 0.4em 0.5em 0.4em;box-sizing: border-box;padding-bottom: 0.4em;background-color: white;}#sk-container-id-1 div.sk-label label {font-family: monospace;font-weight: bold;display: inline-block;line-height: 1.2em;}#sk-container-id-1 div.sk-label-container {text-align: center;}#sk-container-id-1 div.sk-container {/* jupyter's `normalize.less` sets `[hidden] { display: none; }` but bootstrap.min.css set `[hidden] { display: none !important; }` so we also need the `!important` here to be able to override the default hidden behavior on the sphinx rendered scikit-learn.org. See: https://github.com/scikit-learn/scikit-learn/issues/21755 */display: inline-block !important;position: relative;}#sk-container-id-1 div.sk-text-repr-fallback {display: none;}</style><div id=\"sk-container-id-1\" class=\"sk-top-container\"><div class=\"sk-text-repr-fallback\"><pre>VotingClassifier(estimators=[(&#x27;lr&#x27;, LogisticRegression(random_state=1)),\n",
              "                             (&#x27;nb&#x27;, GaussianNB()),\n",
              "                             (&#x27;knn&#x27;, KNeighborsClassifier(n_neighbors=3))])</pre><b>In a Jupyter environment, please rerun this cell to show the HTML representation or trust the notebook. <br />On GitHub, the HTML representation is unable to render, please try loading this page with nbviewer.org.</b></div><div class=\"sk-container\" hidden><div class=\"sk-item sk-dashed-wrapped\"><div class=\"sk-label-container\"><div class=\"sk-label sk-toggleable\"><input class=\"sk-toggleable__control sk-hidden--visually\" id=\"sk-estimator-id-1\" type=\"checkbox\" ><label for=\"sk-estimator-id-1\" class=\"sk-toggleable__label sk-toggleable__label-arrow\">VotingClassifier</label><div class=\"sk-toggleable__content\"><pre>VotingClassifier(estimators=[(&#x27;lr&#x27;, LogisticRegression(random_state=1)),\n",
              "                             (&#x27;nb&#x27;, GaussianNB()),\n",
              "                             (&#x27;knn&#x27;, KNeighborsClassifier(n_neighbors=3))])</pre></div></div></div><div class=\"sk-parallel\"><div class=\"sk-parallel-item\"><div class=\"sk-item\"><div class=\"sk-label-container\"><div class=\"sk-label sk-toggleable\"><label>lr</label></div></div><div class=\"sk-serial\"><div class=\"sk-item\"><div class=\"sk-estimator sk-toggleable\"><input class=\"sk-toggleable__control sk-hidden--visually\" id=\"sk-estimator-id-2\" type=\"checkbox\" ><label for=\"sk-estimator-id-2\" class=\"sk-toggleable__label sk-toggleable__label-arrow\">LogisticRegression</label><div class=\"sk-toggleable__content\"><pre>LogisticRegression(random_state=1)</pre></div></div></div></div></div></div><div class=\"sk-parallel-item\"><div class=\"sk-item\"><div class=\"sk-label-container\"><div class=\"sk-label sk-toggleable\"><label>nb</label></div></div><div class=\"sk-serial\"><div class=\"sk-item\"><div class=\"sk-estimator sk-toggleable\"><input class=\"sk-toggleable__control sk-hidden--visually\" id=\"sk-estimator-id-3\" type=\"checkbox\" ><label for=\"sk-estimator-id-3\" class=\"sk-toggleable__label sk-toggleable__label-arrow\">GaussianNB</label><div class=\"sk-toggleable__content\"><pre>GaussianNB()</pre></div></div></div></div></div></div><div class=\"sk-parallel-item\"><div class=\"sk-item\"><div class=\"sk-label-container\"><div class=\"sk-label sk-toggleable\"><label>knn</label></div></div><div class=\"sk-serial\"><div class=\"sk-item\"><div class=\"sk-estimator sk-toggleable\"><input class=\"sk-toggleable__control sk-hidden--visually\" id=\"sk-estimator-id-4\" type=\"checkbox\" ><label for=\"sk-estimator-id-4\" class=\"sk-toggleable__label sk-toggleable__label-arrow\">KNeighborsClassifier</label><div class=\"sk-toggleable__content\"><pre>KNeighborsClassifier(n_neighbors=3)</pre></div></div></div></div></div></div></div></div></div></div>"
            ]
          },
          "metadata": {},
          "execution_count": 72
        }
      ],
      "source": [
        "# Define the individual classifiers\n",
        "clf1 = LogisticRegression(random_state=1)\n",
        "clf2 = GaussianNB()\n",
        "clf3 = KNeighborsClassifier(n_neighbors=3)\n",
        "\n",
        "# Define the voting classifier\n",
        "voting_clf = VotingClassifier(estimators=[('lr', clf1), ('nb', clf2), ('knn', clf3)], voting='hard')\n",
        "\n",
        "# Train the voting classifier on the training data\n",
        "voting_clf.fit(X_train, y_train)\n"
      ]
    },
    {
      "cell_type": "code",
      "execution_count": null,
      "metadata": {
        "id": "K8QNgac5uOtP",
        "colab": {
          "base_uri": "https://localhost:8080/"
        },
        "outputId": "e17b9526-a28a-445a-f9c9-61873db83738"
      },
      "outputs": [
        {
          "output_type": "stream",
          "name": "stdout",
          "text": [
            "Testing Accuracy: 0.6291718170580964\n"
          ]
        }
      ],
      "source": [
        "v_test = voting_clf.score(X_test,y_test)\n",
        "print('Testing Accuracy:', v_test)"
      ]
    },
    {
      "cell_type": "code",
      "execution_count": null,
      "metadata": {
        "id": "oicUIXmJuOtP"
      },
      "outputs": [],
      "source": [
        "v_pred= voting_clf.predict(X_test)"
      ]
    },
    {
      "cell_type": "code",
      "execution_count": null,
      "metadata": {
        "id": "MAuh7O2LuOtQ",
        "colab": {
          "base_uri": "https://localhost:8080/",
          "height": 551
        },
        "outputId": "0c2d22a9-df40-4564-b3a3-37f72f272385"
      },
      "outputs": [
        {
          "output_type": "display_data",
          "data": {
            "text/plain": [
              "<Figure size 720x576 with 2 Axes>"
            ],
            "image/png": "[encoded data removed]"
          },
          "metadata": {
            "needs_background": "light"
          }
        }
      ],
      "source": [
        "plt.figure(figsize=(10,8))\n",
        "fx=sns.heatmap(confusion_matrix(y_test,v_pred), annot=True, fmt=\".2f\",cmap=\"GnBu\")\n",
        "fx.set_title('Confusion Matrix \\n');\n",
        "fx.set_xlabel('\\n Predicted Correctness\\n')\n",
        "fx.set_ylabel('Actual Correctness\\n');\n",
        "fx.xaxis.set_ticklabels(['Correct','Incorrect'])\n",
        "fx.yaxis.set_ticklabels(['Correct','Incorrect'])\n",
        "plt.show()"
      ]
    },
    {
      "cell_type": "code",
      "execution_count": null,
      "metadata": {
        "id": "riaQbnczuOtQ",
        "colab": {
          "base_uri": "https://localhost:8080/"
        },
        "outputId": "bbe593ed-6a41-4d18-aff0-a8201eacc625"
      },
      "outputs": [
        {
          "output_type": "stream",
          "name": "stdout",
          "text": [
            "recall: 0.7416267942583732\n",
            "Precision: 0.6175298804780877\n",
            "F1 score: 0.6739130434782609\n",
            "Accuracy: 0.6291718170580964\n"
          ]
        }
      ],
      "source": [
        "print('recall:',recall_score(y_test, v_pred))\n",
        "print('Precision:',precision_score(y_test, v_pred))\n",
        "print('F1 score:', f1_score(y_test, v_pred))\n",
        "print('Accuracy:',accuracy_score(y_test, v_pred))"
      ]
    },
    {
      "cell_type": "markdown",
      "metadata": {
        "id": "KbGfnD81E68d"
      },
      "source": [
        "# **ROC CURVE**"
      ]
    },
    {
      "cell_type": "code",
      "execution_count": null,
      "metadata": {
        "id": "wrm_zBQqEBoz",
        "colab": {
          "base_uri": "https://localhost:8080/",
          "height": 513
        },
        "outputId": "9cc2604c-06fc-4ad2-9fab-7f2ab094a5f9"
      },
      "outputs": [
        {
          "output_type": "display_data",
          "data": {
            "text/plain": [
              "<Figure size 576x576 with 1 Axes>"
            ],
            "image/png": "[encoded data removed]"
          },
          "metadata": {
            "needs_background": "light"
          }
        }
      ],
      "source": [
        "import numpy as np\n",
        "import matplotlib.pyplot as plt\n",
        "from sklearn.metrics import roc_curve, auc\n",
        "\n",
        "# Define list of models\n",
        "models = [knn_model, lr_model, mnb_model]\n",
        "\n",
        "# Define colors for each model's curve\n",
        "colors = ['red', 'blue', 'green', ...]\n",
        "\n",
        "# Initialize plot\n",
        "plt.figure(figsize=(8, 8))\n",
        "\n",
        "# Plot ROC curve for each model\n",
        "for i, model in enumerate(models):\n",
        "    y_score = model.predict_proba(X_test)[:, 1]\n",
        "    fpr, tpr, _ = roc_curve(y_test, y_score)\n",
        "    roc_auc = auc(fpr, tpr)\n",
        "    plt.plot(fpr, tpr, color=colors[i], lw=2, label='Model %d (AUC = %0.2f)' % (i+1, roc_auc))\n",
        "\n",
        "# Plot random guessing line\n",
        "plt.plot([0, 1], [0, 1], color='gray', lw=2, linestyle='--')\n",
        "\n",
        "# Set plot properties\n",
        "plt.xlim([0.0, 1.0])\n",
        "plt.ylim([0.0, 1.0])\n",
        "plt.xlabel('False Positive Rate')\n",
        "plt.ylabel('True Positive Rate')\n",
        "plt.title('Receiver Operating Characteristic')\n",
        "plt.legend(loc='lower right')\n",
        "\n",
        "# Show plot\n",
        "plt.show()\n"
      ]
    },
    {
      "cell_type": "markdown",
      "metadata": {
        "id": "KXP8G0teFoC2"
      },
      "source": [
        "# **Precision-Recall Curve**"
      ]
    },
    {
      "cell_type": "code",
      "execution_count": null,
      "metadata": {
        "id": "QsoZMiHJFpN7",
        "colab": {
          "base_uri": "https://localhost:8080/",
          "height": 513
        },
        "outputId": "9d986da0-89e3-454f-dc48-4e86d78c110a"
      },
      "outputs": [
        {
          "output_type": "display_data",
          "data": {
            "text/plain": [
              "<Figure size 576x576 with 1 Axes>"
            ],
            "image/png": "[encoded data removed]"
          },
          "metadata": {
            "needs_background": "light"
          }
        }
      ],
      "source": [
        "import numpy as np\n",
        "import matplotlib.pyplot as plt\n",
        "from sklearn.metrics import precision_recall_curve, average_precision_score\n",
        "\n",
        "# Define list of models\n",
        "models = [knn_model, lr_model, mnb_model]\n",
        "\n",
        "# Define colors for each model's curve\n",
        "colors = ['red', 'blue', 'green', ...]\n",
        "\n",
        "# Initialize plot\n",
        "plt.figure(figsize=(8, 8))\n",
        "\n",
        "# Plot precision-recall curve for each model\n",
        "for i, model in enumerate(models):\n",
        "    y_score = model.predict_proba(X_test)[:, 1]\n",
        "    precision, recall, _ = precision_recall_curve(y_test, y_score)\n",
        "    average_precision = average_precision_score(y_test, y_score)\n",
        "    plt.step(recall, precision, color=colors[i], alpha=0.2, where='post',\n",
        "             label='Model %d (AP = %0.2f)' % (i+1, average_precision))\n",
        "    plt.fill_between(recall, precision, step='post', alpha=0.2, color=colors[i])\n",
        "\n",
        "# Set plot properties \n",
        "plt.xlabel('Recall')\n",
        "plt.ylabel('Precision')\n",
        "plt.ylim([0.0, 1.05])\n",
        "plt.xlim([0.0, 1.0])\n",
        "plt.title('Precision-Recall Curve')\n",
        "plt.legend(loc='lower left')\n",
        "\n",
        "# Show plot\n",
        "plt.show()\n"
      ]
    }
  ],
  "metadata": {
    "accelerator": "GPU",
    "colab": {
      "provenance": []
    },
    "kernelspec": {
      "display_name": "Python 3",
      "name": "python3"
    }
  },
  "nbformat": 4,
  "nbformat_minor": 0
}